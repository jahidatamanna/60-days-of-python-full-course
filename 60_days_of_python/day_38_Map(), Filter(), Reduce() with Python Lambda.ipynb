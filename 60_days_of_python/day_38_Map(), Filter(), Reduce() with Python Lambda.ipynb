{
 "cells": [
  {
   "cell_type": "code",
   "execution_count": 1,
   "id": "c0df954f-5ded-4360-86c6-65a6e89da878",
   "metadata": {},
   "outputs": [
    {
     "data": {
      "text/plain": [
       "[1, 2, 3, 4]"
      ]
     },
     "execution_count": 1,
     "metadata": {},
     "output_type": "execute_result"
    }
   ],
   "source": [
    "num=[1,2,3,4]\n",
    "num"
   ]
  },
  {
   "cell_type": "code",
   "execution_count": 4,
   "id": "3ec829a4-e219-450f-b093-f2fede9e8011",
   "metadata": {},
   "outputs": [
    {
     "data": {
      "text/plain": [
       "9"
      ]
     },
     "execution_count": 4,
     "metadata": {},
     "output_type": "execute_result"
    }
   ],
   "source": [
    "def sq(x):\n",
    "    return x**2\n",
    "\n",
    "sq(3)"
   ]
  },
  {
   "cell_type": "markdown",
   "id": "587211f2-8429-4ab4-82c9-3617e7745e05",
   "metadata": {},
   "source": [
    "<h2>Map()</h2>\n",
    "<p>when you want to apply a function to each element of an iterable and get a transformed iterable as a result</p>"
   ]
  },
  {
   "cell_type": "code",
   "execution_count": 14,
   "id": "a8e57abb-1355-40f2-a35f-13fd2ff2f1ee",
   "metadata": {},
   "outputs": [
    {
     "data": {
      "text/plain": [
       "[1, 2, 3, 4, 5, 6]"
      ]
     },
     "execution_count": 14,
     "metadata": {},
     "output_type": "execute_result"
    }
   ],
   "source": [
    "num=[1,2,3,4,5,6]\n",
    "num"
   ]
  },
  {
   "cell_type": "code",
   "execution_count": 15,
   "id": "06dbfee7-3d37-4717-a66c-b31ced00094c",
   "metadata": {},
   "outputs": [
    {
     "data": {
      "text/plain": [
       "[1, 4, 9, 16, 25, 36]"
      ]
     },
     "execution_count": 15,
     "metadata": {},
     "output_type": "execute_result"
    }
   ],
   "source": [
    "#map(function,iterable object)\n",
    "num=list(map(lambda x:x**2, num))\n",
    "num "
   ]
  },
  {
   "cell_type": "markdown",
   "id": "62577459-bc06-41fe-934b-fc8456bb8849",
   "metadata": {},
   "source": [
    "<h2>Filter()</h2>\n",
    "<p>use filter when you want to selectively include or exclude elements from an iterable based on a condition </p>"
   ]
  },
  {
   "cell_type": "code",
   "execution_count": 17,
   "id": "bfd5e4ee-cc68-4450-a380-ee594e306763",
   "metadata": {},
   "outputs": [
    {
     "data": {
      "text/plain": [
       "[1, 9, 25]"
      ]
     },
     "execution_count": 17,
     "metadata": {},
     "output_type": "execute_result"
    }
   ],
   "source": [
    "#filter(function,iterable object)\n",
    "num=list(filter(lambda num:num%2==1, num))\n",
    "num"
   ]
  },
  {
   "cell_type": "markdown",
   "id": "b99ca14f-be6a-4699-b347-f03123b9cc8b",
   "metadata": {},
   "source": [
    "<h2>Reduce()</h2>\n",
    "<p>use reduce when you want to successively apply a binary function to the items of an\n",
    "iterable,reducing it to a singke accumulated result</p>"
   ]
  },
  {
   "cell_type": "code",
   "execution_count": 21,
   "id": "22e5ab64-ab6a-44c0-af86-c60a483a4031",
   "metadata": {},
   "outputs": [
    {
     "data": {
      "text/plain": [
       "35"
      ]
     },
     "execution_count": 21,
     "metadata": {},
     "output_type": "execute_result"
    }
   ],
   "source": [
    "#reduce(function,iterable object)\n",
    "from functools import reduce\n",
    "reduce(lambda x,y:x+y,num)"
   ]
  },
  {
   "cell_type": "code",
   "execution_count": 22,
   "id": "fe76f079-635d-4802-9743-66ca5ff68371",
   "metadata": {},
   "outputs": [
    {
     "data": {
      "text/plain": [
       "35"
      ]
     },
     "execution_count": 22,
     "metadata": {},
     "output_type": "execute_result"
    }
   ],
   "source": [
    "sum(num)"
   ]
  },
  {
   "cell_type": "code",
   "execution_count": null,
   "id": "b2f00f01-937d-4f28-a587-add9baca1c41",
   "metadata": {},
   "outputs": [],
   "source": []
  }
 ],
 "metadata": {
  "kernelspec": {
   "display_name": "Python 3 (ipykernel)",
   "language": "python",
   "name": "python3"
  },
  "language_info": {
   "codemirror_mode": {
    "name": "ipython",
    "version": 3
   },
   "file_extension": ".py",
   "mimetype": "text/x-python",
   "name": "python",
   "nbconvert_exporter": "python",
   "pygments_lexer": "ipython3",
   "version": "3.11.7"
  }
 },
 "nbformat": 4,
 "nbformat_minor": 5
}
