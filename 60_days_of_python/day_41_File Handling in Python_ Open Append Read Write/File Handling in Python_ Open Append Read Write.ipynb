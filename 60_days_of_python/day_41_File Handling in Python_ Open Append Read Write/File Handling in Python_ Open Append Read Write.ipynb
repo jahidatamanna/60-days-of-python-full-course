{
 "cells": [
  {
   "cell_type": "markdown",
   "id": "3d108a25-1af3-494a-8556-20c72628e3db",
   "metadata": {},
   "source": [
    "<h2>Example 01: Reading Text from a File</h2>\n",
    "<p>Before reading from a file,you need to make sure the file exists.This example\n",
    "will show you how to open a text file and read its contents line by line,which\n",
    "is useful for processing files that are too large to fit into memory all at once</p>"
   ]
  },
  {
   "cell_type": "code",
   "execution_count": 18,
   "id": "0227ab11-cd4c-41f0-9a63-2de4d985fab1",
   "metadata": {},
   "outputs": [
    {
     "name": "stdout",
     "output_type": "stream",
     "text": [
      "My name is jahida akter tamanna\n"
     ]
    }
   ],
   "source": [
    "with open('pyp.txt','r') as file: #pyp is file name \n",
    "    #read each line in the file one at a time\n",
    "    for line in file:\n",
    "        #process each line\n",
    "        print(line.strip()) # the strip() method removes any leading/trailing whitespace & newlinw characters"
   ]
  },
  {
   "cell_type": "markdown",
   "id": "5a2fc7c9-9aaa-4ae3-8841-fed4b72d7c95",
   "metadata": {},
   "source": [
    "<h2>Example 02: Writing Text to a File</h2>\n",
    "<p>Write strings to a file,which is useful for logging,saving,outputs,etc.we will open a file in write mode(\"w\"),which creates the file if it doesn't exist or truncates it if it does</p>"
   ]
  },
  {
   "cell_type": "code",
   "execution_count": 19,
   "id": "76256b1c-c5f8-430f-af2c-cebbae3e4a6c",
   "metadata": {},
   "outputs": [],
   "source": [
    "lines_to_write=['we are allowing you to learn python,Ai,deep learning']"
   ]
  },
  {
   "cell_type": "code",
   "execution_count": 25,
   "id": "4978b94f-3d55-4ef6-9eee-5701de835fa9",
   "metadata": {},
   "outputs": [],
   "source": [
    "#open the file in write mode('w')\n",
    "with open('pyp2.txt','w')as file:\n",
    "    for line in lines_to_write:\n",
    "        #write each line to the file with a newline character at the end\n",
    "        file.write(line + '\\n')"
   ]
  },
  {
   "cell_type": "markdown",
   "id": "561462cc-b91c-4b5a-97a7-7ed008f722d5",
   "metadata": {},
   "source": [
    "<h2>Example 03: Appending Text to an Existing File </h2>\n",
    "<p>if you want to add text to the end of an existing file without overwriting its contents,you should open the file in append mode('a').this example demonstrates how to oppend multiple lines to an existing file</p>"
   ]
  },
  {
   "cell_type": "code",
   "execution_count": 26,
   "id": "e3a7fcca-59b7-495f-8a0f-beb54084eb65",
   "metadata": {},
   "outputs": [],
   "source": [
    "new_text1=['learn data science smartly.','AI is future.']\n",
    "\n",
    "#open the file in a append mode('a')\n",
    "with open('pyp2.txt','a') as file:\n",
    "    for line in new_text1:\n",
    "        #append each line to the file\n",
    "        file.write(line + '\\n')"
   ]
  },
  {
   "cell_type": "code",
   "execution_count": null,
   "id": "d615c637-002c-40cc-8804-74b084486e51",
   "metadata": {},
   "outputs": [],
   "source": []
  }
 ],
 "metadata": {
  "kernelspec": {
   "display_name": "Python 3 (ipykernel)",
   "language": "python",
   "name": "python3"
  },
  "language_info": {
   "codemirror_mode": {
    "name": "ipython",
    "version": 3
   },
   "file_extension": ".py",
   "mimetype": "text/x-python",
   "name": "python",
   "nbconvert_exporter": "python",
   "pygments_lexer": "ipython3",
   "version": "3.11.7"
  }
 },
 "nbformat": 4,
 "nbformat_minor": 5
}
