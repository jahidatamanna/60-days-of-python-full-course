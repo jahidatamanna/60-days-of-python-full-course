{
 "cells": [
  {
   "cell_type": "markdown",
   "id": "741df969-09da-4a51-a633-25110b55dac5",
   "metadata": {},
   "source": [
    "<h2>Fuction Define</h2>"
   ]
  },
  {
   "cell_type": "code",
   "execution_count": 24,
   "id": "9b649b72-7fbc-4642-aceb-1a307db240be",
   "metadata": {},
   "outputs": [],
   "source": [
    "def dept():\n",
    "    print(\"Data Science\")\n",
    "\n",
    "\n"
   ]
  },
  {
   "cell_type": "markdown",
   "id": "d3cf413b-e4bb-4ec7-894b-fe55cfb72a34",
   "metadata": {},
   "source": [
    "<h2>Function Call </h2>"
   ]
  },
  {
   "cell_type": "code",
   "execution_count": 25,
   "id": "132c3fe3-3356-4fbf-bd22-6e1471c60e8c",
   "metadata": {},
   "outputs": [
    {
     "name": "stdout",
     "output_type": "stream",
     "text": [
      "Data Science\n"
     ]
    }
   ],
   "source": [
    "dept()"
   ]
  },
  {
   "cell_type": "markdown",
   "id": "bb54d779-19ac-4f15-bdf3-125b4f184015",
   "metadata": {},
   "source": [
    "<h2>Parameters</h2>"
   ]
  },
  {
   "cell_type": "code",
   "execution_count": 26,
   "id": "1112b3c6-aafe-4134-ba86-7b4d71eed692",
   "metadata": {},
   "outputs": [],
   "source": [
    "def dept_with_name(name):\n",
    "    print(f'my major is {name}')"
   ]
  },
  {
   "cell_type": "code",
   "execution_count": 27,
   "id": "9b3ff55f-5a12-4105-8dc5-369098f544f4",
   "metadata": {},
   "outputs": [
    {
     "name": "stdout",
     "output_type": "stream",
     "text": [
      "my major is Machine learning and ai\n"
     ]
    }
   ],
   "source": [
    "dept_with_name(\"Machine learning and ai\")"
   ]
  },
  {
   "cell_type": "markdown",
   "id": "38acbf53-6c5a-4ad3-9969-397db655e78e",
   "metadata": {},
   "source": [
    "<h2>Return Statement </h2>"
   ]
  },
  {
   "cell_type": "code",
   "execution_count": 28,
   "id": "188e055b-6d0f-4c84-a681-da215c072721",
   "metadata": {},
   "outputs": [],
   "source": [
    "def name():\n",
    "    print(\"tamanna\")\n",
    "    return 1"
   ]
  },
  {
   "cell_type": "code",
   "execution_count": 29,
   "id": "016e785e-5c42-4fa2-ada7-d8af1c131103",
   "metadata": {},
   "outputs": [
    {
     "name": "stdout",
     "output_type": "stream",
     "text": [
      "tamanna\n"
     ]
    },
    {
     "data": {
      "text/plain": [
       "1"
      ]
     },
     "execution_count": 29,
     "metadata": {},
     "output_type": "execute_result"
    }
   ],
   "source": [
    "name()"
   ]
  },
  {
   "cell_type": "code",
   "execution_count": 30,
   "id": "32275e32-06c1-4164-8b97-299146d51bf4",
   "metadata": {},
   "outputs": [],
   "source": [
    "def name():\n",
    "    return (\"tamanna\")\n",
    "    "
   ]
  },
  {
   "cell_type": "code",
   "execution_count": 31,
   "id": "67833ae7-4a3a-468b-a76a-4fbce3625b5b",
   "metadata": {},
   "outputs": [
    {
     "data": {
      "text/plain": [
       "'tamanna'"
      ]
     },
     "execution_count": 31,
     "metadata": {},
     "output_type": "execute_result"
    }
   ],
   "source": [
    "name()"
   ]
  },
  {
   "cell_type": "code",
   "execution_count": 34,
   "id": "8ac71539-235e-4cc5-b879-f826b4761d81",
   "metadata": {},
   "outputs": [],
   "source": [
    "def name():\n",
    "    return dept()  #call function by usg return"
   ]
  },
  {
   "cell_type": "code",
   "execution_count": 35,
   "id": "cb3cba0d-1f75-48bc-9896-65507263719a",
   "metadata": {},
   "outputs": [
    {
     "name": "stdout",
     "output_type": "stream",
     "text": [
      "Data Science\n"
     ]
    }
   ],
   "source": [
    "name()"
   ]
  },
  {
   "cell_type": "code",
   "execution_count": 36,
   "id": "137a2be0-ee3f-49ae-b803-45ccb0284f40",
   "metadata": {},
   "outputs": [],
   "source": [
    "def sum():\n",
    "    a=20\n",
    "    b=10\n",
    "    result=a+b\n",
    "    return result"
   ]
  },
  {
   "cell_type": "code",
   "execution_count": 37,
   "id": "e08b9eeb-0568-4ad8-9cbb-ea61205fd49b",
   "metadata": {},
   "outputs": [
    {
     "data": {
      "text/plain": [
       "30"
      ]
     },
     "execution_count": 37,
     "metadata": {},
     "output_type": "execute_result"
    }
   ],
   "source": [
    "sum()"
   ]
  },
  {
   "cell_type": "code",
   "execution_count": 38,
   "id": "cae4e4b2-5577-407e-893c-0dc6dfedc116",
   "metadata": {},
   "outputs": [],
   "source": [
    "def sum():\n",
    "    a=20\n",
    "    b=10\n",
    "    return a+b\n",
    "  "
   ]
  },
  {
   "cell_type": "code",
   "execution_count": 39,
   "id": "ce4d50d6-fdc4-43e8-bc30-46589bb7aad1",
   "metadata": {},
   "outputs": [
    {
     "data": {
      "text/plain": [
       "30"
      ]
     },
     "execution_count": 39,
     "metadata": {},
     "output_type": "execute_result"
    }
   ],
   "source": [
    "sum()"
   ]
  },
  {
   "cell_type": "code",
   "execution_count": 46,
   "id": "a9544152-5233-4767-a738-fc2876b790ce",
   "metadata": {},
   "outputs": [],
   "source": [
    "def sum(a,b):\n",
    "    result=a+b\n",
    "    return result"
   ]
  },
  {
   "cell_type": "code",
   "execution_count": 47,
   "id": "b58c317b-d782-448b-a734-5c4ef42b754a",
   "metadata": {},
   "outputs": [
    {
     "data": {
      "text/plain": [
       "25"
      ]
     },
     "execution_count": 47,
     "metadata": {},
     "output_type": "execute_result"
    }
   ],
   "source": [
    "sum(22,3)"
   ]
  },
  {
   "cell_type": "code",
   "execution_count": 48,
   "id": "3cf14223-790f-4899-8a0e-026746a96931",
   "metadata": {},
   "outputs": [
    {
     "data": {
      "text/plain": [
       "15"
      ]
     },
     "execution_count": 48,
     "metadata": {},
     "output_type": "execute_result"
    }
   ],
   "source": [
    "sum(12,3)"
   ]
  },
  {
   "cell_type": "code",
   "execution_count": 77,
   "id": "63afaba9-7abc-40ca-8641-e67d902568ab",
   "metadata": {},
   "outputs": [],
   "source": [
    "def user_input():\n",
    "    x1=int(input())\n",
    "    x2=int(input())\n",
    "    y1=int(input())\n",
    "    y2=int(input())\n",
    "    return(x1,y1),(x2,y2)"
   ]
  },
  {
   "cell_type": "code",
   "execution_count": 78,
   "id": "073e5c68-3839-4111-99a1-8d9dc98e368d",
   "metadata": {},
   "outputs": [
    {
     "name": "stdin",
     "output_type": "stream",
     "text": [
      " 1\n",
      " 2\n",
      " 3\n",
      " 4\n"
     ]
    },
    {
     "data": {
      "text/plain": [
       "((1, 3), (2, 4))"
      ]
     },
     "execution_count": 78,
     "metadata": {},
     "output_type": "execute_result"
    }
   ],
   "source": [
    "user_input()"
   ]
  },
  {
   "cell_type": "code",
   "execution_count": 79,
   "id": "55fd135f-4d61-410a-bb83-192a0001a172",
   "metadata": {},
   "outputs": [],
   "source": [
    "def user_input():\n",
    "    x1=int(input())\n",
    "    x2=int(input())\n",
    "    y1=int(input())\n",
    "    y2=int(input())\n",
    "    return(x1,y1),(x2,y2)"
   ]
  },
  {
   "cell_type": "code",
   "execution_count": 80,
   "id": "6feac7af-f16f-46ab-b2f9-76d019178605",
   "metadata": {},
   "outputs": [
    {
     "name": "stdin",
     "output_type": "stream",
     "text": [
      " 1\n",
      " 2\n",
      " 3\n",
      " 4\n"
     ]
    },
    {
     "data": {
      "text/plain": [
       "((1, 3), (2, 4))"
      ]
     },
     "execution_count": 80,
     "metadata": {},
     "output_type": "execute_result"
    }
   ],
   "source": [
    "user_input()"
   ]
  },
  {
   "cell_type": "code",
   "execution_count": 81,
   "id": "f3657aec-4282-4038-8a55-fb8d2720f8de",
   "metadata": {},
   "outputs": [],
   "source": [
    "def user_input():\n",
    "    x1=int(input())\n",
    "    x2=int(input())\n",
    "    y1=int(input())\n",
    "    y2=int(input())\n",
    "    return(x1,y1),(x2,y2)"
   ]
  },
  {
   "cell_type": "code",
   "execution_count": 82,
   "id": "722638b3-6538-4940-ae46-adfb172db8e3",
   "metadata": {},
   "outputs": [
    {
     "name": "stdin",
     "output_type": "stream",
     "text": [
      " 1\n",
      " 2\n",
      " 3\n",
      " 4\n"
     ]
    },
    {
     "data": {
      "text/plain": [
       "((1, 3), (2, 4))"
      ]
     },
     "execution_count": 82,
     "metadata": {},
     "output_type": "execute_result"
    }
   ],
   "source": [
    "user_input()"
   ]
  },
  {
   "cell_type": "code",
   "execution_count": 83,
   "id": "73af39a6-81fe-480b-ad93-99cb1fa48f4f",
   "metadata": {},
   "outputs": [],
   "source": [
    "def user_input():\n",
    "    x1=int(input())\n",
    "    x2=int(input())\n",
    "    y1=int(input())\n",
    "    y2=int(input())\n",
    "    return(x1,y1),(x2,y2)"
   ]
  },
  {
   "cell_type": "code",
   "execution_count": 84,
   "id": "1e9b6b45-a31a-4034-8aee-d502fcf9d294",
   "metadata": {},
   "outputs": [
    {
     "name": "stdin",
     "output_type": "stream",
     "text": [
      " 1\n",
      " 2\n",
      " 3\n",
      " 4\n"
     ]
    }
   ],
   "source": [
    "r1,r2=user_input()"
   ]
  },
  {
   "cell_type": "code",
   "execution_count": 85,
   "id": "d9a959ee-5059-4c18-85e7-d3bb2230e9b0",
   "metadata": {},
   "outputs": [
    {
     "data": {
      "text/plain": [
       "((1, 3), (2, 4))"
      ]
     },
     "execution_count": 85,
     "metadata": {},
     "output_type": "execute_result"
    }
   ],
   "source": [
    "r1,r2"
   ]
  },
  {
   "cell_type": "code",
   "execution_count": 86,
   "id": "313187d0-cc54-41a7-8dbb-dbf90f1db16e",
   "metadata": {},
   "outputs": [
    {
     "data": {
      "text/plain": [
       "(1, 3)"
      ]
     },
     "execution_count": 86,
     "metadata": {},
     "output_type": "execute_result"
    }
   ],
   "source": [
    "r1"
   ]
  },
  {
   "cell_type": "code",
   "execution_count": 87,
   "id": "9d824dad-1fac-4680-b563-31392712e595",
   "metadata": {},
   "outputs": [],
   "source": [
    "def user_input():\n",
    "    x1=int(input())\n",
    "    x2=int(input())\n",
    "    y1=int(input())\n",
    "    y2=int(input())\n",
    "    return(x1,y1),(x2,y2)"
   ]
  },
  {
   "cell_type": "code",
   "execution_count": 88,
   "id": "162e1fd1-7a2d-487f-9be5-e09908e26480",
   "metadata": {},
   "outputs": [
    {
     "name": "stdin",
     "output_type": "stream",
     "text": [
      " 1\n",
      " 2\n",
      " 3\n",
      " 4\n"
     ]
    }
   ],
   "source": [
    "r1,_ =user_input()"
   ]
  },
  {
   "cell_type": "code",
   "execution_count": 89,
   "id": "07990d86-3480-4ba3-ac87-bb77fad7cf6b",
   "metadata": {},
   "outputs": [
    {
     "data": {
      "text/plain": [
       "(1, 3)"
      ]
     },
     "execution_count": 89,
     "metadata": {},
     "output_type": "execute_result"
    }
   ],
   "source": [
    "r1"
   ]
  },
  {
   "cell_type": "code",
   "execution_count": 90,
   "id": "21032fa8-6515-415a-a89e-012f2a271fe2",
   "metadata": {},
   "outputs": [
    {
     "name": "stdin",
     "output_type": "stream",
     "text": [
      " 1\n",
      " 2\n",
      " 3\n",
      " 4\n"
     ]
    }
   ],
   "source": [
    "r1=user_input()"
   ]
  },
  {
   "cell_type": "code",
   "execution_count": 91,
   "id": "115c3019-67a5-4217-871b-8ecfd156102d",
   "metadata": {},
   "outputs": [
    {
     "data": {
      "text/plain": [
       "((1, 3), (2, 4))"
      ]
     },
     "execution_count": 91,
     "metadata": {},
     "output_type": "execute_result"
    }
   ],
   "source": [
    "r1"
   ]
  },
  {
   "cell_type": "code",
   "execution_count": 104,
   "id": "f61aa6f0-1ae7-4c30-9447-de06a3f4de72",
   "metadata": {},
   "outputs": [],
   "source": [
    "def sq_nd_cube(x):\n",
    "    sq=x**2\n",
    "    cube=x**3\n",
    "    return sq,cube"
   ]
  },
  {
   "cell_type": "code",
   "execution_count": 105,
   "id": "bcb12d74-ca31-408c-8e23-385449d9d1da",
   "metadata": {},
   "outputs": [
    {
     "data": {
      "text/plain": [
       "(4, 8)"
      ]
     },
     "execution_count": 105,
     "metadata": {},
     "output_type": "execute_result"
    }
   ],
   "source": [
    "sq_nd_cube(2)"
   ]
  },
  {
   "cell_type": "code",
   "execution_count": 117,
   "id": "19a4446f-666d-434d-8405-508526c66603",
   "metadata": {},
   "outputs": [
    {
     "name": "stdin",
     "output_type": "stream",
     "text": [
      "x =  1\n",
      "y =  2\n"
     ]
    },
    {
     "name": "stdout",
     "output_type": "stream",
     "text": [
      "result: 2\n"
     ]
    },
    {
     "name": "stdin",
     "output_type": "stream",
     "text": [
      "z =  3\n"
     ]
    },
    {
     "ename": "TypeError",
     "evalue": "unsupported operand type(s) for *: 'NoneType' and 'int'",
     "output_type": "error",
     "traceback": [
      "\u001b[1;31m---------------------------------------------------------------------------\u001b[0m",
      "\u001b[1;31mTypeError\u001b[0m                                 Traceback (most recent call last)",
      "Cell \u001b[1;32mIn[117], line 14\u001b[0m\n\u001b[0;32m     11\u001b[0m     final_result \u001b[38;5;241m=\u001b[39m total \u001b[38;5;241m*\u001b[39m z\n\u001b[0;32m     12\u001b[0m     \u001b[38;5;28mprint\u001b[39m(\u001b[38;5;124m'\u001b[39m\u001b[38;5;124mfinal result =\u001b[39m\u001b[38;5;124m'\u001b[39m, final_result)\n\u001b[1;32m---> 14\u001b[0m mulp2()\n",
      "Cell \u001b[1;32mIn[117], line 11\u001b[0m, in \u001b[0;36mmulp2\u001b[1;34m()\u001b[0m\n\u001b[0;32m      9\u001b[0m total \u001b[38;5;241m=\u001b[39m mulp1()\n\u001b[0;32m     10\u001b[0m z \u001b[38;5;241m=\u001b[39m \u001b[38;5;28mint\u001b[39m(\u001b[38;5;28minput\u001b[39m(\u001b[38;5;124m'\u001b[39m\u001b[38;5;124mz = \u001b[39m\u001b[38;5;124m'\u001b[39m))\n\u001b[1;32m---> 11\u001b[0m final_result \u001b[38;5;241m=\u001b[39m total \u001b[38;5;241m*\u001b[39m z\n\u001b[0;32m     12\u001b[0m \u001b[38;5;28mprint\u001b[39m(\u001b[38;5;124m'\u001b[39m\u001b[38;5;124mfinal result =\u001b[39m\u001b[38;5;124m'\u001b[39m, final_result)\n",
      "\u001b[1;31mTypeError\u001b[0m: unsupported operand type(s) for *: 'NoneType' and 'int'"
     ]
    }
   ],
   "source": [
    "def mulp1():\n",
    "    x = int(input('x = '))\n",
    "    y = int(input('y = '))\n",
    "    result = x * y\n",
    "    print('result:', result)\n",
    "    \n",
    "def mulp2():\n",
    "    total = mulp1()\n",
    "    z = int(input('z = '))\n",
    "    final_result = total * z\n",
    "    print('final result =', final_result)\n",
    "\n",
    "mulp2()  #error for return type missing in function 1\n",
    "\n",
    "\n"
   ]
  },
  {
   "cell_type": "code",
   "execution_count": 116,
   "id": "d3f8744d-d911-45ed-91ff-b63ea1f0464e",
   "metadata": {},
   "outputs": [
    {
     "name": "stdin",
     "output_type": "stream",
     "text": [
      "x =  1\n",
      "y =  2\n"
     ]
    },
    {
     "name": "stdout",
     "output_type": "stream",
     "text": [
      "result: 2\n"
     ]
    },
    {
     "name": "stdin",
     "output_type": "stream",
     "text": [
      "z =  3\n"
     ]
    },
    {
     "name": "stdout",
     "output_type": "stream",
     "text": [
      "final result = 6\n"
     ]
    }
   ],
   "source": [
    "def mulp1():\n",
    "    x = int(input('x = '))\n",
    "    y = int(input('y = '))\n",
    "    result = x * y\n",
    "    print('result:', result)\n",
    "    return result\n",
    "\n",
    "def mulp2():\n",
    "    total = mulp1()\n",
    "    z = int(input('z = '))\n",
    "    final_result = total * z\n",
    "    print('final result =', final_result)\n",
    "\n",
    "mulp2()\n"
   ]
  },
  {
   "cell_type": "code",
   "execution_count": null,
   "id": "b01e061c-9f1d-4a2c-a72d-aa988b608cf3",
   "metadata": {},
   "outputs": [],
   "source": []
  }
 ],
 "metadata": {
  "kernelspec": {
   "display_name": "Python 3 (ipykernel)",
   "language": "python",
   "name": "python3"
  },
  "language_info": {
   "codemirror_mode": {
    "name": "ipython",
    "version": 3
   },
   "file_extension": ".py",
   "mimetype": "text/x-python",
   "name": "python",
   "nbconvert_exporter": "python",
   "pygments_lexer": "ipython3",
   "version": "3.11.7"
  }
 },
 "nbformat": 4,
 "nbformat_minor": 5
}
