{
 "cells": [
  {
   "cell_type": "markdown",
   "id": "57667af0-6a1d-45f6-baca-456a823a58d4",
   "metadata": {
    "jp-MarkdownHeadingCollapsed": true
   },
   "source": [
    "<h2>Problem 01: ListnSum</h2>\n",
    "<p>write a python function that takes a list of numbers as input and returns the sum of all the elements in the list</p>\n",
    "<p>input_number=[1,2,3,4,5]</p>\n",
    "<p>Sum:15</p>"
   ]
  },
  {
   "cell_type": "code",
   "execution_count": 10,
   "id": "d5f18cc0-106e-4f81-9794-ec6a76c0a6a0",
   "metadata": {},
   "outputs": [
    {
     "name": "stdout",
     "output_type": "stream",
     "text": [
      "15\n"
     ]
    }
   ],
   "source": [
    "input_list = [1, 2, 3, 4, 5]\n",
    "total_sum = 0  # Renaming sum to total_sum to avoid conflicts\n",
    "\n",
    "def calculate_sum(input_list):\n",
    "    global total_sum  # Declare total_sum as global\n",
    "    for x in input_list:  # Iterating through the list\n",
    "        total_sum =total_sum + x  # Adding each element to the total_sum\n",
    "\n",
    "calculate_sum(input_list)  # Call the function with the input_list\n",
    "print(total_sum)  # Print the total sum\n"
   ]
  },
  {
   "cell_type": "code",
   "execution_count": 20,
   "id": "fac3b468-d935-48ef-aa2e-3f6b57de2f87",
   "metadata": {},
   "outputs": [
    {
     "name": "stdout",
     "output_type": "stream",
     "text": [
      "15\n"
     ]
    }
   ],
   "source": [
    "input_list=[1,2,3,4,5]\n",
    "sum=0\n",
    "\n",
    "def list_sum(input_list):\n",
    "    global sum\n",
    "    for x in input_list:\n",
    "        sum=sum+x\n",
    "list_sum(input_list)\n",
    "print(sum)\n",
    "    "
   ]
  },
  {
   "cell_type": "markdown",
   "id": "03aa8aa0-5122-4e13-aff9-b448674251a2",
   "metadata": {
    "jp-MarkdownHeadingCollapsed": true
   },
   "source": [
    "<h2>Problem 02: List Reversal</h2>\n",
    "<p>Create a function that reverses a given list and returns the reversed list</p>\n",
    "<p>original_list = [10,20,30,40,50]</p>\n",
    "<p>Reverse List = [50,40,30,20,10] </p>"
   ]
  },
  {
   "cell_type": "code",
   "execution_count": 59,
   "id": "406ce707-e785-4051-b7b1-1d84ffb34f06",
   "metadata": {},
   "outputs": [
    {
     "name": "stdout",
     "output_type": "stream",
     "text": [
      "[50, 40, 30, 20, 10]\n"
     ]
    }
   ],
   "source": [
    "original_list = [10,20,30,40,50]\n",
    "\n",
    "def Reverse_List(original_list):\n",
    "     reverse_List=[]\n",
    "     for x in reversed(original_list):\n",
    "       reverse_List.append(x)\n",
    "     return reverse_List\n",
    "       \n",
    "print(reverse_List)\n",
    "    "
   ]
  },
  {
   "cell_type": "markdown",
   "id": "f8ff5012-cfdb-4d84-b881-296fbeebc037",
   "metadata": {
    "jp-MarkdownHeadingCollapsed": true
   },
   "source": [
    "<h2>Problem 03: List Even Numbers</h2>\n",
    "<p>Write a function that takes a list of integers as input and returns a new list containing only the even numbers.</p>\n",
    "<p>numbers = [1,2,3,4,5,6,7,8,9,10]</p>\n",
    "<p>Even Numbers = [2,4,6,8,10]</p>"
   ]
  },
  {
   "cell_type": "code",
   "execution_count": 73,
   "id": "3e40c281-b9db-462e-95b3-6c3102b61fed",
   "metadata": {},
   "outputs": [
    {
     "name": "stdout",
     "output_type": "stream",
     "text": [
      "[2, 4, 6, 8, 10]\n"
     ]
    }
   ],
   "source": [
    "numbers = [1,2,3,4,5,6,7,8,9,10]\n",
    "\n",
    "def even_numbers(numbers):\n",
    "    Even_Numbers=[]\n",
    "    for x in numbers:\n",
    "        if x % 2 == 0:\n",
    "            Even_Numbers.append(x)\n",
    "    return Even_Numbers\n",
    "\n",
    "print(even_numbers(numbers))\n",
    "        \n",
    "\n"
   ]
  },
  {
   "cell_type": "markdown",
   "id": "e828bcb2-c22b-436d-b341-1cbf975dea23",
   "metadata": {
    "jp-MarkdownHeadingCollapsed": true
   },
   "source": [
    "<h2>Problem 04: List Duplicates</h2>\n",
    "<p>Create a function that finds and returns a list of unique elements from a given list.</p>\n",
    "<p>elements = [1,2,2,3,4,4,5]</p>\n",
    "<p>unique elements = [1,2,3,4,5]</p>"
   ]
  },
  {
   "cell_type": "code",
   "execution_count": 75,
   "id": "3761e62d-d00a-4789-ab0c-74226489257e",
   "metadata": {},
   "outputs": [
    {
     "name": "stdout",
     "output_type": "stream",
     "text": [
      "[1, 2, 3, 4, 5]\n"
     ]
    }
   ],
   "source": [
    "elements = [1,2,2,3,4,4,5]\n",
    "\n",
    "def unique_elements(elements):\n",
    "    Unique_Elements=[]\n",
    "    for x in elements:\n",
    "        if x not in Unique_Elements:  \n",
    "            Unique_Elements.append(x)\n",
    "    return Unique_Elements\n",
    "\n",
    "print(unique_elements(elements))\n",
    "        \n",
    "\n",
    "\n",
    "\n",
    "    "
   ]
  },
  {
   "cell_type": "markdown",
   "id": "1e517b1a-3d02-4cbc-bc64-98e137577594",
   "metadata": {
    "jp-MarkdownHeadingCollapsed": true
   },
   "source": [
    "<h2>Problem 05:List Concatenation</h2>\n",
    "<p>Write a function that takes tow lists as input and return a new list that is the concatenation of the two input lists</p>\n",
    "<p>list1 = [1,2,3]</p>\n",
    "<p>list2 = [4,5,6]</p>\n",
    "<p>Concatenated List : [1,2,3,4,5,6]</p>"
   ]
  },
  {
   "cell_type": "code",
   "execution_count": 80,
   "id": "83f4daf2-5896-4b13-aaf8-4a6b4b332062",
   "metadata": {},
   "outputs": [
    {
     "name": "stdout",
     "output_type": "stream",
     "text": [
      "[1, 2, 3, 4, 5, 6]\n"
     ]
    }
   ],
   "source": [
    "list1 = [1,2,3]\n",
    "list2 = [4,5,6]\n",
    "\n",
    "def list_concatented(list1,list2):\n",
    "    concatented_list=list1 + list2\n",
    "    return concatented_list\n",
    "\n",
    "print(list_concatented(list1,list2))\n",
    "    "
   ]
  },
  {
   "cell_type": "code",
   "execution_count": null,
   "id": "c0cf9a25-b59f-47ef-95e9-4274d3652238",
   "metadata": {},
   "outputs": [],
   "source": []
  }
 ],
 "metadata": {
  "kernelspec": {
   "display_name": "Python 3 (ipykernel)",
   "language": "python",
   "name": "python3"
  },
  "language_info": {
   "codemirror_mode": {
    "name": "ipython",
    "version": 3
   },
   "file_extension": ".py",
   "mimetype": "text/x-python",
   "name": "python",
   "nbconvert_exporter": "python",
   "pygments_lexer": "ipython3",
   "version": "3.11.7"
  }
 },
 "nbformat": 4,
 "nbformat_minor": 5
}
