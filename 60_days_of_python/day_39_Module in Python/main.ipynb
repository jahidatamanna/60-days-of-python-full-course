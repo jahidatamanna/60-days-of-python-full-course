{
 "cells": [
  {
   "cell_type": "code",
   "execution_count": 9,
   "id": "ef80a9d4-f62d-46bd-bb68-218578d2a510",
   "metadata": {},
   "outputs": [
    {
     "name": "stdout",
     "output_type": "stream",
     "text": [
      "hlw,jahida!\n"
     ]
    },
    {
     "data": {
      "text/plain": [
       "9"
      ]
     },
     "execution_count": 9,
     "metadata": {},
     "output_type": "execute_result"
    }
   ],
   "source": [
    "import test_module\n",
    "test_module.greet('jahida')\n",
    "test_module.square(3)\n"
   ]
  },
  {
   "cell_type": "code",
   "execution_count": 10,
   "id": "293b84f2-6319-4f4c-b3fd-cf9ad97ab576",
   "metadata": {},
   "outputs": [
    {
     "name": "stdout",
     "output_type": "stream",
     "text": [
      "hlw,jahida!\n"
     ]
    }
   ],
   "source": [
    "from test_module import greet\n",
    "greet('jahida')\n"
   ]
  },
  {
   "cell_type": "code",
   "execution_count": 13,
   "id": "380fbe9f-b4a9-476e-880f-894d1cf3799c",
   "metadata": {},
   "outputs": [
    {
     "name": "stdout",
     "output_type": "stream",
     "text": [
      "hlw,jahida!\n"
     ]
    },
    {
     "data": {
      "text/plain": [
       "16"
      ]
     },
     "execution_count": 13,
     "metadata": {},
     "output_type": "execute_result"
    }
   ],
   "source": [
    "from test_module import*\n",
    "greet('jahida')\n",
    "square(4)"
   ]
  },
  {
   "cell_type": "code",
   "execution_count": null,
   "id": "deb8b857-39a5-47b5-be88-4a0d258c4e1a",
   "metadata": {},
   "outputs": [],
   "source": []
  }
 ],
 "metadata": {
  "kernelspec": {
   "display_name": "Python 3 (ipykernel)",
   "language": "python",
   "name": "python3"
  },
  "language_info": {
   "codemirror_mode": {
    "name": "ipython",
    "version": 3
   },
   "file_extension": ".py",
   "mimetype": "text/x-python",
   "name": "python",
   "nbconvert_exporter": "python",
   "pygments_lexer": "ipython3",
   "version": "3.11.7"
  }
 },
 "nbformat": 4,
 "nbformat_minor": 5
}
