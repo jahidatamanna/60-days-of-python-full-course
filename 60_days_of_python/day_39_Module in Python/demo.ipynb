{
 "cells": [
  {
   "cell_type": "code",
   "execution_count": 9,
   "id": "71179606-c91e-4d73-bf13-63b881588190",
   "metadata": {},
   "outputs": [
    {
     "name": "stdout",
     "output_type": "stream",
     "text": [
      "Overwriting test_module.py\n"
     ]
    }
   ],
   "source": [
    "%%writefile test_module.py\n",
    "\n",
    "def greet(name):\n",
    "    print(f'hlw,{name}!')\n",
    "\n",
    "def square(x):\n",
    "    return x**2\n",
    "    \n",
    " "
   ]
  },
  {
   "cell_type": "code",
   "execution_count": null,
   "id": "039744b9-968e-4d00-82c1-77020fc291b3",
   "metadata": {},
   "outputs": [],
   "source": []
  }
 ],
 "metadata": {
  "kernelspec": {
   "display_name": "Python 3 (ipykernel)",
   "language": "python",
   "name": "python3"
  },
  "language_info": {
   "codemirror_mode": {
    "name": "ipython",
    "version": 3
   },
   "file_extension": ".py",
   "mimetype": "text/x-python",
   "name": "python",
   "nbconvert_exporter": "python",
   "pygments_lexer": "ipython3",
   "version": "3.11.7"
  }
 },
 "nbformat": 4,
 "nbformat_minor": 5
}
