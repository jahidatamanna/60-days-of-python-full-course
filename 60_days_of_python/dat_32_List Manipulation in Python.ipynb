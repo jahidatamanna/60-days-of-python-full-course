{
 "cells": [
  {
   "cell_type": "markdown",
   "id": "b4810a11-19c1-4d91-984d-e85336bf8e5b",
   "metadata": {},
   "source": [
    "<h2> remove duplicates element from a list</h2>"
   ]
  },
  {
   "cell_type": "code",
   "execution_count": 1,
   "id": "8eea1865-6441-4c9d-a690-5fc98dada508",
   "metadata": {},
   "outputs": [],
   "source": [
    "def remove_duplicates(input_list):\n",
    "    unique_list=[]\n",
    "    for item in input_list:\n",
    "        if item not in unique_list:\n",
    "            unique_list.append(item)\n",
    "\n",
    "    return unique_list"
   ]
  },
  {
   "cell_type": "code",
   "execution_count": 16,
   "id": "a2bd47c6-b939-4413-982f-1b7129ba2908",
   "metadata": {},
   "outputs": [
    {
     "name": "stdout",
     "output_type": "stream",
     "text": [
      "Real list [1, 2, 2, 2, 3, 3, 3, 4, 5, 6, 6]\n",
      "Unique list [1, 2, 3, 4, 5, 6]\n"
     ]
    }
   ],
   "source": [
    "input_list=[1,2,2,2,3,3,3,4,5,6,6]\n",
    "remove_duplicates(input_list)\n",
    "\n",
    "print(\"Real list\",input_list)\n",
    "print(\"Unique list\",remove_duplicates(input_list))\n",
    "\n",
    "#or\n",
    "#print(f'Real list {input_list}')\n",
    "#print(f'unique list {remove_duplicates(input_list)}')"
   ]
  },
  {
   "cell_type": "markdown",
   "id": "2c8bcd34-bc44-49b0-ac5a-e8c121d3b8da",
   "metadata": {},
   "source": [
    "<h2>Multiply by 2 with each element from the list</h2>"
   ]
  },
  {
   "cell_type": "code",
   "execution_count": 18,
   "id": "566c8d75-43fe-4fb2-93f0-cf083dd08514",
   "metadata": {},
   "outputs": [
    {
     "name": "stdout",
     "output_type": "stream",
     "text": [
      "Real list [1, 2, 3, 4, 5, 6]\n",
      "Unique list [2, 4, 6, 8, 10, 12]\n"
     ]
    }
   ],
   "source": [
    "def double_elements(input_list):\n",
    "    double_list = [2*x for x in input_list]\n",
    "    return double_list\n",
    "\n",
    "input_list=[1,2,3,4,5,6]\n",
    "print(\"Real list\",input_list)\n",
    "print(\"Unique list\",double_elements(input_list))"
   ]
  },
  {
   "cell_type": "code",
   "execution_count": null,
   "id": "a8e5fa78-3899-4396-b02e-841da2582d35",
   "metadata": {},
   "outputs": [],
   "source": []
  }
 ],
 "metadata": {
  "kernelspec": {
   "display_name": "Python 3 (ipykernel)",
   "language": "python",
   "name": "python3"
  },
  "language_info": {
   "codemirror_mode": {
    "name": "ipython",
    "version": 3
   },
   "file_extension": ".py",
   "mimetype": "text/x-python",
   "name": "python",
   "nbconvert_exporter": "python",
   "pygments_lexer": "ipython3",
   "version": "3.11.7"
  }
 },
 "nbformat": 4,
 "nbformat_minor": 5
}
