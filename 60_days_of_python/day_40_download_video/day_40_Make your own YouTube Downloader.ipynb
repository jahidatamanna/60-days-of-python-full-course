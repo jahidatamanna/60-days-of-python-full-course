{
 "cells": [
  {
   "cell_type": "code",
   "execution_count": 1,
   "id": "f454e702-d171-4616-9764-476caee6bb78",
   "metadata": {},
   "outputs": [
    {
     "name": "stdout",
     "output_type": "stream",
     "text": [
      "Requirement already satisfied: pytube in c:\\users\\tanjila\\anaconda3\\lib\\site-packages (15.0.0)\n"
     ]
    }
   ],
   "source": [
    "!pip install pytube "
   ]
  },
  {
   "cell_type": "code",
   "execution_count": 2,
   "id": "270fc871-f3d9-4127-8a35-85a03e329be3",
   "metadata": {},
   "outputs": [],
   "source": [
    "from pytube import YouTube"
   ]
  },
  {
   "cell_type": "code",
   "execution_count": 3,
   "id": "893e3251-fc18-41c6-a934-151a63fc3199",
   "metadata": {},
   "outputs": [],
   "source": [
    "url='https://youtu.be/XROIbYVQOT8?si=vj4MIY9YCxFBqMdS'\n",
    "yt=YouTube(url)"
   ]
  },
  {
   "cell_type": "code",
   "execution_count": 4,
   "id": "1fcc7b2e-b61a-421d-ad0b-f98a5b8978a9",
   "metadata": {},
   "outputs": [],
   "source": [
    "stream=yt.streams.get_highest_resolution()"
   ]
  },
  {
   "cell_type": "code",
   "execution_count": 5,
   "id": "5ec376ef-8e3c-41ed-91c0-964dd3b69381",
   "metadata": {},
   "outputs": [
    {
     "name": "stdout",
     "output_type": "stream",
     "text": [
      "Download completed\n"
     ]
    }
   ],
   "source": [
    "stream.download()\n",
    "print(\"Download completed\")"
   ]
  },
  {
   "cell_type": "code",
   "execution_count": 6,
   "id": "60fb88bb-9c3b-4c33-8ec7-00e077917888",
   "metadata": {},
   "outputs": [
    {
     "name": "stdout",
     "output_type": "stream",
     "text": [
      "Download completed\n"
     ]
    }
   ],
   "source": [
    "stream=yt.streams.filter(progressive=True,res='720p').first()\n",
    "if stream:\n",
    "    stream.download()\n",
    "    print(\"Download completed\")\n",
    "\n",
    "else:\n",
    "    print(\"not available\")"
   ]
  },
  {
   "cell_type": "code",
   "execution_count": null,
   "id": "aa2d3916-eae8-4a5b-8f79-a66b259e36b1",
   "metadata": {},
   "outputs": [],
   "source": []
  },
  {
   "cell_type": "code",
   "execution_count": null,
   "id": "729dd20c-c529-4f0a-847d-f19d34070f78",
   "metadata": {},
   "outputs": [],
   "source": []
  }
 ],
 "metadata": {
  "kernelspec": {
   "display_name": "Python 3 (ipykernel)",
   "language": "python",
   "name": "python3"
  },
  "language_info": {
   "codemirror_mode": {
    "name": "ipython",
    "version": 3
   },
   "file_extension": ".py",
   "mimetype": "text/x-python",
   "name": "python",
   "nbconvert_exporter": "python",
   "pygments_lexer": "ipython3",
   "version": "3.11.7"
  }
 },
 "nbformat": 4,
 "nbformat_minor": 5
}
