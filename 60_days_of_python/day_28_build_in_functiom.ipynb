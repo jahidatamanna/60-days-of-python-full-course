{
 "cells": [
  {
   "cell_type": "markdown",
   "id": "90f6a473-432e-4cc6-adaf-0093a3463630",
   "metadata": {
    "jp-MarkdownHeadingCollapsed": true
   },
   "source": [
    "<h4>1. print():out put text or variable to the console</h4>"
   ]
  },
  {
   "cell_type": "code",
   "execution_count": 1,
   "id": "0496de12-210a-4875-a93b-99756bb971bc",
   "metadata": {},
   "outputs": [
    {
     "name": "stdout",
     "output_type": "stream",
     "text": [
      "data science\n"
     ]
    }
   ],
   "source": [
    "print(\"data science\")"
   ]
  },
  {
   "cell_type": "markdown",
   "id": "9b506bef-eda5-4053-b358-b3950e392aec",
   "metadata": {
    "jp-MarkdownHeadingCollapsed": true
   },
   "source": [
    "<h4>2. len():Returns the length of an object</h4>"
   ]
  },
  {
   "cell_type": "code",
   "execution_count": 4,
   "id": "8ea5d45a-872e-4f00-ba58-467df59e2b90",
   "metadata": {},
   "outputs": [],
   "source": [
    "my_list=[1,23,4,5,6]\n",
    "length=len(my_list)"
   ]
  },
  {
   "cell_type": "code",
   "execution_count": 5,
   "id": "5ecac419-177d-4ce7-b09f-81189514c129",
   "metadata": {},
   "outputs": [
    {
     "data": {
      "text/plain": [
       "5"
      ]
     },
     "execution_count": 5,
     "metadata": {},
     "output_type": "execute_result"
    }
   ],
   "source": [
    "length"
   ]
  },
  {
   "cell_type": "markdown",
   "id": "3fa82ceb-e34f-4649-b08c-2826347b09a8",
   "metadata": {
    "jp-MarkdownHeadingCollapsed": true
   },
   "source": [
    "<h4>3. input():Reads input from the user</h4>"
   ]
  },
  {
   "cell_type": "code",
   "execution_count": 8,
   "id": "8193a87a-0538-42bf-9791-63b5d5aefed8",
   "metadata": {},
   "outputs": [
    {
     "name": "stdin",
     "output_type": "stream",
     "text": [
      "Enter something : t\n"
     ]
    }
   ],
   "source": [
    "user_input=input(\"Enter something :\")"
   ]
  },
  {
   "cell_type": "code",
   "execution_count": 10,
   "id": "8b1f2336-8299-4353-8954-78f05e57bc10",
   "metadata": {},
   "outputs": [
    {
     "data": {
      "text/plain": [
       "'t'"
      ]
     },
     "execution_count": 10,
     "metadata": {},
     "output_type": "execute_result"
    }
   ],
   "source": [
    "user_input"
   ]
  },
  {
   "cell_type": "markdown",
   "id": "cf858918-ff9c-4f78-a1ed-c49934d25695",
   "metadata": {
    "jp-MarkdownHeadingCollapsed": true
   },
   "source": [
    "<h4>4. type():Returns the type of an object.</h4>"
   ]
  },
  {
   "cell_type": "code",
   "execution_count": 11,
   "id": "384bb74f-a339-4bb9-bac8-97b69e33a1ea",
   "metadata": {},
   "outputs": [
    {
     "data": {
      "text/plain": [
       "5"
      ]
     },
     "execution_count": 11,
     "metadata": {},
     "output_type": "execute_result"
    }
   ],
   "source": [
    "x=5\n",
    "type_of_x=type(x)\n",
    "type_of_x(x)"
   ]
  },
  {
   "cell_type": "markdown",
   "id": "3189a09e-f962-45e5-a7f1-635b77a7137e",
   "metadata": {
    "jp-MarkdownHeadingCollapsed": true
   },
   "source": [
    "<h4>5. int(),float,str():convert values to integer,float,or strings</h4>"
   ]
  },
  {
   "cell_type": "code",
   "execution_count": 13,
   "id": "8224c5bc-ed9b-406c-a334-385474cb2175",
   "metadata": {},
   "outputs": [
    {
     "data": {
      "text/plain": [
       "45"
      ]
     },
     "execution_count": 13,
     "metadata": {},
     "output_type": "execute_result"
    }
   ],
   "source": [
    "num_str='45'\n",
    "num_int=int(num_str)\n",
    "num_int"
   ]
  },
  {
   "cell_type": "code",
   "execution_count": 14,
   "id": "316c70a6-de48-4c38-b017-1aa895a0de13",
   "metadata": {},
   "outputs": [
    {
     "data": {
      "text/plain": [
       "45.0"
      ]
     },
     "execution_count": 14,
     "metadata": {},
     "output_type": "execute_result"
    }
   ],
   "source": [
    "float(num_int)"
   ]
  },
  {
   "cell_type": "markdown",
   "id": "210f81eb-4fe2-439e-b792-ad951eee990f",
   "metadata": {
    "jp-MarkdownHeadingCollapsed": true
   },
   "source": [
    "<h4>6. range():Generates a sequence of numbers.</h4>"
   ]
  },
  {
   "cell_type": "code",
   "execution_count": 15,
   "id": "2d1e362e-57a4-4de8-bc93-83bf87c4a899",
   "metadata": {},
   "outputs": [
    {
     "data": {
      "text/plain": [
       "[1, 2, 3, 4, 5]"
      ]
     },
     "execution_count": 15,
     "metadata": {},
     "output_type": "execute_result"
    }
   ],
   "source": [
    "numbers=list(range(1,6))\n",
    "numbers"
   ]
  },
  {
   "cell_type": "markdown",
   "id": "40c26d6f-0ded-4d52-b7eb-fe2fda63b89f",
   "metadata": {
    "jp-MarkdownHeadingCollapsed": true
   },
   "source": [
    "<h4>7. sum():Returns the sum of all elements in an iterable</h4>"
   ]
  },
  {
   "cell_type": "code",
   "execution_count": 16,
   "id": "eedf3023-44d5-4dc1-88a2-8ccb3051a540",
   "metadata": {},
   "outputs": [
    {
     "data": {
      "text/plain": [
       "10"
      ]
     },
     "execution_count": 16,
     "metadata": {},
     "output_type": "execute_result"
    }
   ],
   "source": [
    "my_list=[1,2,3,4]\n",
    "total=sum(my_list)\n",
    "total"
   ]
  },
  {
   "cell_type": "markdown",
   "id": "f210c425-4e75-4c20-b0fb-1ccda77c840f",
   "metadata": {
    "jp-MarkdownHeadingCollapsed": true
   },
   "source": [
    "<h4>8. max(),min():Returns the maximum or minimum value from an iterable.</h4>"
   ]
  },
  {
   "cell_type": "code",
   "execution_count": 17,
   "id": "a904ee19-7052-4046-8f6d-709b163ab3a9",
   "metadata": {},
   "outputs": [],
   "source": [
    "numbers=[3,6,2,7,9]\n",
    "max_val=max(numbers)\n",
    "min_val=min(numbers)"
   ]
  },
  {
   "cell_type": "code",
   "execution_count": 18,
   "id": "3bfbfab2-e341-4771-b3fa-98b0b17c0174",
   "metadata": {},
   "outputs": [
    {
     "data": {
      "text/plain": [
       "9"
      ]
     },
     "execution_count": 18,
     "metadata": {},
     "output_type": "execute_result"
    }
   ],
   "source": [
    "max_val"
   ]
  },
  {
   "cell_type": "code",
   "execution_count": 19,
   "id": "91008059-713c-4c0a-9058-a471481ee496",
   "metadata": {},
   "outputs": [
    {
     "data": {
      "text/plain": [
       "2"
      ]
     },
     "execution_count": 19,
     "metadata": {},
     "output_type": "execute_result"
    }
   ],
   "source": [
    "min_val"
   ]
  },
  {
   "cell_type": "markdown",
   "id": "17e1c7c1-a559-4d0f-9db1-51be0fc77028",
   "metadata": {
    "jp-MarkdownHeadingCollapsed": true
   },
   "source": [
    "<h4>9. abs():Return the absolute value of a number.</h4>"
   ]
  },
  {
   "cell_type": "code",
   "execution_count": 20,
   "id": "1665ec96-48d2-4daa-b914-120f58a07144",
   "metadata": {},
   "outputs": [
    {
     "data": {
      "text/plain": [
       "12"
      ]
     },
     "execution_count": 20,
     "metadata": {},
     "output_type": "execute_result"
    }
   ],
   "source": [
    "absolute_value=abs(-12)\n",
    "absolute_value #give a positive number"
   ]
  },
  {
   "cell_type": "markdown",
   "id": "09f0b85a-4572-4658-81b7-a83063f2ab22",
   "metadata": {
    "jp-MarkdownHeadingCollapsed": true
   },
   "source": [
    "<h4>10. round():Rounds a floating-point number to specified number of decimals.</h4>"
   ]
  },
  {
   "cell_type": "code",
   "execution_count": 22,
   "id": "859b9f83-7600-409b-a9af-42fd6e508ef6",
   "metadata": {},
   "outputs": [
    {
     "data": {
      "text/plain": [
       "3.14"
      ]
     },
     "execution_count": 22,
     "metadata": {},
     "output_type": "execute_result"
    }
   ],
   "source": [
    "round_num=round(3.1416,2) # round to 2 places\n",
    "round_num"
   ]
  },
  {
   "cell_type": "markdown",
   "id": "97d6d045-6996-40f4-91e4-d8dd7dce3875",
   "metadata": {
    "jp-MarkdownHeadingCollapsed": true
   },
   "source": [
    "<h4>11. sorted():Returns a nuw sorted list from the elements of an iterable.</h4>"
   ]
  },
  {
   "cell_type": "code",
   "execution_count": 23,
   "id": "ef5ed652-2260-4c0e-b967-96c5fb63d814",
   "metadata": {},
   "outputs": [
    {
     "data": {
      "text/plain": [
       "[1, 2, 9, 11, 12, 34, 45, 67]"
      ]
     },
     "execution_count": 23,
     "metadata": {},
     "output_type": "execute_result"
    }
   ],
   "source": [
    "numbers=[12,45,67,34,11,2,9,1]\n",
    "sorted_number=sorted(numbers)\n",
    "sorted_number"
   ]
  },
  {
   "cell_type": "markdown",
   "id": "eff236dc-2ecb-49d6-bd87-b6efb5478214",
   "metadata": {
    "jp-MarkdownHeadingCollapsed": true
   },
   "source": [
    "<h4>12. any(),all():Returns true if any or all elements in an iterable ane true</h4>"
   ]
  },
  {
   "cell_type": "code",
   "execution_count": 35,
   "id": "19ccbf1e-b937-4ff2-b663-511e4ad8d99d",
   "metadata": {},
   "outputs": [],
   "source": [
    "bool_list=[True,False,True,True,False]\n",
    "any_true=any(bool_list)\n",
    "all_true=all(bool_list)"
   ]
  },
  {
   "cell_type": "code",
   "execution_count": 36,
   "id": "3f62cf1e-298b-4b01-81e2-c74a2d344ea0",
   "metadata": {},
   "outputs": [
    {
     "data": {
      "text/plain": [
       "True"
      ]
     },
     "execution_count": 36,
     "metadata": {},
     "output_type": "execute_result"
    }
   ],
   "source": [
    "any_true # if there is a true thn output will be return true"
   ]
  },
  {
   "cell_type": "code",
   "execution_count": 38,
   "id": "6e24145b-b551-40d5-bd16-8f58c28e6996",
   "metadata": {},
   "outputs": [
    {
     "data": {
      "text/plain": [
       "False"
      ]
     },
     "execution_count": 38,
     "metadata": {},
     "output_type": "execute_result"
    }
   ],
   "source": [
    "all_true  # if there is a false thn output will be return false,all values must be true"
   ]
  },
  {
   "cell_type": "markdown",
   "id": "342d829f-7a22-49d0-9d62-652753e1086c",
   "metadata": {
    "jp-MarkdownHeadingCollapsed": true
   },
   "source": [
    "<h4>13. str.join():joins elements of an iterable with a string as a separator.</h4>"
   ]
  },
  {
   "cell_type": "code",
   "execution_count": 41,
   "id": "e3aeafd5-71a3-44ce-837b-9b609fb44f0e",
   "metadata": {},
   "outputs": [
    {
     "data": {
      "text/plain": [
       "' apple + orange + banana '"
      ]
     },
     "execution_count": 41,
     "metadata": {},
     "output_type": "execute_result"
    }
   ],
   "source": [
    "my_list=[\" apple\",\"orange\",\"banana \"]\n",
    "joined_str=\" + \".join(my_list)\n",
    "joined_str"
   ]
  },
  {
   "cell_type": "markdown",
   "id": "58bdbc03-5043-4281-a2eb-33a18be68726",
   "metadata": {
    "jp-MarkdownHeadingCollapsed": true
   },
   "source": [
    "<h4>14. str.lower(),str.upper():Converts a string to lowercase or uppercase.</h4>"
   ]
  },
  {
   "cell_type": "code",
   "execution_count": 44,
   "id": "3bc703d6-b3e8-45d2-ac62-70258d26aacd",
   "metadata": {},
   "outputs": [],
   "source": [
    "my_string=\"Hello World\"\n",
    "lower_case=my_string.lower()\n",
    "upper_case=my_string.upper()"
   ]
  },
  {
   "cell_type": "code",
   "execution_count": 45,
   "id": "b0d21e0c-db06-41b5-9e5b-3801d5dd5833",
   "metadata": {},
   "outputs": [
    {
     "data": {
      "text/plain": [
       "'hello world'"
      ]
     },
     "execution_count": 45,
     "metadata": {},
     "output_type": "execute_result"
    }
   ],
   "source": [
    "lower_case"
   ]
  },
  {
   "cell_type": "code",
   "execution_count": 46,
   "id": "6880b33e-5b4d-43a6-a72d-da4525183cb0",
   "metadata": {},
   "outputs": [
    {
     "data": {
      "text/plain": [
       "'HELLO WORLD'"
      ]
     },
     "execution_count": 46,
     "metadata": {},
     "output_type": "execute_result"
    }
   ],
   "source": [
    "upper_case"
   ]
  },
  {
   "cell_type": "markdown",
   "id": "ab678dd3-4647-41e6-97b4-9aa16869b1d4",
   "metadata": {
    "jp-MarkdownHeadingCollapsed": true
   },
   "source": [
    "<h4>15. list(),tuple():Converts an iterable to a list or tuple</h4>"
   ]
  },
  {
   "cell_type": "code",
   "execution_count": 47,
   "id": "e6fd226c-c69c-40b6-9d71-46082900f985",
   "metadata": {},
   "outputs": [
    {
     "data": {
      "text/plain": [
       "[1, 2, 3, 4]"
      ]
     },
     "execution_count": 47,
     "metadata": {},
     "output_type": "execute_result"
    }
   ],
   "source": [
    "my_tuple=(1,2,3,4)\n",
    "tuple_to_list=list(my_tuple)\n",
    "tuple_to_list"
   ]
  },
  {
   "cell_type": "markdown",
   "id": "d29f936e-53b8-4d31-a4ea-60d7a25dd377",
   "metadata": {
    "jp-MarkdownHeadingCollapsed": true
   },
   "source": [
    "<h4>16. dict():Create a dictionary</h4>"
   ]
  },
  {
   "cell_type": "code",
   "execution_count": 49,
   "id": "ddd072db-d581-4b54-8072-6639fbbee141",
   "metadata": {},
   "outputs": [
    {
     "data": {
      "text/plain": [
       "{'name': 'tamanna', 'age': 23}"
      ]
     },
     "execution_count": 49,
     "metadata": {},
     "output_type": "execute_result"
    }
   ],
   "source": [
    "my_dic=dict(name=\"tamanna\",age=23)\n",
    "my_dic"
   ]
  },
  {
   "cell_type": "markdown",
   "id": "c4366868-002c-4904-9b5f-522b837417a4",
   "metadata": {
    "jp-MarkdownHeadingCollapsed": true
   },
   "source": [
    "<h4>17. set():Create a set.</h4>"
   ]
  },
  {
   "cell_type": "code",
   "execution_count": 50,
   "id": "29e7b2eb-0475-4cf4-96e4-bb0db63d6a79",
   "metadata": {},
   "outputs": [
    {
     "data": {
      "text/plain": [
       "{1, 2, 3, 4}"
      ]
     },
     "execution_count": 50,
     "metadata": {},
     "output_type": "execute_result"
    }
   ],
   "source": [
    "my_set=set([1,2,3,4])\n",
    "my_set"
   ]
  },
  {
   "cell_type": "markdown",
   "id": "aecffd35-5853-414e-8206-9c69c7448816",
   "metadata": {
    "jp-MarkdownHeadingCollapsed": true
   },
   "source": [
    "<h4>18. enumerate():Returns tuples with the index and corresponding element.</h4>"
   ]
  },
  {
   "cell_type": "code",
   "execution_count": 53,
   "id": "1b69ea9b-bade-4b3e-b4e1-6014fe5d0f46",
   "metadata": {},
   "outputs": [
    {
     "name": "stdout",
     "output_type": "stream",
     "text": [
      "0 a\n",
      "1 b\n",
      "2 t\n"
     ]
    }
   ],
   "source": [
    "my_list=[\"a\",\"b\",\"t\"]\n",
    "for index,value in enumerate(my_list):\n",
    "    print(index,value)\n"
   ]
  },
  {
   "cell_type": "markdown",
   "id": "8fc084cf-6530-447f-8870-c307dc21abd0",
   "metadata": {
    "jp-MarkdownHeadingCollapsed": true
   },
   "source": [
    "<h4>19. zip():combines two or more iterables element-wise.</h4>"
   ]
  },
  {
   "cell_type": "code",
   "execution_count": 57,
   "id": "44490e53-1a4f-486e-ba96-61ae6f9c3855",
   "metadata": {},
   "outputs": [],
   "source": [
    "names=[\"tams\",\"jahida\",\"inti\"]\n",
    "ages=[23,24,25]\n",
    "zipped_data=zip(names,ages)"
   ]
  },
  {
   "cell_type": "code",
   "execution_count": 58,
   "id": "b55b7e6c-2e0c-4493-96a8-88f5dcdd0fca",
   "metadata": {},
   "outputs": [
    {
     "data": {
      "text/plain": [
       "<zip at 0x161ff505580>"
      ]
     },
     "execution_count": 58,
     "metadata": {},
     "output_type": "execute_result"
    }
   ],
   "source": [
    "zipped_data"
   ]
  },
  {
   "cell_type": "code",
   "execution_count": 59,
   "id": "5d943ed6-180c-4eb1-a965-ff207d807dd5",
   "metadata": {},
   "outputs": [
    {
     "data": {
      "text/plain": [
       "zip"
      ]
     },
     "execution_count": 59,
     "metadata": {},
     "output_type": "execute_result"
    }
   ],
   "source": [
    "type(zipped_data)"
   ]
  },
  {
   "cell_type": "markdown",
   "id": "adf461bb-25b4-4f6f-a573-0faafa7204f2",
   "metadata": {
    "jp-MarkdownHeadingCollapsed": true
   },
   "source": [
    "<h4>21. reversed(): Returns a reverse iterator of a sequence</h4>"
   ]
  },
  {
   "cell_type": "code",
   "execution_count": 60,
   "id": "76ab59a4-1b08-44ee-9f8c-f23a77fcee4a",
   "metadata": {},
   "outputs": [
    {
     "data": {
      "text/plain": [
       "[4, 3, 2, 1]"
      ]
     },
     "execution_count": 60,
     "metadata": {},
     "output_type": "execute_result"
    }
   ],
   "source": [
    "my_list=[1,2,3,4]\n",
    "reversed_list=list(reversed(my_list))\n",
    "reversed_list"
   ]
  },
  {
   "cell_type": "markdown",
   "id": "d7380401-9d9b-42c5-ba56-c81a4906f382",
   "metadata": {
    "jp-MarkdownHeadingCollapsed": true
   },
   "source": [
    "<h4>22. sum() (with start argument):Returns the sum of an iterable with an optional starting value.</h4>"
   ]
  },
  {
   "cell_type": "code",
   "execution_count": 63,
   "id": "2fbd4adb-7e6d-4b15-bbaa-220969a84d31",
   "metadata": {},
   "outputs": [],
   "source": [
    "numbers=[1,2,3]\n",
    "total=sum(numbers,100)"
   ]
  },
  {
   "cell_type": "code",
   "execution_count": 64,
   "id": "70d742a3-ac4f-45c3-a9c4-7f12f1270a30",
   "metadata": {},
   "outputs": [
    {
     "data": {
      "text/plain": [
       "106"
      ]
     },
     "execution_count": 64,
     "metadata": {},
     "output_type": "execute_result"
    }
   ],
   "source": [
    "total"
   ]
  },
  {
   "cell_type": "markdown",
   "id": "81876166-94c0-4795-b318-5aa085a4a93f",
   "metadata": {
    "jp-MarkdownHeadingCollapsed": true
   },
   "source": [
    "<h4>23. abs() (for complex numbers): Returns the magnitude of a complex number.</h4>\n",
    "</h5>"
   ]
  },
  {
   "cell_type": "code",
   "execution_count": 66,
   "id": "2188ebfb-e135-48e3-863c-9cfb526391a6",
   "metadata": {},
   "outputs": [],
   "source": [
    "complex_num=3+4j\n",
    "magnitude=abs(complex_num)"
   ]
  },
  {
   "cell_type": "code",
   "execution_count": 67,
   "id": "ab27413d-591d-4a38-88fb-1b05405f86de",
   "metadata": {},
   "outputs": [
    {
     "data": {
      "text/plain": [
       "5.0"
      ]
     },
     "execution_count": 67,
     "metadata": {},
     "output_type": "execute_result"
    }
   ],
   "source": [
    "magnitude"
   ]
  },
  {
   "cell_type": "markdown",
   "id": "e757f1d5-82dc-47bd-b543-ad14617287af",
   "metadata": {
    "jp-MarkdownHeadingCollapsed": true
   },
   "source": [
    "<h4>24. slice(): Creates a slice object that can be used to slice sequences like lists and strings.</h4>"
   ]
  },
  {
   "cell_type": "code",
   "execution_count": 69,
   "id": "896befc9-7462-46dc-a367-a7233ffb83ff",
   "metadata": {},
   "outputs": [
    {
     "data": {
      "text/plain": [
       "[2, 3, 4]"
      ]
     },
     "execution_count": 69,
     "metadata": {},
     "output_type": "execute_result"
    }
   ],
   "source": [
    "my_list=[1,2,3,4,5] # index 1 to index n-1=4-1=3\n",
    "my_slice=slice(1,4)\n",
    "sliced_list=my_list[my_slice]\n",
    "sliced_list"
   ]
  },
  {
   "cell_type": "markdown",
   "id": "7aee6479-f15d-49a2-acdf-47bb98fabd56",
   "metadata": {
    "jp-MarkdownHeadingCollapsed": true
   },
   "source": [
    "<h4>25. chr(), ord() (extended usage): Handling Unicode characters and code points.</h4>"
   ]
  },
  {
   "cell_type": "code",
   "execution_count": 70,
   "id": "5898f155-499a-4a89-834f-ab4e340f5573",
   "metadata": {},
   "outputs": [],
   "source": [
    "euro_symbol = chr(8364)  # returns '€'\n",
    "code_point = ord('€')  # returns 8364"
   ]
  },
  {
   "cell_type": "code",
   "execution_count": 71,
   "id": "9259a17b-9d84-45c9-bd41-9171cedf7931",
   "metadata": {},
   "outputs": [
    {
     "data": {
      "text/plain": [
       "'€'"
      ]
     },
     "execution_count": 71,
     "metadata": {},
     "output_type": "execute_result"
    }
   ],
   "source": [
    "euro_symbol"
   ]
  },
  {
   "cell_type": "code",
   "execution_count": 72,
   "id": "2d1a1ddd-19b8-4c86-a5c7-83cf60a03b6d",
   "metadata": {},
   "outputs": [
    {
     "data": {
      "text/plain": [
       "8364"
      ]
     },
     "execution_count": 72,
     "metadata": {},
     "output_type": "execute_result"
    }
   ],
   "source": [
    "code_point"
   ]
  },
  {
   "cell_type": "code",
   "execution_count": 73,
   "id": "94d098ca-cbb5-43fe-9fde-0b542e7b13dc",
   "metadata": {},
   "outputs": [],
   "source": [
    "euro_symbol = chr(65)  # returns '€'\n",
    "code_point = ord('A')  # returns 8364"
   ]
  },
  {
   "cell_type": "code",
   "execution_count": 74,
   "id": "689e7b7b-1ef4-429b-85a4-1e99a645dceb",
   "metadata": {},
   "outputs": [
    {
     "data": {
      "text/plain": [
       "'A'"
      ]
     },
     "execution_count": 74,
     "metadata": {},
     "output_type": "execute_result"
    }
   ],
   "source": [
    "euro_symbol\n"
   ]
  },
  {
   "cell_type": "code",
   "execution_count": 75,
   "id": "d5f83880-5467-4195-9fdb-915573203d78",
   "metadata": {},
   "outputs": [
    {
     "data": {
      "text/plain": [
       "65"
      ]
     },
     "execution_count": 75,
     "metadata": {},
     "output_type": "execute_result"
    }
   ],
   "source": [
    "code_point "
   ]
  },
  {
   "cell_type": "code",
   "execution_count": null,
   "id": "8205bcc5-9d99-42e3-85e2-a257cf60c2a1",
   "metadata": {},
   "outputs": [],
   "source": []
  }
 ],
 "metadata": {
  "kernelspec": {
   "display_name": "Python 3 (ipykernel)",
   "language": "python",
   "name": "python3"
  },
  "language_info": {
   "codemirror_mode": {
    "name": "ipython",
    "version": 3
   },
   "file_extension": ".py",
   "mimetype": "text/x-python",
   "name": "python",
   "nbconvert_exporter": "python",
   "pygments_lexer": "ipython3",
   "version": "3.11.7"
  }
 },
 "nbformat": 4,
 "nbformat_minor": 5
}
