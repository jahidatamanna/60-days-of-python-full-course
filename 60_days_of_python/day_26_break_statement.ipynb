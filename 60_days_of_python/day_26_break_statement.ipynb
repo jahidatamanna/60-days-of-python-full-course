{
 "cells": [
  {
   "cell_type": "markdown",
   "id": "5a63d59f-997b-4500-9336-a2ac89ebb979",
   "metadata": {},
   "source": [
    "<h4>Break statement</h4>"
   ]
  },
  {
   "cell_type": "code",
   "execution_count": 9,
   "id": "fdfb24f7-ae12-4ca2-be10-6bfe5d26494c",
   "metadata": {},
   "outputs": [
    {
     "name": "stdout",
     "output_type": "stream",
     "text": [
      "1\n",
      "2\n",
      "3\n",
      "4\n"
     ]
    }
   ],
   "source": [
    "for x in range(1,11):\n",
    "    if x==5:\n",
    "        break\n",
    "    print(x)"
   ]
  },
  {
   "cell_type": "code",
   "execution_count": 18,
   "id": "625c7c46-3202-4950-8260-230d782a956d",
   "metadata": {},
   "outputs": [
    {
     "name": "stdout",
     "output_type": "stream",
     "text": [
      "3 * 1 = 3\n",
      "3 * 2 = 6\n",
      "3 * 3 = 9\n",
      "3 * 4 = 12\n",
      "3 * 5 = 15\n",
      "3 * 6 = 18\n",
      "3 * 7 = 21\n",
      "3 * 8 = 24\n",
      "3 * 9 = 27\n",
      "3 * 10 = 30\n"
     ]
    }
   ],
   "source": [
    "for x in range(1,100):\n",
    "    if x==11:\n",
    "        break\n",
    "    print('3 *',x,'=',x*3)"
   ]
  },
  {
   "cell_type": "code",
   "execution_count": 26,
   "id": "11c28e87-935d-44e9-976d-f50e66c81f9c",
   "metadata": {},
   "outputs": [],
   "source": [
    "s=' hey my love is you'\n"
   ]
  },
  {
   "cell_type": "code",
   "execution_count": 27,
   "id": "ad54e80c-a825-4001-9569-bf756ed4de33",
   "metadata": {},
   "outputs": [
    {
     "name": "stdout",
     "output_type": "stream",
     "text": [
      "hey\n",
      "my\n"
     ]
    }
   ],
   "source": [
    "for i in s.split():\n",
    "    if i=='love':\n",
    "        break\n",
    "    print(i)"
   ]
  },
  {
   "cell_type": "code",
   "execution_count": 30,
   "id": "5e70466f-4dfb-4ee0-9e41-1abf001777f5",
   "metadata": {},
   "outputs": [
    {
     "name": "stdout",
     "output_type": "stream",
     "text": [
      "3 * 1 = 3\n",
      "3 * 2 = 6\n",
      "3 * 3 = 9\n",
      "3 * 4 = 12\n",
      "3 * 5 = 15\n",
      "3 * 6 = 18\n",
      "3 * 7 = 21\n",
      "3 * 8 = 24\n",
      "3 * 9 = 27\n",
      "3 * 10 = 30\n"
     ]
    }
   ],
   "source": [
    "for x in range(1,100):\n",
    "    if x==11:\n",
    "        break\n",
    "    print('3 *',x,'=',x*3)"
   ]
  },
  {
   "cell_type": "code",
   "execution_count": 31,
   "id": "ed33b4b5-5f69-4eab-87f8-c920f242e142",
   "metadata": {},
   "outputs": [
    {
     "ename": "SyntaxError",
     "evalue": "invalid syntax (245345290.py, line 6)",
     "output_type": "error",
     "traceback": [
      "\u001b[1;36m  Cell \u001b[1;32mIn[31], line 6\u001b[1;36m\u001b[0m\n\u001b[1;33m    i++\u001b[0m\n\u001b[1;37m       ^\u001b[0m\n\u001b[1;31mSyntaxError\u001b[0m\u001b[1;31m:\u001b[0m invalid syntax\n"
     ]
    }
   ],
   "source": [
    "i=1\n",
    "while i<=100:\n",
    "    if x==11:\n",
    "        break\n",
    "    print('3 *',x,'=',x*3) \n",
    "    i++"
   ]
  },
  {
   "cell_type": "code",
   "execution_count": null,
   "id": "32d196d0-cce1-4303-8836-b15482665a15",
   "metadata": {},
   "outputs": [],
   "source": []
  }
 ],
 "metadata": {
  "kernelspec": {
   "display_name": "Python 3 (ipykernel)",
   "language": "python",
   "name": "python3"
  },
  "language_info": {
   "codemirror_mode": {
    "name": "ipython",
    "version": 3
   },
   "file_extension": ".py",
   "mimetype": "text/x-python",
   "name": "python",
   "nbconvert_exporter": "python",
   "pygments_lexer": "ipython3",
   "version": "3.11.7"
  }
 },
 "nbformat": 4,
 "nbformat_minor": 5
}
