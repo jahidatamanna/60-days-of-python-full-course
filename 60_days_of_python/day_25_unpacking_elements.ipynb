{
 "cells": [
  {
   "cell_type": "markdown",
   "id": "74e2984c-09e9-4e7c-8775-1c08311f4957",
   "metadata": {},
   "source": [
    "<h4>Unpacking Elements</h4>"
   ]
  },
  {
   "cell_type": "code",
   "execution_count": 11,
   "id": "ed85c2e1-ede4-41fe-bc61-845dcf5c9b2b",
   "metadata": {},
   "outputs": [],
   "source": [
    "# take two tuple\n",
    "ids=(1,2,3)\n",
    "name=('tamanna','jahida','ismaile')"
   ]
  },
  {
   "cell_type": "code",
   "execution_count": 13,
   "id": "dc489175-0719-49f2-b03d-27d5a53f3244",
   "metadata": {},
   "outputs": [
    {
     "data": {
      "text/plain": [
       "((1, 'tamanna'), (2, 'jahida'), (3, 'ismaile'))"
      ]
     },
     "execution_count": 13,
     "metadata": {},
     "output_type": "execute_result"
    }
   ],
   "source": [
    "#convert zip\n",
    "zipped=tuple(zip(ids,name))\n",
    "zipped"
   ]
  },
  {
   "cell_type": "code",
   "execution_count": 15,
   "id": "56ce4c36-cad5-4230-852f-8cc97bb1bcaa",
   "metadata": {},
   "outputs": [],
   "source": [
    "#zipped to unzipped\n",
    "ids_new,name_new=zip(*zipped)"
   ]
  },
  {
   "cell_type": "code",
   "execution_count": 16,
   "id": "047323f9-3989-4990-b26b-ef1d5605e7ef",
   "metadata": {},
   "outputs": [
    {
     "data": {
      "text/plain": [
       "(1, 2, 3)"
      ]
     },
     "execution_count": 16,
     "metadata": {},
     "output_type": "execute_result"
    }
   ],
   "source": [
    "ids_new"
   ]
  },
  {
   "cell_type": "code",
   "execution_count": 17,
   "id": "26422589-8134-4126-924c-260e0079d999",
   "metadata": {},
   "outputs": [
    {
     "data": {
      "text/plain": [
       "('tamanna', 'jahida', 'ismaile')"
      ]
     },
     "execution_count": 17,
     "metadata": {},
     "output_type": "execute_result"
    }
   ],
   "source": [
    "name_new"
   ]
  },
  {
   "cell_type": "code",
   "execution_count": 18,
   "id": "a8a09261-8996-44b7-a46a-e1e6f938428c",
   "metadata": {},
   "outputs": [
    {
     "name": "stdout",
     "output_type": "stream",
     "text": [
      "1 tamanna\n",
      "2 jahida\n",
      "3 ismaile\n"
     ]
    }
   ],
   "source": [
    "# unpacking using loop\n",
    "for ids,name in zipped:\n",
    "    print(ids,name)"
   ]
  },
  {
   "cell_type": "code",
   "execution_count": 19,
   "id": "eced40aa-3cab-40de-8635-dd09bbaf7cde",
   "metadata": {},
   "outputs": [
    {
     "name": "stdout",
     "output_type": "stream",
     "text": [
      "(0, (1, 'tamanna'))\n",
      "(1, (2, 'jahida'))\n",
      "(2, (3, 'ismaile'))\n"
     ]
    }
   ],
   "source": [
    "# Enumerating:Iterate over pairs\n",
    "for data in enumerate(zipped):\n",
    "    #unpack pair:ids,name\n",
    "    ids,name=data\n",
    "    print(data)"
   ]
  },
  {
   "cell_type": "code",
   "execution_count": 29,
   "id": "abbd3f8b-e482-4751-baa0-6570720642b7",
   "metadata": {},
   "outputs": [
    {
     "name": "stdout",
     "output_type": "stream",
     "text": [
      "Rank 0, id = 1,Name = tamanna\n",
      "Rank 1, id = 2,Name = jahida\n",
      "Rank 2, id = 3,Name = ismaile\n"
     ]
    }
   ],
   "source": [
    "# Enumerating:Iterate over pairs\n",
    "for index,pair in enumerate(zipped):\n",
    "    #unpack pair:ids,name\n",
    "    ids,name=pair\n",
    "    print('Rank {}, id = {},Name = {}'.format(index,ids,name))"
   ]
  },
  {
   "cell_type": "code",
   "execution_count": null,
   "id": "389bbcd4-0cdc-491b-9567-3b3d5e74e4c2",
   "metadata": {},
   "outputs": [],
   "source": []
  }
 ],
 "metadata": {
  "kernelspec": {
   "display_name": "Python 3 (ipykernel)",
   "language": "python",
   "name": "python3"
  },
  "language_info": {
   "codemirror_mode": {
    "name": "ipython",
    "version": 3
   },
   "file_extension": ".py",
   "mimetype": "text/x-python",
   "name": "python",
   "nbconvert_exporter": "python",
   "pygments_lexer": "ipython3",
   "version": "3.11.7"
  }
 },
 "nbformat": 4,
 "nbformat_minor": 5
}
