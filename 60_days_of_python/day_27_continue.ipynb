{
 "cells": [
  {
   "cell_type": "markdown",
   "id": "14e0ca29-2254-4e12-aac6-296701d6d70b",
   "metadata": {},
   "source": [
    "<h4>Continue in python</h4>"
   ]
  },
  {
   "cell_type": "code",
   "execution_count": 1,
   "id": "9dcc5a5c-4053-4316-a516-301ce6021d40",
   "metadata": {},
   "outputs": [],
   "source": [
    "num=[1,2,3,4,5,6,7,8,9,10,12,14,15]\n"
   ]
  },
  {
   "cell_type": "code",
   "execution_count": 2,
   "id": "060c7db2-e1cf-43ee-8241-8d56f4d06b7d",
   "metadata": {},
   "outputs": [
    {
     "data": {
      "text/plain": [
       "[1, 2, 3, 4, 5, 6, 7, 8, 9, 10, 12, 14, 15]"
      ]
     },
     "execution_count": 2,
     "metadata": {},
     "output_type": "execute_result"
    }
   ],
   "source": [
    "num"
   ]
  },
  {
   "cell_type": "code",
   "execution_count": 10,
   "id": "8ac1cfbd-391e-4393-a6c1-db38985dc6f0",
   "metadata": {},
   "outputs": [
    {
     "data": {
      "text/plain": [
       "[2, 4, 6, 8, 10, 12, 14]"
      ]
     },
     "execution_count": 10,
     "metadata": {},
     "output_type": "execute_result"
    }
   ],
   "source": [
    "#List Comprehension\n",
    "[ i for i in  num if i%2==0 ] #even number"
   ]
  },
  {
   "cell_type": "code",
   "execution_count": 14,
   "id": "bb53ad3c-c7ea-43a6-9898-e1d8d2ccbc35",
   "metadata": {},
   "outputs": [
    {
     "name": "stdout",
     "output_type": "stream",
     "text": [
      "[2, 4, 6, 8, 10, 12, 14]\n"
     ]
    }
   ],
   "source": [
    "# Another way of List Comprehension\n",
    "num=[1,2,3,4,5,6,7,8,9,10,12,14,15]\n",
    "x=[]\n",
    "for i in num:\n",
    "    if i%2==0:\n",
    "        x.append(i)\n",
    "print(x)\n"
   ]
  },
  {
   "cell_type": "code",
   "execution_count": 15,
   "id": "04628418-5561-4521-b94d-e343f1591d6f",
   "metadata": {},
   "outputs": [
    {
     "name": "stdout",
     "output_type": "stream",
     "text": [
      "1\n",
      "3\n",
      "5\n",
      "7\n",
      "9\n",
      "15\n"
     ]
    }
   ],
   "source": [
    "for i in num:\n",
    "    if i%2==0:\n",
    "        continue\n",
    "    print(i)"
   ]
  },
  {
   "cell_type": "code",
   "execution_count": 16,
   "id": "791aec6e-961e-4052-af39-42ee77aa29d7",
   "metadata": {},
   "outputs": [],
   "source": [
    "s=\"my love is you\""
   ]
  },
  {
   "cell_type": "code",
   "execution_count": 20,
   "id": "d672ea46-1053-46b5-92f9-355ad0a0dadb",
   "metadata": {},
   "outputs": [
    {
     "name": "stdout",
     "output_type": "stream",
     "text": [
      "my\n",
      "love\n",
      "you\n"
     ]
    }
   ],
   "source": [
    "for i in s.split():\n",
    "    if i==\"is\":\n",
    "        continue\n",
    "    print(i)"
   ]
  },
  {
   "cell_type": "code",
   "execution_count": null,
   "id": "d0390055-83de-4539-a86f-1a4012c55449",
   "metadata": {},
   "outputs": [],
   "source": []
  }
 ],
 "metadata": {
  "kernelspec": {
   "display_name": "Python 3 (ipykernel)",
   "language": "python",
   "name": "python3"
  },
  "language_info": {
   "codemirror_mode": {
    "name": "ipython",
    "version": 3
   },
   "file_extension": ".py",
   "mimetype": "text/x-python",
   "name": "python",
   "nbconvert_exporter": "python",
   "pygments_lexer": "ipython3",
   "version": "3.11.7"
  }
 },
 "nbformat": 4,
 "nbformat_minor": 5
}
