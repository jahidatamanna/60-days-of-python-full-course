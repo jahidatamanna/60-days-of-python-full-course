{
 "cells": [
  {
   "cell_type": "code",
   "execution_count": 2,
   "id": "9c1df4ca-5b96-42a8-b4cb-32d897cbf033",
   "metadata": {},
   "outputs": [
    {
     "data": {
      "text/plain": [
       "5"
      ]
     },
     "execution_count": 2,
     "metadata": {},
     "output_type": "execute_result"
    }
   ],
   "source": [
    "def add(x,y):\n",
    "    return x+y\n",
    "\n",
    "add(2,3)"
   ]
  },
  {
   "cell_type": "code",
   "execution_count": 3,
   "id": "dc1d9892-1088-411d-8e3f-7c4674904bfc",
   "metadata": {},
   "outputs": [
    {
     "data": {
      "text/plain": [
       "5"
      ]
     },
     "execution_count": 3,
     "metadata": {},
     "output_type": "execute_result"
    }
   ],
   "source": [
    "f=lambda x,y:x+y\n",
    "f(2,3)"
   ]
  },
  {
   "cell_type": "code",
   "execution_count": 4,
   "id": "e4ef4a43-1171-42ef-850c-6c9ffe7bb2c5",
   "metadata": {},
   "outputs": [
    {
     "data": {
      "text/plain": [
       "-1"
      ]
     },
     "execution_count": 4,
     "metadata": {},
     "output_type": "execute_result"
    }
   ],
   "source": [
    "f=lambda x,y:x-y\n",
    "f(3,4)"
   ]
  },
  {
   "cell_type": "markdown",
   "id": "55312b8f-d135-41bc-bebb-9e7b755a0801",
   "metadata": {},
   "source": [
    "<h2>Lambda in higher order</h2>"
   ]
  },
  {
   "cell_type": "code",
   "execution_count": 5,
   "id": "2139a6d3-0857-456e-a545-7abc163403dd",
   "metadata": {},
   "outputs": [
    {
     "data": {
      "text/plain": [
       "9"
      ]
     },
     "execution_count": 5,
     "metadata": {},
     "output_type": "execute_result"
    }
   ],
   "source": [
    "def operation_higher(x,y,operation):\n",
    "    return operation(x,y)\n",
    "\n",
    "operation_higher(4,5,lambda x,y:x+y)"
   ]
  },
  {
   "cell_type": "code",
   "execution_count": null,
   "id": "420f5488-7151-403e-b9b7-d70cefa6fe51",
   "metadata": {},
   "outputs": [],
   "source": []
  }
 ],
 "metadata": {
  "kernelspec": {
   "display_name": "Python 3 (ipykernel)",
   "language": "python",
   "name": "python3"
  },
  "language_info": {
   "codemirror_mode": {
    "name": "ipython",
    "version": 3
   },
   "file_extension": ".py",
   "mimetype": "text/x-python",
   "name": "python",
   "nbconvert_exporter": "python",
   "pygments_lexer": "ipython3",
   "version": "3.11.7"
  }
 },
 "nbformat": 4,
 "nbformat_minor": 5
}
