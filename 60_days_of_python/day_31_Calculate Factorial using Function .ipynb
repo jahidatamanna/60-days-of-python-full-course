{
 "cells": [
  {
   "cell_type": "markdown",
   "id": "f9d2cc03-2190-41e2-af04-7e5ee50ba3be",
   "metadata": {},
   "source": [
    "<h2>Factorial</h2>"
   ]
  },
  {
   "cell_type": "code",
   "execution_count": 13,
   "id": "a7e4f78a-6bee-4d77-9ad4-32c725821d34",
   "metadata": {},
   "outputs": [],
   "source": [
    "def fact(x):\n",
    "    result=1\n",
    "    if x==1 or x==0:\n",
    "        print(f'The {x}! is =1')\n",
    "    else:\n",
    "        for i in range(x):\n",
    "            result=result*(i+1)\n",
    "        return result"
   ]
  },
  {
   "cell_type": "code",
   "execution_count": 14,
   "id": "e847dae6-cb17-4833-80f9-d954a4a3a2f2",
   "metadata": {},
   "outputs": [
    {
     "name": "stdout",
     "output_type": "stream",
     "text": [
      "The 0! is =1\n"
     ]
    }
   ],
   "source": [
    "fact(0)"
   ]
  },
  {
   "cell_type": "code",
   "execution_count": 18,
   "id": "b07cccb4-1311-4406-9c5c-7110ae3fdf95",
   "metadata": {},
   "outputs": [
    {
     "data": {
      "text/plain": [
       "120"
      ]
     },
     "execution_count": 18,
     "metadata": {},
     "output_type": "execute_result"
    }
   ],
   "source": [
    "def fact(x):\n",
    "    result = 1\n",
    "    if x == 1 or x == 0:\n",
    "        print(f'The {x}! is = 1')\n",
    "    else:\n",
    "        i = 1\n",
    "        while i <= x:\n",
    "            result *= i\n",
    "            i += 1\n",
    "        return result\n",
    "        \n",
    "\n",
    "fact(5)\n"
   ]
  },
  {
   "cell_type": "code",
   "execution_count": 23,
   "id": "f1774b23-5ae0-40e1-93a6-bd5991f594fb",
   "metadata": {},
   "outputs": [
    {
     "name": "stdin",
     "output_type": "stream",
     "text": [
      "Enter a number to calculate its factorial:  5\n"
     ]
    },
    {
     "data": {
      "text/plain": [
       "120"
      ]
     },
     "execution_count": 23,
     "metadata": {},
     "output_type": "execute_result"
    }
   ],
   "source": [
    "\n",
    "x = int(input(\"Enter a number to calculate its factorial: \"))\n",
    "def fact(x):\n",
    "    result = 1\n",
    "    if x == 1 or x == 0:\n",
    "        print(f'The {x}! is = 1')\n",
    "    else:\n",
    "        i = 1\n",
    "        while i <= x:\n",
    "            result *= i\n",
    "            i += 1\n",
    "        return result \n",
    "\n",
    "\n",
    "fact(x)\n"
   ]
  },
  {
   "cell_type": "code",
   "execution_count": 25,
   "id": "c5db112f-c69f-4287-8ebe-2c636e00df4f",
   "metadata": {},
   "outputs": [
    {
     "data": {
      "text/plain": [
       "2"
      ]
     },
     "execution_count": 25,
     "metadata": {},
     "output_type": "execute_result"
    }
   ],
   "source": [
    "def fact(x):\n",
    "    result=1\n",
    "    if x==1 or x==0:\n",
    "        print(f'The {x}! is = 1')\n",
    "    else:\n",
    "        i=1\n",
    "        while i<=x:\n",
    "            result=result*i\n",
    "            i=i+1\n",
    "        return result\n",
    "\n",
    "fact(2)\n",
    "    "
   ]
  },
  {
   "cell_type": "code",
   "execution_count": null,
   "id": "a539e3fe-da43-4610-81c4-1349c0b01e7d",
   "metadata": {},
   "outputs": [],
   "source": []
  }
 ],
 "metadata": {
  "kernelspec": {
   "display_name": "Python 3 (ipykernel)",
   "language": "python",
   "name": "python3"
  },
  "language_info": {
   "codemirror_mode": {
    "name": "ipython",
    "version": 3
   },
   "file_extension": ".py",
   "mimetype": "text/x-python",
   "name": "python",
   "nbconvert_exporter": "python",
   "pygments_lexer": "ipython3",
   "version": "3.11.7"
  }
 },
 "nbformat": 4,
 "nbformat_minor": 5
}
