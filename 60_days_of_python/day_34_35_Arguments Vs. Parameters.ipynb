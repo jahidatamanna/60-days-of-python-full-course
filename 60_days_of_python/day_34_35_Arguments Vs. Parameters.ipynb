{
 "cells": [
  {
   "cell_type": "code",
   "execution_count": 4,
   "id": "f32efccb-4cfb-4670-8f21-ebc3a8810992",
   "metadata": {},
   "outputs": [
    {
     "data": {
      "text/plain": [
       "20"
      ]
     },
     "execution_count": 4,
     "metadata": {},
     "output_type": "execute_result"
    }
   ],
   "source": [
    "def num_add(x,y): #parameter\n",
    "    sum=x+y\n",
    "    return sum\n",
    "num_add(12,8) #argument"
   ]
  },
  {
   "cell_type": "markdown",
   "id": "c56cc0d3-1f66-44bd-a645-37d9d870fce2",
   "metadata": {},
   "source": [
    "<h2>Arguments</h2>\n",
    "<p>1. positional argument</p>\n",
    "<p>2. keyword argument</p>\n",
    "<p>3. default argument</p>\n",
    "<p>4. variable length argument</p>"
   ]
  },
  {
   "cell_type": "markdown",
   "id": "4793b5f9-06b8-4cff-8d16-0e7decf5ab4e",
   "metadata": {},
   "source": [
    "<h2>Positional argument</h2>"
   ]
  },
  {
   "cell_type": "code",
   "execution_count": 5,
   "id": "c529fd87-b112-4984-aed2-cd72b77b6c06",
   "metadata": {},
   "outputs": [
    {
     "name": "stdout",
     "output_type": "stream",
     "text": [
      "12\n"
     ]
    }
   ],
   "source": [
    "def num_add(x,y): #parameter\n",
    "    print(x) #output positional argument\n",
    "num_add(12,8) #argument  "
   ]
  },
  {
   "cell_type": "markdown",
   "id": "83de351a-6b5e-49f6-8c4c-48c7101d380a",
   "metadata": {},
   "source": [
    "<h2>Keyword argument</h2>"
   ]
  },
  {
   "cell_type": "code",
   "execution_count": 7,
   "id": "fe345921-c830-4b29-8f40-43643ce96267",
   "metadata": {},
   "outputs": [
    {
     "name": "stdout",
     "output_type": "stream",
     "text": [
      "data scientist\n",
      "20000\n"
     ]
    }
   ],
   "source": [
    "def personal(job,income):\n",
    "    print(job)\n",
    "    print(income)\n",
    "\n",
    "personal('data scientist',20000)"
   ]
  },
  {
   "cell_type": "code",
   "execution_count": 9,
   "id": "9cb4c927-c0d8-4a21-be05-4e905f6b9af6",
   "metadata": {},
   "outputs": [
    {
     "name": "stdout",
     "output_type": "stream",
     "text": [
      "job= data scientist\n",
      "income= 20000\n"
     ]
    }
   ],
   "source": [
    "def personal(job,income):\n",
    "    print('job=',job)\n",
    "    print('income=',income)\n",
    "\n",
    "personal(income=20000,job= 'data scientist')"
   ]
  },
  {
   "cell_type": "markdown",
   "id": "a0708d20-f127-46ea-9a7e-56a411818559",
   "metadata": {},
   "source": [
    "<h2>default argument</h2>"
   ]
  },
  {
   "cell_type": "code",
   "execution_count": 11,
   "id": "94e7f01a-b71c-4022-b10d-583c7993d207",
   "metadata": {},
   "outputs": [
    {
     "name": "stdout",
     "output_type": "stream",
     "text": [
      "job= data science\n",
      "income= 20000\n"
     ]
    }
   ],
   "source": [
    "def personal(job,income=100000):\n",
    "    print('job=',job)\n",
    "    \n",
    "    print('income=',income)\n",
    "personal('data science',20000)"
   ]
  },
  {
   "cell_type": "markdown",
   "id": "e829b16b-3465-4d91-9412-3f21e260da74",
   "metadata": {},
   "source": [
    "<h2> variable length argument</h2>"
   ]
  },
  {
   "cell_type": "code",
   "execution_count": 19,
   "id": "687f0f2d-3df2-4e2e-ba96-f741ef34ef29",
   "metadata": {},
   "outputs": [
    {
     "name": "stdout",
     "output_type": "stream",
     "text": [
      "(10, 20, 30, 40, 12, 13)\n"
     ]
    },
    {
     "data": {
      "text/plain": [
       "125"
      ]
     },
     "execution_count": 19,
     "metadata": {},
     "output_type": "execute_result"
    }
   ],
   "source": [
    "def add_num(*x):\n",
    "    print(x)\n",
    "    result=sum(x)\n",
    "    return result\n",
    "\n",
    "add_num(10,20,30,40,12,13)"
   ]
  },
  {
   "cell_type": "code",
   "execution_count": 20,
   "id": "7410a55c-26e4-4707-b5c7-7ac6c6bfbf94",
   "metadata": {},
   "outputs": [
    {
     "name": "stdout",
     "output_type": "stream",
     "text": [
      "10\n",
      "(20, 30, 40)\n"
     ]
    }
   ],
   "source": [
    "def add_num(x,*y):\n",
    "    print(x)\n",
    "    print(y)\n",
    "   \n",
    "\n",
    "add_num(10,20,30,40)"
   ]
  },
  {
   "cell_type": "markdown",
   "id": "f9e34f0f-8cf5-415f-a3ea-c17cb4b74c9a",
   "metadata": {},
   "source": [
    "<h2>argument and keyword</h2>"
   ]
  },
  {
   "cell_type": "code",
   "execution_count": 22,
   "id": "80c6d661-d05e-42c5-be91-6d45f2320c59",
   "metadata": {},
   "outputs": [
    {
     "name": "stdout",
     "output_type": "stream",
     "text": [
      "jahida tamanna\n",
      "('cse', 'student')\n"
     ]
    }
   ],
   "source": [
    "def personal_date(name,*arg):\n",
    "    print(name)\n",
    "    print(arg)\n",
    "\n",
    "personal_date('jahida tamanna','cse','student')"
   ]
  },
  {
   "cell_type": "code",
   "execution_count": 24,
   "id": "78a2de4f-ca13-4594-94b3-bd579351906b",
   "metadata": {},
   "outputs": [
    {
     "name": "stdout",
     "output_type": "stream",
     "text": [
      "jahida tamanna\n",
      "{'vrsty': 'aiub', 'cty': 'dhaka'}\n",
      "<class 'dict'>\n"
     ]
    }
   ],
   "source": [
    "def personal_date(name,**arg):\n",
    "    print(name)\n",
    "    print(arg)\n",
    "    print(type(arg))\n",
    "\n",
    "personal_date('jahida tamanna',vrsty='aiub',cty='dhaka')"
   ]
  },
  {
   "cell_type": "code",
   "execution_count": null,
   "id": "6f096410-7671-40ed-8176-cd5a75ecdc8a",
   "metadata": {},
   "outputs": [],
   "source": []
  }
 ],
 "metadata": {
  "kernelspec": {
   "display_name": "Python 3 (ipykernel)",
   "language": "python",
   "name": "python3"
  },
  "language_info": {
   "codemirror_mode": {
    "name": "ipython",
    "version": 3
   },
   "file_extension": ".py",
   "mimetype": "text/x-python",
   "name": "python",
   "nbconvert_exporter": "python",
   "pygments_lexer": "ipython3",
   "version": "3.11.7"
  }
 },
 "nbformat": 4,
 "nbformat_minor": 5
}
