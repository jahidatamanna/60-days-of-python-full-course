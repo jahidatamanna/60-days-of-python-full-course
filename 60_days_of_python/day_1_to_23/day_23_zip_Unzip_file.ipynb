{
 "cells": [
  {
   "cell_type": "code",
   "execution_count": 2,
   "id": "bf18e91f-638b-4a5f-8164-637e00637ece",
   "metadata": {},
   "outputs": [],
   "source": [
    "import zipfile as zp"
   ]
  },
  {
   "cell_type": "markdown",
   "id": "f22e89cb-8547-451f-bfd8-f0bf25b83508",
   "metadata": {},
   "source": [
    "Make a zip file in a python code"
   ]
  },
  {
   "cell_type": "code",
   "execution_count": 5,
   "id": "c22fa7d4-781f-47ec-9f23-ed1e62137c3c",
   "metadata": {},
   "outputs": [],
   "source": [
    "\n",
    "zipp = zp.ZipFile('make.zip','w') # make_zip=new zip file name,w=write r=read\n",
    "\n",
    "zipp.write('day1.ipynb')\n",
    "zipp.write('day2.ipynb')\n",
    "zipp.write('day12.ipynb')"
   ]
  },
  {
   "cell_type": "markdown",
   "id": "38d5e46d-0e73-481c-9d8d-30c2d923071e",
   "metadata": {},
   "source": [
    "Unzip"
   ]
  },
  {
   "cell_type": "code",
   "execution_count": 8,
   "id": "5cd75177-3a47-4fc3-aeb8-b77e9d14108b",
   "metadata": {},
   "outputs": [],
   "source": [
    "with zp.ZipFile('make.zip','r') as file: \n",
    "    file.extractall(\"temp_unzip\")"
   ]
  },
  {
   "cell_type": "code",
   "execution_count": null,
   "id": "1a560e19-105b-4522-97bf-48b90ee86082",
   "metadata": {},
   "outputs": [],
   "source": []
  }
 ],
 "metadata": {
  "kernelspec": {
   "display_name": "Python 3 (ipykernel)",
   "language": "python",
   "name": "python3"
  },
  "language_info": {
   "codemirror_mode": {
    "name": "ipython",
    "version": 3
   },
   "file_extension": ".py",
   "mimetype": "text/x-python",
   "name": "python",
   "nbconvert_exporter": "python",
   "pygments_lexer": "ipython3",
   "version": "3.11.7"
  }
 },
 "nbformat": 4,
 "nbformat_minor": 5
}
