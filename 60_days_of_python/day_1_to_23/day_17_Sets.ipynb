{
 "cells": [
  {
   "cell_type": "code",
   "execution_count": 4,
   "id": "2185f14a-1236-43e6-8a2b-750a67b35dc3",
   "metadata": {},
   "outputs": [
    {
     "data": {
      "text/plain": [
       "{1, 2, 3, 4, 5, 6, 7}"
      ]
     },
     "execution_count": 4,
     "metadata": {},
     "output_type": "execute_result"
    }
   ],
   "source": [
    "set1={1,2,3,4,5,6,7}\n",
    "set1"
   ]
  },
  {
   "cell_type": "code",
   "execution_count": 5,
   "id": "66287360-f228-44cf-b1de-79899bba566b",
   "metadata": {},
   "outputs": [
    {
     "data": {
      "text/plain": [
       "set"
      ]
     },
     "execution_count": 5,
     "metadata": {},
     "output_type": "execute_result"
    }
   ],
   "source": [
    "type(set1)"
   ]
  },
  {
   "cell_type": "code",
   "execution_count": 10,
   "id": "4d8e7b92-00be-479d-9aff-c6164258363b",
   "metadata": {},
   "outputs": [],
   "source": [
    "set2={}\n",
    "li=[]"
   ]
  },
  {
   "cell_type": "code",
   "execution_count": 9,
   "id": "54156ce0-49b9-4201-9922-04e7d6500af3",
   "metadata": {},
   "outputs": [
    {
     "data": {
      "text/plain": [
       "dict"
      ]
     },
     "execution_count": 9,
     "metadata": {},
     "output_type": "execute_result"
    }
   ],
   "source": [
    "type(set2)"
   ]
  },
  {
   "cell_type": "code",
   "execution_count": 11,
   "id": "dc516c76-90e5-4375-ad1c-9ac5bf01cc61",
   "metadata": {},
   "outputs": [
    {
     "data": {
      "text/plain": [
       "list"
      ]
     },
     "execution_count": 11,
     "metadata": {},
     "output_type": "execute_result"
    }
   ],
   "source": [
    "type(li)"
   ]
  },
  {
   "cell_type": "code",
   "execution_count": 15,
   "id": "7b4c2200-f97a-4cfd-927a-55a5662161d3",
   "metadata": {},
   "outputs": [],
   "source": [
    "set3=set() # if we want  to define a null set thn we must represent it with set() function nd thn call the selected nul set"
   ]
  },
  {
   "cell_type": "code",
   "execution_count": 16,
   "id": "8621d22f-01b6-4f1f-a25e-a764a63513d1",
   "metadata": {},
   "outputs": [
    {
     "data": {
      "text/plain": [
       "set"
      ]
     },
     "execution_count": 16,
     "metadata": {},
     "output_type": "execute_result"
    }
   ],
   "source": [
    "type(set3)"
   ]
  },
  {
   "cell_type": "code",
   "execution_count": 17,
   "id": "9e047f89-3e1b-4be9-8874-fdec2a2cdf4a",
   "metadata": {},
   "outputs": [
    {
     "data": {
      "text/plain": [
       "set()"
      ]
     },
     "execution_count": 17,
     "metadata": {},
     "output_type": "execute_result"
    }
   ],
   "source": [
    "set3"
   ]
  },
  {
   "cell_type": "code",
   "execution_count": 18,
   "id": "56505a83-c1ce-4219-a0af-69ee030ce4b2",
   "metadata": {},
   "outputs": [
    {
     "data": {
      "text/plain": [
       "[]"
      ]
     },
     "execution_count": 18,
     "metadata": {},
     "output_type": "execute_result"
    }
   ],
   "source": [
    "li"
   ]
  },
  {
   "cell_type": "code",
   "execution_count": 19,
   "id": "f31d3a96-3173-47af-9cd9-db9a71fc018f",
   "metadata": {},
   "outputs": [
    {
     "data": {
      "text/plain": [
       "{1, 2, 3, 4, 5, 6, 7}"
      ]
     },
     "execution_count": 19,
     "metadata": {},
     "output_type": "execute_result"
    }
   ],
   "source": [
    "set1"
   ]
  },
  {
   "cell_type": "code",
   "execution_count": 20,
   "id": "247bfd73-c560-4038-9017-529dc5d29305",
   "metadata": {},
   "outputs": [
    {
     "ename": "TypeError",
     "evalue": "'set' object is not subscriptable",
     "output_type": "error",
     "traceback": [
      "\u001b[1;31m---------------------------------------------------------------------------\u001b[0m",
      "\u001b[1;31mTypeError\u001b[0m                                 Traceback (most recent call last)",
      "Cell \u001b[1;32mIn[20], line 1\u001b[0m\n\u001b[1;32m----> 1\u001b[0m set1[\u001b[38;5;241m0\u001b[39m]\n",
      "\u001b[1;31mTypeError\u001b[0m: 'set' object is not subscriptable"
     ]
    }
   ],
   "source": [
    "set1[0] # set is an unindex, so we cant not call any value by there index number,unorder,unchangeable"
   ]
  },
  {
   "cell_type": "code",
   "execution_count": 21,
   "id": "68f383c5-dff3-49d7-9c50-74f55865b97e",
   "metadata": {},
   "outputs": [],
   "source": [
    "set1.add(100) # single element add"
   ]
  },
  {
   "cell_type": "code",
   "execution_count": 22,
   "id": "5f56c1d0-3ea5-448e-b74b-61a55aa5a4f1",
   "metadata": {},
   "outputs": [
    {
     "data": {
      "text/plain": [
       "{1, 2, 3, 4, 5, 6, 7, 100}"
      ]
     },
     "execution_count": 22,
     "metadata": {},
     "output_type": "execute_result"
    }
   ],
   "source": [
    "set1"
   ]
  },
  {
   "cell_type": "code",
   "execution_count": 23,
   "id": "d8500697-b181-4ac7-aa8a-d203807661b5",
   "metadata": {},
   "outputs": [],
   "source": [
    "set1.update([10,20,30,40,10]) # add multiple valuein this way,but only unique value can be added in a set"
   ]
  },
  {
   "cell_type": "code",
   "execution_count": 24,
   "id": "63995c4a-e53b-4fb8-ba0c-8e6146292eec",
   "metadata": {},
   "outputs": [
    {
     "data": {
      "text/plain": [
       "{1, 2, 3, 4, 5, 6, 7, 10, 20, 30, 40, 100}"
      ]
     },
     "execution_count": 24,
     "metadata": {},
     "output_type": "execute_result"
    }
   ],
   "source": [
    "set1"
   ]
  },
  {
   "cell_type": "code",
   "execution_count": 39,
   "id": "2bd2de6e-dec3-4620-bb79-8a718ff40e98",
   "metadata": {},
   "outputs": [],
   "source": [
    "set1.add('ai')"
   ]
  },
  {
   "cell_type": "code",
   "execution_count": 40,
   "id": "4e93383a-da22-479d-abd2-b4b78dfabb71",
   "metadata": {},
   "outputs": [
    {
     "data": {
      "text/plain": [
       "{1, 100, 2, 20, 3, 30, 4, 40, 5, 6, 7, 'ai'}"
      ]
     },
     "execution_count": 40,
     "metadata": {},
     "output_type": "execute_result"
    }
   ],
   "source": [
    "set1"
   ]
  },
  {
   "cell_type": "code",
   "execution_count": 41,
   "id": "15059cc8-7c9d-42b3-aed7-9891e7de7a55",
   "metadata": {},
   "outputs": [],
   "source": [
    "set1.remove('ai') # single value deleted and if value is allocated in the set thn it will be deleted but if the value is not allocated ,Then the error is  shown"
   ]
  },
  {
   "cell_type": "code",
   "execution_count": 42,
   "id": "c9011399-a5c5-4fa6-9f92-168bebc5f8a8",
   "metadata": {},
   "outputs": [
    {
     "data": {
      "text/plain": [
       "{1, 2, 3, 4, 5, 6, 7, 20, 30, 40, 100}"
      ]
     },
     "execution_count": 42,
     "metadata": {},
     "output_type": "execute_result"
    }
   ],
   "source": [
    "set1"
   ]
  },
  {
   "cell_type": "code",
   "execution_count": 43,
   "id": "86a8eb65-7105-42e7-9753-9a8fab6801af",
   "metadata": {},
   "outputs": [],
   "source": [
    "set1.discard(10) # if value is allocated in the set thn it will be deleted but if not allocated value ,Then the error is not shown"
   ]
  },
  {
   "cell_type": "code",
   "execution_count": 44,
   "id": "d0984752-5c6c-4b90-9326-8d5a276b4a80",
   "metadata": {},
   "outputs": [
    {
     "data": {
      "text/plain": [
       "{1, 2, 3, 4, 5, 6, 7, 20, 30, 40, 100}"
      ]
     },
     "execution_count": 44,
     "metadata": {},
     "output_type": "execute_result"
    }
   ],
   "source": [
    "set1"
   ]
  },
  {
   "cell_type": "code",
   "execution_count": 45,
   "id": "6f341f53-eac5-4122-8f39-289ac6ed54dc",
   "metadata": {},
   "outputs": [
    {
     "data": {
      "text/plain": [
       "True"
      ]
     },
     "execution_count": 45,
     "metadata": {},
     "output_type": "execute_result"
    }
   ],
   "source": [
    "2 in set1 #check value in the set"
   ]
  },
  {
   "cell_type": "code",
   "execution_count": 51,
   "id": "e6619ffc-e3af-40f0-bb27-000bf963fad5",
   "metadata": {},
   "outputs": [],
   "source": [
    "set2.clear() #deleted all value from the set"
   ]
  },
  {
   "cell_type": "code",
   "execution_count": 52,
   "id": "1efad075-6a5d-4173-a24f-685fd14b9de7",
   "metadata": {},
   "outputs": [
    {
     "data": {
      "text/plain": [
       "set()"
      ]
     },
     "execution_count": 52,
     "metadata": {},
     "output_type": "execute_result"
    }
   ],
   "source": [
    "set1"
   ]
  },
  {
   "cell_type": "code",
   "execution_count": 53,
   "id": "971d1d0f-441a-4389-ab07-08f5fd74ab09",
   "metadata": {},
   "outputs": [
    {
     "data": {
      "text/plain": [
       "{}"
      ]
     },
     "execution_count": 53,
     "metadata": {},
     "output_type": "execute_result"
    }
   ],
   "source": [
    "set2"
   ]
  },
  {
   "cell_type": "code",
   "execution_count": 56,
   "id": "b537f33f-64c0-4790-aad0-6899277bd558",
   "metadata": {},
   "outputs": [],
   "source": [
    "set4={1,2,3,4,5}"
   ]
  },
  {
   "cell_type": "code",
   "execution_count": 57,
   "id": "523110e0-6280-424e-901d-0eebdc96330b",
   "metadata": {},
   "outputs": [
    {
     "data": {
      "text/plain": [
       "{1, 2, 3, 4, 5}"
      ]
     },
     "execution_count": 57,
     "metadata": {},
     "output_type": "execute_result"
    }
   ],
   "source": [
    "set4"
   ]
  },
  {
   "cell_type": "code",
   "execution_count": 58,
   "id": "c6e4bf69-c8df-42ca-be6c-9a91bb9aa54d",
   "metadata": {},
   "outputs": [
    {
     "data": {
      "text/plain": [
       "1"
      ]
     },
     "execution_count": 58,
     "metadata": {},
     "output_type": "execute_result"
    }
   ],
   "source": [
    "set4.pop() #delete from index one in the set and specific elements ca nbe removed"
   ]
  },
  {
   "cell_type": "code",
   "execution_count": 59,
   "id": "c2190da6-3c06-43fe-ab0b-8dfe375d61cc",
   "metadata": {},
   "outputs": [
    {
     "data": {
      "text/plain": [
       "{2, 3, 4, 5}"
      ]
     },
     "execution_count": 59,
     "metadata": {},
     "output_type": "execute_result"
    }
   ],
   "source": [
    "set4"
   ]
  },
  {
   "cell_type": "code",
   "execution_count": 60,
   "id": "aaf494af-efbc-4a5d-b3c2-496f687cdddf",
   "metadata": {},
   "outputs": [
    {
     "data": {
      "text/plain": [
       "True"
      ]
     },
     "execution_count": 60,
     "metadata": {},
     "output_type": "execute_result"
    }
   ],
   "source": [
    "4 in set4"
   ]
  },
  {
   "cell_type": "code",
   "execution_count": null,
   "id": "bc6d8794-f007-4cda-b877-ca81d606f664",
   "metadata": {},
   "outputs": [],
   "source": []
  }
 ],
 "metadata": {
  "kernelspec": {
   "display_name": "Python 3 (ipykernel)",
   "language": "python",
   "name": "python3"
  },
  "language_info": {
   "codemirror_mode": {
    "name": "ipython",
    "version": 3
   },
   "file_extension": ".py",
   "mimetype": "text/x-python",
   "name": "python",
   "nbconvert_exporter": "python",
   "pygments_lexer": "ipython3",
   "version": "3.11.7"
  }
 },
 "nbformat": 4,
 "nbformat_minor": 5
}
