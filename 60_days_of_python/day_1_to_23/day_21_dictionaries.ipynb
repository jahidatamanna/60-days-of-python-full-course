{
 "cells": [
  {
   "cell_type": "markdown",
   "id": "83dce36a-fbc3-4a0f-bb14-20ff875affb5",
   "metadata": {},
   "source": [
    "Dictionary"
   ]
  },
  {
   "cell_type": "code",
   "execution_count": 1,
   "id": "2af704f2-ddba-4429-aa96-cab1e3b1624f",
   "metadata": {},
   "outputs": [],
   "source": [
    "dic=  {\n",
    "    'name' : 'tamanna',\n",
    "    'vasity': 'AIUB'\n",
    "}\n",
    "\n",
    "# name nd varsity =key\n",
    "#tamanna,AIUB=value"
   ]
  },
  {
   "cell_type": "code",
   "execution_count": 2,
   "id": "b38fa3a8-8706-44c4-a236-1bad05623580",
   "metadata": {},
   "outputs": [
    {
     "data": {
      "text/plain": [
       "{'name': 'tamanna', 'vasity': 'AIUB'}"
      ]
     },
     "execution_count": 2,
     "metadata": {},
     "output_type": "execute_result"
    }
   ],
   "source": [
    "dic"
   ]
  },
  {
   "cell_type": "code",
   "execution_count": 3,
   "id": "bd66bf27-4dd5-426f-903a-fc32afb32dfd",
   "metadata": {},
   "outputs": [
    {
     "data": {
      "text/plain": [
       "dict_keys(['name', 'vasity'])"
      ]
     },
     "execution_count": 3,
     "metadata": {},
     "output_type": "execute_result"
    }
   ],
   "source": [
    "dic.keys()"
   ]
  },
  {
   "cell_type": "code",
   "execution_count": 4,
   "id": "07d2e7f1-2cee-4821-9d0b-7ff68dfeec86",
   "metadata": {},
   "outputs": [
    {
     "data": {
      "text/plain": [
       "dict_values(['tamanna', 'AIUB'])"
      ]
     },
     "execution_count": 4,
     "metadata": {},
     "output_type": "execute_result"
    }
   ],
   "source": [
    "dic.values()"
   ]
  },
  {
   "cell_type": "code",
   "execution_count": 5,
   "id": "c5d7fd81-9646-44d4-9262-811a868079a3",
   "metadata": {},
   "outputs": [
    {
     "data": {
      "text/plain": [
       "dict"
      ]
     },
     "execution_count": 5,
     "metadata": {},
     "output_type": "execute_result"
    }
   ],
   "source": [
    "type(dic)"
   ]
  },
  {
   "cell_type": "code",
   "execution_count": 6,
   "id": "88d68987-8597-411b-9909-5cec2287cfa3",
   "metadata": {},
   "outputs": [
    {
     "data": {
      "text/plain": [
       "{'name': 'tamanna', 'vasity': 'AIUB'}"
      ]
     },
     "execution_count": 6,
     "metadata": {},
     "output_type": "execute_result"
    }
   ],
   "source": [
    "#copy\n",
    "dic2=dic.copy()\n",
    "dic2"
   ]
  },
  {
   "cell_type": "code",
   "execution_count": 10,
   "id": "5887a441-c06c-46d6-b7ff-3ad5a17057ff",
   "metadata": {},
   "outputs": [],
   "source": [
    "dic['varsity']='aiub'\n"
   ]
  },
  {
   "cell_type": "code",
   "execution_count": 11,
   "id": "296f3267-0514-4cd7-97ca-ac37380a3ac6",
   "metadata": {},
   "outputs": [
    {
     "data": {
      "text/plain": [
       "{'name': 'tamanna', 'vasity': 'AIUB'}"
      ]
     },
     "execution_count": 11,
     "metadata": {},
     "output_type": "execute_result"
    }
   ],
   "source": [
    "dic2"
   ]
  },
  {
   "cell_type": "code",
   "execution_count": 12,
   "id": "cc1bb913-a16b-4fee-a646-a7062fae36ef",
   "metadata": {},
   "outputs": [
    {
     "data": {
      "text/plain": [
       "{'name': 'tamanna', 'vasity': 'AIUB', 'varsity': 'aiub'}"
      ]
     },
     "execution_count": 12,
     "metadata": {},
     "output_type": "execute_result"
    }
   ],
   "source": [
    "dic"
   ]
  },
  {
   "cell_type": "code",
   "execution_count": 13,
   "id": "6a29c0e5-0065-49ae-be21-7e880cc5739b",
   "metadata": {},
   "outputs": [
    {
     "data": {
      "text/plain": [
       "{'name': 'tamanna', 'vasity': 'AIUB', 'varsity': 'aiub', 'department': 'CSE'}"
      ]
     },
     "execution_count": 13,
     "metadata": {},
     "output_type": "execute_result"
    }
   ],
   "source": [
    "dic['department']='CSE'\n",
    "dic"
   ]
  },
  {
   "cell_type": "code",
   "execution_count": 14,
   "id": "16fb0e93-a7f3-4283-b3b4-4d41241700f9",
   "metadata": {},
   "outputs": [],
   "source": [
    "dic=  {\n",
    "    'name' : 'tamanna',\n",
    "    'vasity': 'AIUB'\n",
    "}\n"
   ]
  },
  {
   "cell_type": "code",
   "execution_count": 15,
   "id": "82247745-f597-4166-b774-66fd74893141",
   "metadata": {},
   "outputs": [
    {
     "data": {
      "text/plain": [
       "{'name': 'tamanna', 'vasity': 'AIUB'}"
      ]
     },
     "execution_count": 15,
     "metadata": {},
     "output_type": "execute_result"
    }
   ],
   "source": [
    "dic"
   ]
  },
  {
   "cell_type": "code",
   "execution_count": 16,
   "id": "64115f6a-c022-4a37-b3c0-17e9a492c1fa",
   "metadata": {},
   "outputs": [
    {
     "data": {
      "text/plain": [
       "{'name': 'tamanna', 'vasity': 'AIUB', 'varsity': 'aiub'}"
      ]
     },
     "execution_count": 16,
     "metadata": {},
     "output_type": "execute_result"
    }
   ],
   "source": [
    "dic['varsity']='aiub'\n",
    "dic"
   ]
  },
  {
   "cell_type": "code",
   "execution_count": 18,
   "id": "a0f61375-0979-4b72-af70-ccd58e3aa741",
   "metadata": {},
   "outputs": [
    {
     "data": {
      "text/plain": [
       "{'name': 'tamanna',\n",
       " 'vasity': 'AIUB',\n",
       " 'varsity': 'aiub',\n",
       " 'department': 'Data Science'}"
      ]
     },
     "execution_count": 18,
     "metadata": {},
     "output_type": "execute_result"
    }
   ],
   "source": [
    "dic.update({'department':'Data Science'}) # value update\n",
    "dic"
   ]
  },
  {
   "cell_type": "code",
   "execution_count": 19,
   "id": "91e382a2-369a-4124-a363-db3785bc9935",
   "metadata": {},
   "outputs": [
    {
     "data": {
      "text/plain": [
       "('department', 'Data Science')"
      ]
     },
     "execution_count": 19,
     "metadata": {},
     "output_type": "execute_result"
    }
   ],
   "source": [
    "dic.popitem()"
   ]
  },
  {
   "cell_type": "code",
   "execution_count": 20,
   "id": "11cae704-9129-4290-a446-8ab955c0de92",
   "metadata": {},
   "outputs": [
    {
     "data": {
      "text/plain": [
       "{'name': 'tamanna', 'vasity': 'AIUB', 'varsity': 'aiub'}"
      ]
     },
     "execution_count": 20,
     "metadata": {},
     "output_type": "execute_result"
    }
   ],
   "source": [
    "dic"
   ]
  },
  {
   "cell_type": "code",
   "execution_count": 21,
   "id": "977ecb3d-bd4c-4489-ae51-f9f4e472cf98",
   "metadata": {},
   "outputs": [
    {
     "data": {
      "text/plain": [
       "'aiub'"
      ]
     },
     "execution_count": 21,
     "metadata": {},
     "output_type": "execute_result"
    }
   ],
   "source": [
    "dic.pop('varsity')"
   ]
  },
  {
   "cell_type": "code",
   "execution_count": 22,
   "id": "dd7f3fc4-30c8-4534-8599-0491ce2b27e6",
   "metadata": {},
   "outputs": [
    {
     "data": {
      "text/plain": [
       "{'name': 'tamanna', 'vasity': 'AIUB'}"
      ]
     },
     "execution_count": 22,
     "metadata": {},
     "output_type": "execute_result"
    }
   ],
   "source": [
    "dic"
   ]
  },
  {
   "cell_type": "code",
   "execution_count": 23,
   "id": "edeb22f3-fb74-4f71-9920-d211e0db4b18",
   "metadata": {},
   "outputs": [
    {
     "data": {
      "text/plain": [
       "{'name': 'tamanna', 'vasity': 'AIUB', 'department': 'Data Science'}"
      ]
     },
     "execution_count": 23,
     "metadata": {},
     "output_type": "execute_result"
    }
   ],
   "source": [
    "dic.update({'department':'Data Science'}) # value update\n",
    "dic"
   ]
  },
  {
   "cell_type": "code",
   "execution_count": 24,
   "id": "28bcb91b-7c3c-4889-a702-ddc3025c2dba",
   "metadata": {},
   "outputs": [],
   "source": [
    "del dic['name']"
   ]
  },
  {
   "cell_type": "code",
   "execution_count": 25,
   "id": "926c4f17-f7e0-4d7a-b0c1-34f4ebc877f9",
   "metadata": {},
   "outputs": [
    {
     "data": {
      "text/plain": [
       "{'vasity': 'AIUB', 'department': 'Data Science'}"
      ]
     },
     "execution_count": 25,
     "metadata": {},
     "output_type": "execute_result"
    }
   ],
   "source": [
    "dic"
   ]
  },
  {
   "cell_type": "code",
   "execution_count": 31,
   "id": "98a3df2f-357e-4db6-adcb-790007a12df1",
   "metadata": {},
   "outputs": [
    {
     "name": "stdout",
     "output_type": "stream",
     "text": [
      "AIUB\n",
      "Data Science\n"
     ]
    }
   ],
   "source": [
    "# print all items\n",
    "for i in dic:\n",
    "    print(dic[i])"
   ]
  },
  {
   "cell_type": "code",
   "execution_count": 35,
   "id": "1f5abeaa-65c6-4586-8a5e-7e19c1e47812",
   "metadata": {},
   "outputs": [
    {
     "data": {
      "text/plain": [
       "['vasity', 'department']"
      ]
     },
     "execution_count": 35,
     "metadata": {},
     "output_type": "execute_result"
    }
   ],
   "source": [
    " #dictionary to list convert .whene we convert dictionary value into a list there is a condition,only we can convert key or value at a tym we cant conver those things in the same tyme .  \n",
    "d2=list(dic.keys())\n",
    "d2"
   ]
  },
  {
   "cell_type": "code",
   "execution_count": 36,
   "id": "c3bf4a0f-c480-4011-9086-8000037361ee",
   "metadata": {},
   "outputs": [
    {
     "data": {
      "text/plain": [
       "['AIUB', 'Data Science']"
      ]
     },
     "execution_count": 36,
     "metadata": {},
     "output_type": "execute_result"
    }
   ],
   "source": [
    "d3=list(dic.values())\n",
    "d3"
   ]
  },
  {
   "cell_type": "code",
   "execution_count": 37,
   "id": "1a315763-c66d-40b8-9ab7-3ad691a776fb",
   "metadata": {},
   "outputs": [
    {
     "name": "stdin",
     "output_type": "stream",
     "text": [
      " 3\n",
      " name\n",
      " tamanna\n",
      " varsity\n",
      " aiub\n",
      " gender\n",
      " female\n"
     ]
    },
    {
     "name": "stdout",
     "output_type": "stream",
     "text": [
      "{'name': 'tamanna', 'varsity': 'aiub', 'gender': 'female'}\n"
     ]
    }
   ],
   "source": [
    "#from user input\n",
    "n=int(input())\n",
    "d={}\n",
    "for x in range(n):\n",
    "    key=input()\n",
    "    value=input()\n",
    "    d[key]=value\n",
    "\n",
    "print(d)"
   ]
  },
  {
   "cell_type": "code",
   "execution_count": 38,
   "id": "73cc5ae9-94cf-4ea3-8c10-a4ab4dadedeb",
   "metadata": {},
   "outputs": [
    {
     "data": {
      "text/plain": [
       "{'name': 'tamanna', 'varsity': 'aiub', 'gender': 'female'}"
      ]
     },
     "execution_count": 38,
     "metadata": {},
     "output_type": "execute_result"
    }
   ],
   "source": [
    "d"
   ]
  },
  {
   "cell_type": "code",
   "execution_count": null,
   "id": "2224003d-f5e6-4164-8190-1f0ba6fcd722",
   "metadata": {},
   "outputs": [],
   "source": []
  }
 ],
 "metadata": {
  "kernelspec": {
   "display_name": "Python 3 (ipykernel)",
   "language": "python",
   "name": "python3"
  },
  "language_info": {
   "codemirror_mode": {
    "name": "ipython",
    "version": 3
   },
   "file_extension": ".py",
   "mimetype": "text/x-python",
   "name": "python",
   "nbconvert_exporter": "python",
   "pygments_lexer": "ipython3",
   "version": "3.11.7"
  }
 },
 "nbformat": 4,
 "nbformat_minor": 5
}
