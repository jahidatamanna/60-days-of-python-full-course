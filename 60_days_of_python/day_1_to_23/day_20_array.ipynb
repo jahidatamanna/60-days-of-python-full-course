{
 "cells": [
  {
   "cell_type": "markdown",
   "id": "f8b8cbdd-0fca-428b-b77e-eccf5985f6bb",
   "metadata": {},
   "source": [
    " Array in python"
   ]
  },
  {
   "cell_type": "code",
   "execution_count": 1,
   "id": "8b0e936d-8f62-474b-b757-ecb95413175c",
   "metadata": {},
   "outputs": [],
   "source": [
    "import array as ar\n"
   ]
  },
  {
   "cell_type": "code",
   "execution_count": 35,
   "id": "794f33c4-e38b-4668-bb8c-8d4edc3843e1",
   "metadata": {},
   "outputs": [],
   "source": [
    "ar1=ar.array('i',[1,2,3,4,5]) #data type intiger"
   ]
  },
  {
   "cell_type": "code",
   "execution_count": 36,
   "id": "7c87259b-1067-46ee-a9e3-88112f979a0a",
   "metadata": {},
   "outputs": [
    {
     "data": {
      "text/plain": [
       "array('i', [1, 2, 3, 4, 5])"
      ]
     },
     "execution_count": 36,
     "metadata": {},
     "output_type": "execute_result"
    }
   ],
   "source": [
    "ar1"
   ]
  },
  {
   "cell_type": "code",
   "execution_count": 37,
   "id": "cfab59a7-008f-46bb-ba00-6742da9e823a",
   "metadata": {},
   "outputs": [],
   "source": [
    "ar2=ar.array('f',[1.5,5.2,3,4,5]) #data type intiger"
   ]
  },
  {
   "cell_type": "code",
   "execution_count": 38,
   "id": "935a122e-b6f4-4fa3-9d42-e9bb95edfd7f",
   "metadata": {},
   "outputs": [
    {
     "data": {
      "text/plain": [
       "array('f', [1.5, 5.199999809265137, 3.0, 4.0, 5.0])"
      ]
     },
     "execution_count": 38,
     "metadata": {},
     "output_type": "execute_result"
    }
   ],
   "source": [
    "ar2"
   ]
  },
  {
   "cell_type": "code",
   "execution_count": 39,
   "id": "50d7c0f7-9f68-4664-84e9-c92fd0e5bd28",
   "metadata": {},
   "outputs": [
    {
     "data": {
      "text/plain": [
       "1"
      ]
     },
     "execution_count": 39,
     "metadata": {},
     "output_type": "execute_result"
    }
   ],
   "source": [
    "ar1[0]"
   ]
  },
  {
   "cell_type": "code",
   "execution_count": 40,
   "id": "ab760efc-a38d-476d-a726-ed9828bb7618",
   "metadata": {},
   "outputs": [],
   "source": [
    "ar1[0]=10"
   ]
  },
  {
   "cell_type": "code",
   "execution_count": 41,
   "id": "3a9ddbb8-c9f8-4ab0-ab52-dcbf45ebdbcf",
   "metadata": {},
   "outputs": [
    {
     "data": {
      "text/plain": [
       "array('i', [10, 2, 3, 4, 5])"
      ]
     },
     "execution_count": 41,
     "metadata": {},
     "output_type": "execute_result"
    }
   ],
   "source": [
    "ar1"
   ]
  },
  {
   "cell_type": "code",
   "execution_count": 42,
   "id": "c20ed616-ec20-4f19-bb15-3a6c3273698a",
   "metadata": {},
   "outputs": [
    {
     "data": {
      "text/plain": [
       "array('i', [3])"
      ]
     },
     "execution_count": 42,
     "metadata": {},
     "output_type": "execute_result"
    }
   ],
   "source": [
    "ar1[2:3] #value of index 2 "
   ]
  },
  {
   "cell_type": "code",
   "execution_count": 43,
   "id": "d030d9e5-d636-45c0-8081-0f8b45a31275",
   "metadata": {},
   "outputs": [
    {
     "data": {
      "text/plain": [
       "array('i', [3, 4])"
      ]
     },
     "execution_count": 43,
     "metadata": {},
     "output_type": "execute_result"
    }
   ],
   "source": [
    "ar1[2:4] # value of index 2 to 3"
   ]
  },
  {
   "cell_type": "code",
   "execution_count": 44,
   "id": "e8daa1f5-51a1-4f85-bb65-4e5ad6c0dc1e",
   "metadata": {},
   "outputs": [
    {
     "data": {
      "text/plain": [
       "array('i', [3, 4, 5])"
      ]
     },
     "execution_count": 44,
     "metadata": {},
     "output_type": "execute_result"
    }
   ],
   "source": [
    "ar1[2:5] # value of index 2 to 4"
   ]
  },
  {
   "cell_type": "code",
   "execution_count": 45,
   "id": "51983d2e-fcc8-4d72-82d6-59c6a056d05a",
   "metadata": {},
   "outputs": [],
   "source": [
    "ar1.append(9)"
   ]
  },
  {
   "cell_type": "code",
   "execution_count": 46,
   "id": "ebd75ba6-2a83-4683-9f1f-d431df1f7c74",
   "metadata": {},
   "outputs": [
    {
     "data": {
      "text/plain": [
       "array('i', [10, 2, 3, 4, 5, 9])"
      ]
     },
     "execution_count": 46,
     "metadata": {},
     "output_type": "execute_result"
    }
   ],
   "source": [
    "ar1"
   ]
  },
  {
   "cell_type": "code",
   "execution_count": 47,
   "id": "485103b5-816f-4e1f-a837-63f88706e732",
   "metadata": {},
   "outputs": [],
   "source": [
    "del ar1[-1]"
   ]
  },
  {
   "cell_type": "code",
   "execution_count": 48,
   "id": "5a3b431b-f3e1-415b-a6c2-a6b41e8ab632",
   "metadata": {},
   "outputs": [
    {
     "data": {
      "text/plain": [
       "array('i', [10, 2, 3, 4, 5])"
      ]
     },
     "execution_count": 48,
     "metadata": {},
     "output_type": "execute_result"
    }
   ],
   "source": [
    "ar1"
   ]
  },
  {
   "cell_type": "code",
   "execution_count": 49,
   "id": "f0daabd2-c439-4f59-827b-5db7d8913e61",
   "metadata": {},
   "outputs": [
    {
     "data": {
      "text/plain": [
       "5"
      ]
     },
     "execution_count": 49,
     "metadata": {},
     "output_type": "execute_result"
    }
   ],
   "source": [
    "len(ar1)"
   ]
  },
  {
   "cell_type": "code",
   "execution_count": 50,
   "id": "1b7b5a78-e543-4574-9f32-ff136b940638",
   "metadata": {},
   "outputs": [],
   "source": [
    "ar1.reverse()"
   ]
  },
  {
   "cell_type": "code",
   "execution_count": 55,
   "id": "680ffd70-1a32-4571-ab5c-4999e25d96fd",
   "metadata": {},
   "outputs": [
    {
     "data": {
      "text/plain": [
       "array('i', [5, 4, 3, 2, 10])"
      ]
     },
     "execution_count": 55,
     "metadata": {},
     "output_type": "execute_result"
    }
   ],
   "source": [
    "ar1"
   ]
  },
  {
   "cell_type": "code",
   "execution_count": 56,
   "id": "440fda48-e23c-4307-ba6f-b88042ad04c3",
   "metadata": {},
   "outputs": [
    {
     "data": {
      "text/plain": [
       "array('i', [5, 4, 3, 2, 10])"
      ]
     },
     "execution_count": 56,
     "metadata": {},
     "output_type": "execute_result"
    }
   ],
   "source": [
    "ar1"
   ]
  },
  {
   "cell_type": "code",
   "execution_count": 57,
   "id": "14bfa8e7-fe8f-44a2-87eb-f783ac473693",
   "metadata": {},
   "outputs": [
    {
     "name": "stdout",
     "output_type": "stream",
     "text": [
      "Before sorting: [3, 1, 4, 1, 5, 9, 2, 6, 5]\n",
      "After sorting: [1, 1, 2, 3, 4, 5, 5, 6, 9]\n"
     ]
    }
   ],
   "source": [
    "ar1 = [3, 1, 4, 1, 5, 9, 2, 6, 5]\n",
    "\n",
    "print(\"Before sorting:\", ar1)\n",
    "\n",
    "ar1.sort()\n",
    "\n",
    "print(\"After sorting:\", ar1)\n"
   ]
  },
  {
   "cell_type": "code",
   "execution_count": 58,
   "id": "4543cb0d-6167-451c-8b7a-8d572ef33348",
   "metadata": {},
   "outputs": [],
   "source": [
    "ar1.sort()"
   ]
  },
  {
   "cell_type": "code",
   "execution_count": 59,
   "id": "97251509-d5b1-4054-9c25-c3bb4f3274af",
   "metadata": {},
   "outputs": [
    {
     "data": {
      "text/plain": [
       "1"
      ]
     },
     "execution_count": 59,
     "metadata": {},
     "output_type": "execute_result"
    }
   ],
   "source": [
    "ar1.count(2) #how many tyms 2 is in a array-count"
   ]
  },
  {
   "cell_type": "code",
   "execution_count": 66,
   "id": "c6e9ef51-a5eb-4262-ae95-752c79bf9c21",
   "metadata": {},
   "outputs": [
    {
     "data": {
      "text/plain": [
       "array('i', [1, 2, 3, 4, 5])"
      ]
     },
     "execution_count": 66,
     "metadata": {},
     "output_type": "execute_result"
    }
   ],
   "source": [
    "ar1=ar.array('i',[1,2,3,4,5]) #data type intiger\n",
    "ar1"
   ]
  },
  {
   "cell_type": "code",
   "execution_count": 70,
   "id": "00a3fcc5-ab82-4255-9553-ef092a3a26bc",
   "metadata": {},
   "outputs": [
    {
     "data": {
      "text/plain": [
       "1"
      ]
     },
     "execution_count": 70,
     "metadata": {},
     "output_type": "execute_result"
    }
   ],
   "source": [
    "ar1.index(2) # value 2 =index 1"
   ]
  },
  {
   "cell_type": "code",
   "execution_count": 73,
   "id": "95eeeb55-a4a4-4636-9040-7205e19d79f4",
   "metadata": {},
   "outputs": [
    {
     "data": {
      "text/plain": [
       "5"
      ]
     },
     "execution_count": 73,
     "metadata": {},
     "output_type": "execute_result"
    }
   ],
   "source": [
    "ar1.pop(3) # delete the value of index nmb 3 "
   ]
  },
  {
   "cell_type": "code",
   "execution_count": 74,
   "id": "711b1e56-0c60-46ec-a33b-20d17a6ab0b8",
   "metadata": {},
   "outputs": [
    {
     "data": {
      "text/plain": [
       "array('i', [1, 2, 3])"
      ]
     },
     "execution_count": 74,
     "metadata": {},
     "output_type": "execute_result"
    }
   ],
   "source": [
    "ar1"
   ]
  },
  {
   "cell_type": "code",
   "execution_count": 75,
   "id": "bdafdafa-a484-4a4e-98e9-de45effb6b7f",
   "metadata": {},
   "outputs": [
    {
     "data": {
      "text/plain": [
       "array('i', [1, 2])"
      ]
     },
     "execution_count": 75,
     "metadata": {},
     "output_type": "execute_result"
    }
   ],
   "source": [
    "ar1.remove(3) # delete specific value\n",
    "ar1"
   ]
  },
  {
   "cell_type": "code",
   "execution_count": 81,
   "id": "becfa3a9-c2cb-4f63-bc27-0accc9ed22e5",
   "metadata": {},
   "outputs": [
    {
     "name": "stdin",
     "output_type": "stream",
     "text": [
      " 2\n",
      " 122\n",
      " 222\n"
     ]
    }
   ],
   "source": [
    "r=ar.array('i',[])\n",
    "items=int(input())\n",
    "for i in range(items):\n",
    "    val=int(input())\n",
    "    r.append(val)\n"
   ]
  },
  {
   "cell_type": "code",
   "execution_count": null,
   "id": "529abd1b-a9e7-489f-ac3b-72a0fc9483f8",
   "metadata": {},
   "outputs": [],
   "source": []
  }
 ],
 "metadata": {
  "kernelspec": {
   "display_name": "Python 3 (ipykernel)",
   "language": "python",
   "name": "python3"
  },
  "language_info": {
   "codemirror_mode": {
    "name": "ipython",
    "version": 3
   },
   "file_extension": ".py",
   "mimetype": "text/x-python",
   "name": "python",
   "nbconvert_exporter": "python",
   "pygments_lexer": "ipython3",
   "version": "3.11.7"
  }
 },
 "nbformat": 4,
 "nbformat_minor": 5
}
