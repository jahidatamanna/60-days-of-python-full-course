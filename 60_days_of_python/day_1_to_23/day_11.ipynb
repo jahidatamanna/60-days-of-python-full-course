{
 "cells": [
  {
   "cell_type": "code",
   "execution_count": 7,
   "id": "808a9e53-73a9-480b-845e-33f8d13e2e5c",
   "metadata": {},
   "outputs": [
    {
     "name": "stdout",
     "output_type": "stream",
     "text": [
      "# \n",
      "# # \n",
      "# # # \n",
      "# # # # \n"
     ]
    }
   ],
   "source": [
    "row=4\n",
    "for x in range(1,row+1):  #outer loop\n",
    "    for y in range(x): # inner loop\n",
    "        print('# ',end='')\n",
    "    print('')"
   ]
  },
  {
   "cell_type": "code",
   "execution_count": 19,
   "id": "ee0adf11-5b7d-4186-9fa9-31ecfce675e8",
   "metadata": {},
   "outputs": [
    {
     "name": "stdin",
     "output_type": "stream",
     "text": [
      "enter row num :  4\n"
     ]
    },
    {
     "name": "stdout",
     "output_type": "stream",
     "text": [
      " p \n",
      " p  p \n",
      " p  p  p \n",
      " p  p  p  p \n"
     ]
    }
   ],
   "source": [
    "row=int(input(\"enter row num : \"))\n",
    "for x in range(1,row+1):\n",
    "    for y in range(x):\n",
    "        print(\" p \",end='')\n",
    "    print('')        "
   ]
  },
  {
   "cell_type": "code",
   "execution_count": 23,
   "id": "d49506bb-7e7c-4306-b9b2-b84df8c80598",
   "metadata": {},
   "outputs": [
    {
     "name": "stdout",
     "output_type": "stream",
     "text": [
      " * \n",
      " *  * \n",
      " *  *  * \n",
      " *  *  *  * \n",
      " *  *  *  *  * \n",
      " *  *  *  *  *  * \n",
      " *  *  *  *  *  *  * \n"
     ]
    }
   ],
   "source": [
    "row=7\n",
    "for x in range(1,row+1):\n",
    "    for y in range(x):\n",
    "        print(\" * \",end='')\n",
    "    print('')"
   ]
  },
  {
   "cell_type": "code",
   "execution_count": null,
   "id": "d59ddb09-91ed-4e88-a028-776a022ec223",
   "metadata": {},
   "outputs": [],
   "source": []
  }
 ],
 "metadata": {
  "kernelspec": {
   "display_name": "Python 3 (ipykernel)",
   "language": "python",
   "name": "python3"
  },
  "language_info": {
   "codemirror_mode": {
    "name": "ipython",
    "version": 3
   },
   "file_extension": ".py",
   "mimetype": "text/x-python",
   "name": "python",
   "nbconvert_exporter": "python",
   "pygments_lexer": "ipython3",
   "version": "3.11.7"
  }
 },
 "nbformat": 4,
 "nbformat_minor": 5
}
