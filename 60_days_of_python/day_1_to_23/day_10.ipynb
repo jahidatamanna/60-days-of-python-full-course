{
 "cells": [
  {
   "cell_type": "code",
   "execution_count": 1,
   "id": "31b1b9f4-60a5-4c5f-8a2d-23a2655b2b6f",
   "metadata": {},
   "outputs": [
    {
     "name": "stdout",
     "output_type": "stream",
     "text": [
      "0\n",
      "1\n",
      "2\n",
      "3\n",
      "4\n",
      "5\n",
      "6\n",
      "7\n",
      "8\n",
      "9\n",
      "10\n"
     ]
    }
   ],
   "source": [
    "i=0\n",
    "while(i<=10):\n",
    "    print(i)\n",
    "    i=i+1"
   ]
  },
  {
   "cell_type": "code",
   "execution_count": 2,
   "id": "7be289e6-7ecd-4598-813c-4abfc5ea93a3",
   "metadata": {},
   "outputs": [
    {
     "name": "stdout",
     "output_type": "stream",
     "text": [
      "0 hlw\n",
      "2 hlw\n",
      "4 hlw\n",
      "6 hlw\n",
      "8 hlw\n",
      "10 hlw\n"
     ]
    }
   ],
   "source": [
    "i=0\n",
    "while(i<=10):\n",
    "    print(i , \"hlw\")\n",
    "    i=i+2"
   ]
  },
  {
   "cell_type": "code",
   "execution_count": 3,
   "id": "b383bf27-e25d-4ff5-94db-286ed88883e8",
   "metadata": {},
   "outputs": [],
   "source": [
    "data=\"python\""
   ]
  },
  {
   "cell_type": "code",
   "execution_count": 4,
   "id": "212795a0-ed34-4a56-9e3c-e4f69310249e",
   "metadata": {},
   "outputs": [
    {
     "data": {
      "text/plain": [
       "'p'"
      ]
     },
     "execution_count": 4,
     "metadata": {},
     "output_type": "execute_result"
    }
   ],
   "source": [
    "data[0]"
   ]
  },
  {
   "cell_type": "code",
   "execution_count": 5,
   "id": "697423f3-60be-4ea6-98c8-0c899eae151b",
   "metadata": {},
   "outputs": [
    {
     "name": "stdout",
     "output_type": "stream",
     "text": [
      "0 python\n",
      "1 python\n",
      "2 python\n",
      "3 python\n",
      "4 python\n",
      "5 python\n"
     ]
    }
   ],
   "source": [
    "i=0\n",
    "while i<len(data):\n",
    "    print(i,data)\n",
    "    i=i+1"
   ]
  },
  {
   "cell_type": "code",
   "execution_count": 6,
   "id": "8e74f8bd-55d0-4517-86d3-69fa2d70c38e",
   "metadata": {},
   "outputs": [
    {
     "name": "stdout",
     "output_type": "stream",
     "text": [
      "0 p\n",
      "1 y\n",
      "2 t\n",
      "3 h\n",
      "4 o\n",
      "5 n\n"
     ]
    }
   ],
   "source": [
    "i=0\n",
    "while i<len(data):\n",
    "    print(i,data[i])\n",
    "    i=i+1"
   ]
  },
  {
   "cell_type": "code",
   "execution_count": 7,
   "id": "090d46f9-1af6-420b-8f4e-8a67bffa3a02",
   "metadata": {},
   "outputs": [],
   "source": [
    "data=\"i love python\""
   ]
  },
  {
   "cell_type": "code",
   "execution_count": 8,
   "id": "53a1b0f9-0e56-4bae-b335-cb8881876606",
   "metadata": {},
   "outputs": [
    {
     "name": "stdout",
     "output_type": "stream",
     "text": [
      "0 i love python\n",
      "1 i love python\n",
      "2 i love python\n",
      "3 i love python\n",
      "4 i love python\n",
      "5 i love python\n",
      "6 i love python\n",
      "7 i love python\n",
      "8 i love python\n",
      "9 i love python\n",
      "10 i love python\n",
      "11 i love python\n",
      "12 i love python\n"
     ]
    }
   ],
   "source": [
    "i=0\n",
    "while i<len(data):\n",
    "    print(i,data)\n",
    "    i=i+1"
   ]
  },
  {
   "cell_type": "code",
   "execution_count": 9,
   "id": "f9a3c937-66f6-41ff-b703-19e553f8b2c4",
   "metadata": {},
   "outputs": [
    {
     "name": "stdout",
     "output_type": "stream",
     "text": [
      "i\n",
      " \n",
      "l\n",
      "o\n",
      "v\n",
      "e\n",
      " \n",
      "p\n",
      "y\n",
      "t\n",
      "h\n",
      "o\n",
      "n\n"
     ]
    }
   ],
   "source": [
    "i=0\n",
    "\n",
    "while i<len(data):\n",
    "    print(data[i])\n",
    "    i=i+1"
   ]
  },
  {
   "cell_type": "code",
   "execution_count": 10,
   "id": "b8b28707-7896-4987-b722-e97a180746a8",
   "metadata": {},
   "outputs": [
    {
     "name": "stdout",
     "output_type": "stream",
     "text": [
      "i\n",
      "love\n",
      "python\n"
     ]
    }
   ],
   "source": [
    "i=0\n",
    "data=data.split()\n",
    "while i<len(data):\n",
    "    print(data[i])\n",
    "    i=i+1"
   ]
  },
  {
   "cell_type": "code",
   "execution_count": 11,
   "id": "d867b51e-b90c-4f75-9ada-4dea1d89d877",
   "metadata": {},
   "outputs": [
    {
     "data": {
      "text/plain": [
       "'python'"
      ]
     },
     "execution_count": 11,
     "metadata": {},
     "output_type": "execute_result"
    }
   ],
   "source": [
    "data[-1]"
   ]
  },
  {
   "cell_type": "code",
   "execution_count": 12,
   "id": "42200b18-1898-45d5-88d2-f5e071eb0671",
   "metadata": {},
   "outputs": [
    {
     "name": "stdout",
     "output_type": "stream",
     "text": [
      "total : 24\n"
     ]
    }
   ],
   "source": [
    "n=[1,3,5,7,8]\n",
    "total=0\n",
    "i=0\n",
    "while (i<len(n)):\n",
    "    total=total+n[i]\n",
    "    #print(i,total)\n",
    "    i=i+1\n",
    "print('total :',total) "
   ]
  },
  {
   "cell_type": "code",
   "execution_count": 13,
   "id": "0b0a3e0a-5ebc-4326-a0a1-742d034bfa36",
   "metadata": {},
   "outputs": [
    {
     "name": "stdout",
     "output_type": "stream",
     "text": [
      "-30\n",
      "-29\n",
      "-28\n",
      "-27\n",
      "-26\n",
      "-25\n",
      "-24\n",
      "-23\n",
      "-22\n",
      "-21\n",
      "-20\n",
      "-19\n",
      "-18\n",
      "-17\n",
      "-16\n",
      "-15\n",
      "-14\n",
      "-13\n",
      "-12\n",
      "-11\n",
      "-10\n"
     ]
    }
   ],
   "source": [
    "#Exercise 01 : Display  numbers from -100 to -10 using while loop\n",
    "\n",
    "i=-30\n",
    "while (i<=-10):\n",
    "    print(i)\n",
    "    i=i+1\n",
    "\n",
    " "
   ]
  },
  {
   "cell_type": "code",
   "execution_count": 16,
   "id": "071e7f69-f475-4ab9-8753-d197e63c5887",
   "metadata": {},
   "outputs": [
    {
     "name": "stdout",
     "output_type": "stream",
     "text": [
      "10\n",
      "21\n",
      "33\n",
      "46\n",
      "60\n",
      "75\n",
      "91\n",
      "108\n",
      "126\n",
      "145\n",
      "165\n",
      "the sum of prime number is :  165\n"
     ]
    }
   ],
   "source": [
    "# Exercise 02 : write a program to sum all prime numbers within a range 10 to 1000\n",
    "total=0\n",
    "i=10\n",
    "while (i<=20):\n",
    "    #if(i%2!=0):\n",
    "        total=total+i\n",
    "        print(total)\n",
    "        i=i+1\n",
    "print(\"the sum of prime number is : \",total)"
   ]
  },
  {
   "cell_type": "code",
   "execution_count": 17,
   "id": "dc9c5987-c47f-41f3-bc49-911fd09ee12b",
   "metadata": {},
   "outputs": [
    {
     "name": "stdin",
     "output_type": "stream",
     "text": [
      " 4\n"
     ]
    },
    {
     "name": "stdout",
     "output_type": "stream",
     "text": [
      "Factorial of 4 is 24\n"
     ]
    }
   ],
   "source": [
    "#Exercise 03 : Find the factorial of n!(hint, n=7: 7*6*5*4*3*2*1)\n",
    "n = int(input())\n",
    "def factorial(n):\n",
    "    if n < 0:\n",
    "        return \"Factorial is not defined for negative numbers\"\n",
    "    elif n == 0 or n == 1:\n",
    "        return 1\n",
    "       \n",
    "    else:\n",
    "        result = 1\n",
    "        for i in range(2, n + 1):\n",
    "            result *= i\n",
    "        return result\n",
    "\n",
    "# Example usage:\n",
    "\n",
    "print(\"Factorial of\", n, \"is\", factorial(n))"
   ]
  },
  {
   "cell_type": "code",
   "execution_count": 18,
   "id": "f48d44fb-37b0-493a-a9ff-958ad62ad5f5",
   "metadata": {
    "scrolled": true
   },
   "outputs": [
    {
     "name": "stdin",
     "output_type": "stream",
     "text": [
      "enter a number :  5\n"
     ]
    },
    {
     "name": "stdout",
     "output_type": "stream",
     "text": [
      "1\n",
      "2\n",
      "6\n",
      "24\n",
      "120\n"
     ]
    }
   ],
   "source": [
    "#Exercise 03 : Find the factorial of n!(hint, n=7: 7*6*5*4*3*2*1) using while loop\n",
    "fact=1\n",
    "x=1\n",
    "num=int(input(\"enter a number : \"))\n",
    "while x<=num:\n",
    "    fact=fact*x\n",
    "    x+=1\n",
    "    print(fact)\n",
    "    "
   ]
  },
  {
   "cell_type": "code",
   "execution_count": 21,
   "id": "6520b79f-512f-4813-bacd-2ebb09dc822f",
   "metadata": {},
   "outputs": [
    {
     "name": "stdin",
     "output_type": "stream",
     "text": [
      "enter the number :  5\n"
     ]
    },
    {
     "name": "stdout",
     "output_type": "stream",
     "text": [
      "factorial of  5 is :  120\n"
     ]
    }
   ],
   "source": [
    "#Exercise 03 : Find the factorial of n!(hint, n=7: 7*6*5*4*3*2*1) using while loop\n",
    "fact=1\n",
    "x=1\n",
    "num=int(input(\"enter the number : \"))\n",
    "while x<=num:\n",
    "    fact=fact*x\n",
    "    x+=1\n",
    "print(\"factorial of \",num,\"is : \",fact)"
   ]
  },
  {
   "cell_type": "code",
   "execution_count": null,
   "id": "baf370f8-e678-4663-99d9-fc79e1f7c375",
   "metadata": {},
   "outputs": [],
   "source": [
    "# Exercise 04 : Reverse a given integer number 27956240710 using while loop\n",
    "number =int(input())\n",
    "reversed_number = 0\n",
    "\n",
    "while number > 0:\n",
    "    digit = number % 10\n",
    "    reversed_number = reversed_number * 10 + digit\n",
    "    number = number // 10\n",
    "\n",
    "print(\"Reversed number:\", reversed_number)"
   ]
  },
  {
   "cell_type": "code",
   "execution_count": null,
   "id": "18753952-2940-4620-a79f-5e9690d52451",
   "metadata": {},
   "outputs": [],
   "source": []
  },
  {
   "cell_type": "code",
   "execution_count": null,
   "id": "09634a57-8389-4723-9fb0-65378df36a16",
   "metadata": {},
   "outputs": [],
   "source": []
  },
  {
   "cell_type": "code",
   "execution_count": null,
   "id": "f18e6608-aa6d-4ed3-8866-849c841c5f2b",
   "metadata": {},
   "outputs": [],
   "source": []
  },
  {
   "cell_type": "code",
   "execution_count": null,
   "id": "0764d862-4a3b-49ce-aae7-98b3ceae35af",
   "metadata": {},
   "outputs": [],
   "source": []
  },
  {
   "cell_type": "code",
   "execution_count": null,
   "id": "683bced8-eade-4516-a9e8-69bc284c04c3",
   "metadata": {},
   "outputs": [],
   "source": []
  }
 ],
 "metadata": {
  "kernelspec": {
   "display_name": "Python 3 (ipykernel)",
   "language": "python",
   "name": "python3"
  },
  "language_info": {
   "codemirror_mode": {
    "name": "ipython",
    "version": 3
   },
   "file_extension": ".py",
   "mimetype": "text/x-python",
   "name": "python",
   "nbconvert_exporter": "python",
   "pygments_lexer": "ipython3",
   "version": "3.11.7"
  }
 },
 "nbformat": 4,
 "nbformat_minor": 5
}
