{
 "cells": [
  {
   "cell_type": "code",
   "execution_count": 2,
   "id": "029943c3-1a64-417e-874b-bc7f1055fe05",
   "metadata": {},
   "outputs": [],
   "source": [
    "s1={1,2,3,4}\n",
    "s2={4,3,6,7}"
   ]
  },
  {
   "cell_type": "code",
   "execution_count": 3,
   "id": "d9a6b068-2dbd-4cc0-85cb-f00291207dba",
   "metadata": {},
   "outputs": [
    {
     "data": {
      "text/plain": [
       "{1, 2, 3, 4}"
      ]
     },
     "execution_count": 3,
     "metadata": {},
     "output_type": "execute_result"
    }
   ],
   "source": [
    "s1"
   ]
  },
  {
   "cell_type": "code",
   "execution_count": 4,
   "id": "0276181e-05f2-4576-9744-7a9b66be41bf",
   "metadata": {},
   "outputs": [
    {
     "data": {
      "text/plain": [
       "{3, 4, 6, 7}"
      ]
     },
     "execution_count": 4,
     "metadata": {},
     "output_type": "execute_result"
    }
   ],
   "source": [
    "s2"
   ]
  },
  {
   "cell_type": "code",
   "execution_count": 5,
   "id": "c1d0aba9-0ae6-4009-9b15-cc6e2d490aeb",
   "metadata": {},
   "outputs": [],
   "source": [
    "s3=frozenset(s2)"
   ]
  },
  {
   "cell_type": "code",
   "execution_count": 6,
   "id": "530f47c7-05ef-4b3d-a790-247663e1bacd",
   "metadata": {},
   "outputs": [
    {
     "data": {
      "text/plain": [
       "frozenset({3, 4, 6, 7})"
      ]
     },
     "execution_count": 6,
     "metadata": {},
     "output_type": "execute_result"
    }
   ],
   "source": [
    "s3"
   ]
  },
  {
   "cell_type": "code",
   "execution_count": 8,
   "id": "695793d4-4111-46f2-8263-b60ffcbe63b0",
   "metadata": {},
   "outputs": [],
   "source": [
    "# from IPython.display import Image : # import img function in a python code"
   ]
  },
  {
   "cell_type": "code",
   "execution_count": null,
   "id": "e2d79cb2-ed3e-4598-8337-ba8562bca4d9",
   "metadata": {},
   "outputs": [],
   "source": [
    "# Image('set function.png') :add a image in a  python code ,here img_name=set function nd img_type=png"
   ]
  },
  {
   "cell_type": "code",
   "execution_count": 9,
   "id": "73c748d8-1f9d-4f8a-a34d-7e1895829596",
   "metadata": {},
   "outputs": [
    {
     "data": {
      "text/plain": [
       "{1, 2, 3, 4}"
      ]
     },
     "execution_count": 9,
     "metadata": {},
     "output_type": "execute_result"
    }
   ],
   "source": [
    "s1"
   ]
  },
  {
   "cell_type": "code",
   "execution_count": 10,
   "id": "65581b9b-eeff-49a2-9c39-f09f3800c1d3",
   "metadata": {},
   "outputs": [],
   "source": [
    "s1.add('d')"
   ]
  },
  {
   "cell_type": "code",
   "execution_count": 11,
   "id": "c8a6e4a4-166c-4627-8adc-c82a16839f84",
   "metadata": {},
   "outputs": [
    {
     "data": {
      "text/plain": [
       "{1, 2, 3, 4, 'd'}"
      ]
     },
     "execution_count": 11,
     "metadata": {},
     "output_type": "execute_result"
    }
   ],
   "source": [
    "s1"
   ]
  },
  {
   "cell_type": "code",
   "execution_count": 12,
   "id": "643cc3d0-16c5-4b37-8434-d9b47f800a56",
   "metadata": {},
   "outputs": [],
   "source": [
    "s2=s1"
   ]
  },
  {
   "cell_type": "code",
   "execution_count": 14,
   "id": "bd32cda7-9aa7-478e-8534-ccbe79f1fbfa",
   "metadata": {},
   "outputs": [],
   "source": [
    "s1.remove('d')"
   ]
  },
  {
   "cell_type": "code",
   "execution_count": 15,
   "id": "de88e812-0085-407b-982f-6c2fd6773bcb",
   "metadata": {},
   "outputs": [
    {
     "data": {
      "text/plain": [
       "{1, 2, 3, 4}"
      ]
     },
     "execution_count": 15,
     "metadata": {},
     "output_type": "execute_result"
    }
   ],
   "source": [
    "s1"
   ]
  },
  {
   "cell_type": "code",
   "execution_count": 16,
   "id": "0a449c39-959c-4dde-a185-91454683eb7b",
   "metadata": {},
   "outputs": [
    {
     "data": {
      "text/plain": [
       "{1, 2, 3, 4}"
      ]
     },
     "execution_count": 16,
     "metadata": {},
     "output_type": "execute_result"
    }
   ],
   "source": [
    "s2"
   ]
  },
  {
   "cell_type": "code",
   "execution_count": 26,
   "id": "c273da28-9730-4be8-8a71-89ee7d642370",
   "metadata": {},
   "outputs": [],
   "source": [
    "s4=s1.copy()"
   ]
  },
  {
   "cell_type": "code",
   "execution_count": 27,
   "id": "95ec23b7-2424-4136-8acb-3ff2f52ee383",
   "metadata": {},
   "outputs": [
    {
     "data": {
      "text/plain": [
       "{1, 2, 3, 4}"
      ]
     },
     "execution_count": 27,
     "metadata": {},
     "output_type": "execute_result"
    }
   ],
   "source": [
    "s4"
   ]
  },
  {
   "cell_type": "code",
   "execution_count": 28,
   "id": "2066d37b-cf08-4b9a-9db2-a2f182422aa6",
   "metadata": {},
   "outputs": [
    {
     "data": {
      "text/plain": [
       "{1, 2, 3, 4}"
      ]
     },
     "execution_count": 28,
     "metadata": {},
     "output_type": "execute_result"
    }
   ],
   "source": [
    "s1"
   ]
  },
  {
   "cell_type": "code",
   "execution_count": 29,
   "id": "b5b6ea0b-b8a2-4eef-bf1b-7ea07d33936a",
   "metadata": {},
   "outputs": [],
   "source": [
    "s1.add(\"AI\")"
   ]
  },
  {
   "cell_type": "code",
   "execution_count": 30,
   "id": "360a86df-6f90-47e1-904a-6597ebe477c8",
   "metadata": {},
   "outputs": [
    {
     "data": {
      "text/plain": [
       "{1, 2, 3, 4, 'AI'}"
      ]
     },
     "execution_count": 30,
     "metadata": {},
     "output_type": "execute_result"
    }
   ],
   "source": [
    "s1"
   ]
  },
  {
   "cell_type": "code",
   "execution_count": 31,
   "id": "4b4627a1-3325-4f82-a3b5-a588bcbabd3a",
   "metadata": {},
   "outputs": [
    {
     "data": {
      "text/plain": [
       "{1, 2, 3, 4}"
      ]
     },
     "execution_count": 31,
     "metadata": {},
     "output_type": "execute_result"
    }
   ],
   "source": [
    "s4"
   ]
  },
  {
   "cell_type": "code",
   "execution_count": 32,
   "id": "97f7167f-6d43-4316-a83e-4f3cc2eba033",
   "metadata": {},
   "outputs": [],
   "source": [
    "s1.remove(\"AI\")"
   ]
  },
  {
   "cell_type": "code",
   "execution_count": 33,
   "id": "922ba8f7-8cca-4eee-8621-1d77a7e00882",
   "metadata": {},
   "outputs": [
    {
     "data": {
      "text/plain": [
       "{1, 2, 3, 4}"
      ]
     },
     "execution_count": 33,
     "metadata": {},
     "output_type": "execute_result"
    }
   ],
   "source": [
    "s1"
   ]
  },
  {
   "cell_type": "code",
   "execution_count": 35,
   "id": "c6bef505-2c9c-46ea-ac70-6df852ced297",
   "metadata": {},
   "outputs": [
    {
     "data": {
      "text/plain": [
       "{1, 2, 3, 4}"
      ]
     },
     "execution_count": 35,
     "metadata": {},
     "output_type": "execute_result"
    }
   ],
   "source": [
    "s4"
   ]
  },
  {
   "cell_type": "code",
   "execution_count": 36,
   "id": "93f13455-88da-459d-8a88-47c671b460c0",
   "metadata": {},
   "outputs": [],
   "source": [
    "s4.remove(1)"
   ]
  },
  {
   "cell_type": "code",
   "execution_count": 37,
   "id": "1907c29d-2c90-49bb-b84d-e9611cac8053",
   "metadata": {},
   "outputs": [
    {
     "data": {
      "text/plain": [
       "{2, 3, 4}"
      ]
     },
     "execution_count": 37,
     "metadata": {},
     "output_type": "execute_result"
    }
   ],
   "source": [
    "s4"
   ]
  },
  {
   "cell_type": "code",
   "execution_count": 38,
   "id": "10de23c1-c1ec-427e-8b9c-aef3ea6d6ceb",
   "metadata": {},
   "outputs": [
    {
     "data": {
      "text/plain": [
       "{1, 2, 3, 4}"
      ]
     },
     "execution_count": 38,
     "metadata": {},
     "output_type": "execute_result"
    }
   ],
   "source": [
    "s1"
   ]
  },
  {
   "cell_type": "code",
   "execution_count": 39,
   "id": "a9b3604d-dbe2-4e85-b1f7-35f4062af14e",
   "metadata": {},
   "outputs": [
    {
     "data": {
      "text/plain": [
       "frozenset({3, 4, 6, 7})"
      ]
     },
     "execution_count": 39,
     "metadata": {},
     "output_type": "execute_result"
    }
   ],
   "source": [
    "s3"
   ]
  },
  {
   "cell_type": "code",
   "execution_count": 40,
   "id": "9ef03fee-fd1a-4163-8381-583b61c494d6",
   "metadata": {},
   "outputs": [
    {
     "data": {
      "text/plain": [
       "{1, 2}"
      ]
     },
     "execution_count": 40,
     "metadata": {},
     "output_type": "execute_result"
    }
   ],
   "source": [
    "s1.difference(s3)"
   ]
  },
  {
   "cell_type": "code",
   "execution_count": 41,
   "id": "c59640bc-2745-4778-be31-70b45a6ab892",
   "metadata": {},
   "outputs": [
    {
     "data": {
      "text/plain": [
       "frozenset({6, 7})"
      ]
     },
     "execution_count": 41,
     "metadata": {},
     "output_type": "execute_result"
    }
   ],
   "source": [
    "s3.difference(s1)"
   ]
  },
  {
   "cell_type": "code",
   "execution_count": 42,
   "id": "fae7a3aa-8fe5-4cae-ae5f-fa900fc07480",
   "metadata": {},
   "outputs": [
    {
     "data": {
      "text/plain": [
       "{1, 2, 3, 4}"
      ]
     },
     "execution_count": 42,
     "metadata": {},
     "output_type": "execute_result"
    }
   ],
   "source": [
    "s1"
   ]
  },
  {
   "cell_type": "code",
   "execution_count": 43,
   "id": "2a489fc0-cefb-4883-aff8-2cb28367e58d",
   "metadata": {},
   "outputs": [
    {
     "data": {
      "text/plain": [
       "frozenset({3, 4, 6, 7})"
      ]
     },
     "execution_count": 43,
     "metadata": {},
     "output_type": "execute_result"
    }
   ],
   "source": [
    "s3"
   ]
  },
  {
   "cell_type": "code",
   "execution_count": 44,
   "id": "45d92b57-eeb1-42cd-8420-f0eaddef4b01",
   "metadata": {},
   "outputs": [
    {
     "data": {
      "text/plain": [
       "{2, 3, 4}"
      ]
     },
     "execution_count": 44,
     "metadata": {},
     "output_type": "execute_result"
    }
   ],
   "source": [
    "s4"
   ]
  },
  {
   "cell_type": "code",
   "execution_count": 45,
   "id": "fd2c6b97-1456-411d-abb6-2a5150ee8616",
   "metadata": {},
   "outputs": [
    {
     "data": {
      "text/plain": [
       "{1, 2, 3, 4}"
      ]
     },
     "execution_count": 45,
     "metadata": {},
     "output_type": "execute_result"
    }
   ],
   "source": [
    "s1"
   ]
  },
  {
   "cell_type": "code",
   "execution_count": 48,
   "id": "73f88995-406e-47cb-9b8e-f539b115a4d8",
   "metadata": {},
   "outputs": [],
   "source": [
    "s4.difference_update(s1)"
   ]
  },
  {
   "cell_type": "code",
   "execution_count": 49,
   "id": "f656d370-c4ed-4f57-a3fb-120bc8e10a28",
   "metadata": {},
   "outputs": [
    {
     "data": {
      "text/plain": [
       "set()"
      ]
     },
     "execution_count": 49,
     "metadata": {},
     "output_type": "execute_result"
    }
   ],
   "source": [
    "s4"
   ]
  },
  {
   "cell_type": "code",
   "execution_count": 57,
   "id": "636a5325-c0ec-44ae-8e05-ec32d98504bd",
   "metadata": {},
   "outputs": [],
   "source": [
    "s1={1,2,3}\n",
    "s2={3,4}"
   ]
  },
  {
   "cell_type": "code",
   "execution_count": 58,
   "id": "b8f1d746-d53c-4ad8-b2c6-48a992f212e7",
   "metadata": {},
   "outputs": [
    {
     "data": {
      "text/plain": [
       "{1, 2, 3}"
      ]
     },
     "execution_count": 58,
     "metadata": {},
     "output_type": "execute_result"
    }
   ],
   "source": [
    "s1"
   ]
  },
  {
   "cell_type": "code",
   "execution_count": 59,
   "id": "8c60ec9c-d0a0-4da2-a482-794e45d15950",
   "metadata": {},
   "outputs": [
    {
     "data": {
      "text/plain": [
       "{3, 4}"
      ]
     },
     "execution_count": 59,
     "metadata": {},
     "output_type": "execute_result"
    }
   ],
   "source": [
    "s2"
   ]
  },
  {
   "cell_type": "code",
   "execution_count": 60,
   "id": "b6b1f19f-e399-4ed8-b485-95908241fc7e",
   "metadata": {},
   "outputs": [
    {
     "data": {
      "text/plain": [
       "{1, 2}"
      ]
     },
     "execution_count": 60,
     "metadata": {},
     "output_type": "execute_result"
    }
   ],
   "source": [
    "s1.difference(s2) ## remove common value from s1 ,and  unique value can be taken only from the s1  "
   ]
  },
  {
   "cell_type": "code",
   "execution_count": 61,
   "id": "96b75bce-f919-46d7-9e1e-51b475d8a4b9",
   "metadata": {},
   "outputs": [
    {
     "data": {
      "text/plain": [
       "{4}"
      ]
     },
     "execution_count": 61,
     "metadata": {},
     "output_type": "execute_result"
    }
   ],
   "source": [
    "s2.difference(s1) ## remove common value from s2 ,and  unique value can be taken only from the s2"
   ]
  },
  {
   "cell_type": "code",
   "execution_count": 66,
   "id": "381f809f-226e-4b80-beb9-cd53a324d1f4",
   "metadata": {},
   "outputs": [],
   "source": [
    "s1.difference_update(s2) # after finding the difference value thn s1 nd s2 will be updated by there new value which is come from after the diffrence  ."
   ]
  },
  {
   "cell_type": "code",
   "execution_count": 67,
   "id": "1d22a31d-a023-47c2-8a90-b1c39a3952e6",
   "metadata": {},
   "outputs": [
    {
     "data": {
      "text/plain": [
       "{1, 2}"
      ]
     },
     "execution_count": 67,
     "metadata": {},
     "output_type": "execute_result"
    }
   ],
   "source": [
    "s1"
   ]
  },
  {
   "cell_type": "code",
   "execution_count": 68,
   "id": "73ae03e2-d588-411a-a987-49e9ab31a4dd",
   "metadata": {},
   "outputs": [
    {
     "data": {
      "text/plain": [
       "{3, 4}"
      ]
     },
     "execution_count": 68,
     "metadata": {},
     "output_type": "execute_result"
    }
   ],
   "source": [
    "s2"
   ]
  },
  {
   "cell_type": "code",
   "execution_count": 70,
   "id": "e5eac766-9658-412c-8f0c-6b92d74d7018",
   "metadata": {},
   "outputs": [
    {
     "data": {
      "text/plain": [
       "False"
      ]
     },
     "execution_count": 70,
     "metadata": {},
     "output_type": "execute_result"
    }
   ],
   "source": [
    "s1.issubset(s2)"
   ]
  },
  {
   "cell_type": "code",
   "execution_count": 73,
   "id": "e1cd91da-c67a-4c3b-b9a1-0a9d2a048eee",
   "metadata": {},
   "outputs": [
    {
     "data": {
      "text/plain": [
       "True"
      ]
     },
     "execution_count": 73,
     "metadata": {},
     "output_type": "execute_result"
    }
   ],
   "source": [
    "{3}.issubset(s2) # 3 is in s2"
   ]
  },
  {
   "cell_type": "code",
   "execution_count": 76,
   "id": "d517543d-5e5f-4ec0-82cc-cb08026e08bf",
   "metadata": {},
   "outputs": [
    {
     "data": {
      "text/plain": [
       "True"
      ]
     },
     "execution_count": 76,
     "metadata": {},
     "output_type": "execute_result"
    }
   ],
   "source": [
    "s2.issuperset({4}) #4 is in set 2"
   ]
  },
  {
   "cell_type": "code",
   "execution_count": 77,
   "id": "e9109890-4a10-4695-97a6-98d99f2a0693",
   "metadata": {},
   "outputs": [],
   "source": [
    "s1={7,8,1,2}\n",
    "s2={1,2,4,5}"
   ]
  },
  {
   "cell_type": "code",
   "execution_count": 79,
   "id": "2040eba6-8283-48fc-9b86-097ac2569ef5",
   "metadata": {},
   "outputs": [
    {
     "data": {
      "text/plain": [
       "{4, 5, 7, 8}"
      ]
     },
     "execution_count": 79,
     "metadata": {},
     "output_type": "execute_result"
    }
   ],
   "source": [
    "s1.symmetric_difference(s2)"
   ]
  },
  {
   "cell_type": "code",
   "execution_count": 80,
   "id": "cec6836a-0a66-4de6-b1bf-d3d56b45f8fa",
   "metadata": {},
   "outputs": [],
   "source": [
    "s1.symmetric_difference_update(s2)"
   ]
  },
  {
   "cell_type": "code",
   "execution_count": 81,
   "id": "b2075028-13c1-4eac-a3d8-e72f77cd2c5c",
   "metadata": {},
   "outputs": [
    {
     "data": {
      "text/plain": [
       "{4, 5, 7, 8}"
      ]
     },
     "execution_count": 81,
     "metadata": {},
     "output_type": "execute_result"
    }
   ],
   "source": [
    "s1"
   ]
  },
  {
   "cell_type": "code",
   "execution_count": null,
   "id": "5f8a5dab-da5f-477e-8206-0a0b287ff954",
   "metadata": {},
   "outputs": [],
   "source": []
  }
 ],
 "metadata": {
  "kernelspec": {
   "display_name": "Python 3 (ipykernel)",
   "language": "python",
   "name": "python3"
  },
  "language_info": {
   "codemirror_mode": {
    "name": "ipython",
    "version": 3
   },
   "file_extension": ".py",
   "mimetype": "text/x-python",
   "name": "python",
   "nbconvert_exporter": "python",
   "pygments_lexer": "ipython3",
   "version": "3.11.7"
  }
 },
 "nbformat": 4,
 "nbformat_minor": 5
}
