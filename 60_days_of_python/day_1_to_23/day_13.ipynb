{
 "cells": [
  {
   "cell_type": "code",
   "execution_count": 59,
   "id": "2f9b8154-7892-4746-a734-9a2b9c3866fc",
   "metadata": {},
   "outputs": [],
   "source": [
    "# list\n",
    "list1=['AI','dataStructure',12,4,True,(1,2,4),[3,5,6,8]]"
   ]
  },
  {
   "cell_type": "code",
   "execution_count": 60,
   "id": "27890711-cb24-40d9-8e04-a18dfe907eb9",
   "metadata": {},
   "outputs": [
    {
     "data": {
      "text/plain": [
       "['AI', 'dataStructure', 12, 4, True, (1, 2, 4), [3, 5, 6, 8]]"
      ]
     },
     "execution_count": 60,
     "metadata": {},
     "output_type": "execute_result"
    }
   ],
   "source": [
    "list1"
   ]
  },
  {
   "cell_type": "code",
   "execution_count": 61,
   "id": "022bbd50-806f-4a84-a0ce-6e2219e8d03c",
   "metadata": {},
   "outputs": [
    {
     "data": {
      "text/plain": [
       "True"
      ]
     },
     "execution_count": 61,
     "metadata": {},
     "output_type": "execute_result"
    }
   ],
   "source": [
    "list1[4]"
   ]
  },
  {
   "cell_type": "code",
   "execution_count": 62,
   "id": "b5264ca6-c985-42fd-a8a8-89bfd6c63859",
   "metadata": {},
   "outputs": [
    {
     "data": {
      "text/plain": [
       "[3, 5, 6, 8]"
      ]
     },
     "execution_count": 62,
     "metadata": {},
     "output_type": "execute_result"
    }
   ],
   "source": [
    "list1[-1]"
   ]
  },
  {
   "cell_type": "code",
   "execution_count": 63,
   "id": "69cdfdf9-bdc0-450b-9602-061914c7eb89",
   "metadata": {},
   "outputs": [
    {
     "data": {
      "text/plain": [
       "3"
      ]
     },
     "execution_count": 63,
     "metadata": {},
     "output_type": "execute_result"
    }
   ],
   "source": [
    "list1[-1][0]"
   ]
  },
  {
   "cell_type": "code",
   "execution_count": 64,
   "id": "bb2721e3-2a8d-4c7c-8280-8aff5a8db792",
   "metadata": {},
   "outputs": [
    {
     "data": {
      "text/plain": [
       "8"
      ]
     },
     "execution_count": 64,
     "metadata": {},
     "output_type": "execute_result"
    }
   ],
   "source": [
    "list1[-1][-1]"
   ]
  },
  {
   "cell_type": "code",
   "execution_count": 65,
   "id": "1a1cc93d-f83b-4d14-b482-75a29d5ec034",
   "metadata": {},
   "outputs": [
    {
     "data": {
      "text/plain": [
       "6"
      ]
     },
     "execution_count": 65,
     "metadata": {},
     "output_type": "execute_result"
    }
   ],
   "source": [
    "list1[-1][-2]"
   ]
  },
  {
   "cell_type": "markdown",
   "id": "d5e71c74-7688-4869-a7c5-32d2572bd0ca",
   "metadata": {},
   "source": [
    "Copy"
   ]
  },
  {
   "cell_type": "code",
   "execution_count": 66,
   "id": "b2203d17-f262-4ef2-ad77-a72b508323dd",
   "metadata": {},
   "outputs": [],
   "source": [
    "list2=list1"
   ]
  },
  {
   "cell_type": "code",
   "execution_count": 67,
   "id": "fe518b6d-d196-4215-91ec-df8a64f24293",
   "metadata": {},
   "outputs": [
    {
     "data": {
      "text/plain": [
       "['AI', 'dataStructure', 12, 4, True, (1, 2, 4), [3, 5, 6, 8]]"
      ]
     },
     "execution_count": 67,
     "metadata": {},
     "output_type": "execute_result"
    }
   ],
   "source": [
    "list1"
   ]
  },
  {
   "cell_type": "code",
   "execution_count": 68,
   "id": "832fff95-e2bf-4736-9456-2a8d3d5de7c9",
   "metadata": {},
   "outputs": [
    {
     "data": {
      "text/plain": [
       "['AI', 'dataStructure', 12, 4, True, (1, 2, 4), [3, 5, 6, 8]]"
      ]
     },
     "execution_count": 68,
     "metadata": {},
     "output_type": "execute_result"
    }
   ],
   "source": [
    "list2"
   ]
  },
  {
   "cell_type": "code",
   "execution_count": 69,
   "id": "49562874-fa88-472b-821f-5ced7fc7d7df",
   "metadata": {},
   "outputs": [],
   "source": [
    "list3=list1.copy()"
   ]
  },
  {
   "cell_type": "code",
   "execution_count": 70,
   "id": "8285bdd5-6e0f-4fdc-9ae4-2ea843a33e06",
   "metadata": {},
   "outputs": [
    {
     "data": {
      "text/plain": [
       "['AI', 'dataStructure', 12, 4, True, (1, 2, 4), [3, 5, 6, 8]]"
      ]
     },
     "execution_count": 70,
     "metadata": {},
     "output_type": "execute_result"
    }
   ],
   "source": [
    "list3"
   ]
  },
  {
   "cell_type": "code",
   "execution_count": 71,
   "id": "6b3e2e55-8f5c-4425-b2ef-b6188605d902",
   "metadata": {},
   "outputs": [],
   "source": [
    "list1[0]=\"java\""
   ]
  },
  {
   "cell_type": "code",
   "execution_count": 72,
   "id": "42351e1c-6fca-4813-bf14-2b26ffff4753",
   "metadata": {},
   "outputs": [
    {
     "data": {
      "text/plain": [
       "['java', 'dataStructure', 12, 4, True, (1, 2, 4), [3, 5, 6, 8]]"
      ]
     },
     "execution_count": 72,
     "metadata": {},
     "output_type": "execute_result"
    }
   ],
   "source": [
    "list1"
   ]
  },
  {
   "cell_type": "code",
   "execution_count": 73,
   "id": "6597d16b-2762-4ef8-a22a-10020acedcf0",
   "metadata": {},
   "outputs": [
    {
     "data": {
      "text/plain": [
       "['java', 'dataStructure', 12, 4, True, (1, 2, 4), [3, 5, 6, 8]]"
      ]
     },
     "execution_count": 73,
     "metadata": {},
     "output_type": "execute_result"
    }
   ],
   "source": [
    "list2"
   ]
  },
  {
   "cell_type": "code",
   "execution_count": 74,
   "id": "89772281-41c7-40e9-92a0-3dfb5b414768",
   "metadata": {},
   "outputs": [
    {
     "data": {
      "text/plain": [
       "['AI', 'dataStructure', 12, 4, True, (1, 2, 4), [3, 5, 6, 8]]"
      ]
     },
     "execution_count": 74,
     "metadata": {},
     "output_type": "execute_result"
    }
   ],
   "source": [
    "list3"
   ]
  },
  {
   "cell_type": "code",
   "execution_count": 75,
   "id": "d1e40238-4946-4faa-83d1-190b1ea3573f",
   "metadata": {},
   "outputs": [],
   "source": [
    "list3[0]=\"C#\""
   ]
  },
  {
   "cell_type": "code",
   "execution_count": 76,
   "id": "28569332-ed8d-43c1-9b66-b79643fcac97",
   "metadata": {},
   "outputs": [
    {
     "data": {
      "text/plain": [
       "['C#', 'dataStructure', 12, 4, True, (1, 2, 4), [3, 5, 6, 8]]"
      ]
     },
     "execution_count": 76,
     "metadata": {},
     "output_type": "execute_result"
    }
   ],
   "source": [
    "list3"
   ]
  },
  {
   "cell_type": "code",
   "execution_count": 77,
   "id": "fd832bc7-6001-4b57-9250-04ac93c1e119",
   "metadata": {},
   "outputs": [
    {
     "data": {
      "text/plain": [
       "['java', 'dataStructure', 12, 4, True, (1, 2, 4), [3, 5, 6, 8]]"
      ]
     },
     "execution_count": 77,
     "metadata": {},
     "output_type": "execute_result"
    }
   ],
   "source": [
    "list1"
   ]
  },
  {
   "cell_type": "code",
   "execution_count": 78,
   "id": "f2c7019e-68c5-4437-9c3b-424063ca2478",
   "metadata": {},
   "outputs": [
    {
     "data": {
      "text/plain": [
       "['java', 'dataStructure', 12, 4, True, (1, 2, 4), [3, 5, 6, 8]]"
      ]
     },
     "execution_count": 78,
     "metadata": {},
     "output_type": "execute_result"
    }
   ],
   "source": [
    "list2"
   ]
  },
  {
   "cell_type": "markdown",
   "id": "e5f0f65d-c12e-4105-8a84-0c00898edfe9",
   "metadata": {},
   "source": [
    "Append"
   ]
  },
  {
   "cell_type": "code",
   "execution_count": 79,
   "id": "26e07c4d-8a10-4cb4-943f-534be5957386",
   "metadata": {},
   "outputs": [],
   "source": [
    "l1=(12,3,45)"
   ]
  },
  {
   "cell_type": "code",
   "execution_count": 80,
   "id": "d5c12243-3097-49a2-8781-0e66ea56dec1",
   "metadata": {},
   "outputs": [
    {
     "data": {
      "text/plain": [
       "(12, 3, 45)"
      ]
     },
     "execution_count": 80,
     "metadata": {},
     "output_type": "execute_result"
    }
   ],
   "source": [
    "l1"
   ]
  },
  {
   "cell_type": "code",
   "execution_count": 81,
   "id": "51539cd4-4d2c-4651-a766-c83f485e176d",
   "metadata": {},
   "outputs": [],
   "source": [
    "list1.append(l1)"
   ]
  },
  {
   "cell_type": "code",
   "execution_count": 82,
   "id": "a93b28e2-97c2-43c8-9c8d-8c1a55076494",
   "metadata": {},
   "outputs": [
    {
     "data": {
      "text/plain": [
       "['java', 'dataStructure', 12, 4, True, (1, 2, 4), [3, 5, 6, 8], (12, 3, 45)]"
      ]
     },
     "execution_count": 82,
     "metadata": {},
     "output_type": "execute_result"
    }
   ],
   "source": [
    "list1"
   ]
  },
  {
   "cell_type": "code",
   "execution_count": 83,
   "id": "002ac05e-bf1f-4666-895e-22acea5cd104",
   "metadata": {},
   "outputs": [
    {
     "data": {
      "text/plain": [
       "(12, 3, 45)"
      ]
     },
     "execution_count": 83,
     "metadata": {},
     "output_type": "execute_result"
    }
   ],
   "source": [
    "list1[-1]"
   ]
  },
  {
   "cell_type": "code",
   "execution_count": 84,
   "id": "0fad9788-8127-4664-a1a4-570b44a17e9c",
   "metadata": {},
   "outputs": [],
   "source": [
    "list1.append({1,23,4})"
   ]
  },
  {
   "cell_type": "code",
   "execution_count": 85,
   "id": "de14ee02-fffa-4c42-a201-ca6312c4b4a3",
   "metadata": {},
   "outputs": [
    {
     "data": {
      "text/plain": [
       "['java',\n",
       " 'dataStructure',\n",
       " 12,\n",
       " 4,\n",
       " True,\n",
       " (1, 2, 4),\n",
       " [3, 5, 6, 8],\n",
       " (12, 3, 45),\n",
       " {1, 4, 23}]"
      ]
     },
     "execution_count": 85,
     "metadata": {},
     "output_type": "execute_result"
    }
   ],
   "source": [
    "list1"
   ]
  },
  {
   "cell_type": "code",
   "execution_count": 86,
   "id": "b3b90bde-5533-49a8-b93c-224e4efbbd0c",
   "metadata": {},
   "outputs": [
    {
     "data": {
      "text/plain": [
       "{1, 4, 23}"
      ]
     },
     "execution_count": 86,
     "metadata": {},
     "output_type": "execute_result"
    }
   ],
   "source": [
    "list1[-1]"
   ]
  },
  {
   "cell_type": "code",
   "execution_count": 87,
   "id": "4f8fd50a-5362-4533-b277-240827c9fdb7",
   "metadata": {},
   "outputs": [],
   "source": [
    "list1.extend(l1) #the value of l1 is shown in single diffrent line"
   ]
  },
  {
   "cell_type": "code",
   "execution_count": 88,
   "id": "9f9d9d5b-df1d-4325-9bba-469b4099d9a1",
   "metadata": {},
   "outputs": [
    {
     "data": {
      "text/plain": [
       "['java',\n",
       " 'dataStructure',\n",
       " 12,\n",
       " 4,\n",
       " True,\n",
       " (1, 2, 4),\n",
       " [3, 5, 6, 8],\n",
       " (12, 3, 45),\n",
       " {1, 4, 23},\n",
       " 12,\n",
       " 3,\n",
       " 45]"
      ]
     },
     "execution_count": 88,
     "metadata": {},
     "output_type": "execute_result"
    }
   ],
   "source": [
    "list1"
   ]
  },
  {
   "cell_type": "code",
   "execution_count": 89,
   "id": "04594d72-3bb3-438c-bbfc-0e67bd4c4a22",
   "metadata": {},
   "outputs": [
    {
     "data": {
      "text/plain": [
       "45"
      ]
     },
     "execution_count": 89,
     "metadata": {},
     "output_type": "execute_result"
    }
   ],
   "source": [
    "list1[-1] # only show the last value of l1 bcz of stend function but in append function the out put will be the whole list of l1"
   ]
  },
  {
   "cell_type": "code",
   "execution_count": 90,
   "id": "33c20f2d-6bed-49a8-95ea-fd75d5706762",
   "metadata": {},
   "outputs": [
    {
     "data": {
      "text/plain": [
       "3"
      ]
     },
     "execution_count": 90,
     "metadata": {},
     "output_type": "execute_result"
    }
   ],
   "source": [
    "list1[-2]"
   ]
  },
  {
   "cell_type": "markdown",
   "id": "cf23345e-e3e8-43f4-9fdc-407bf4e15d5c",
   "metadata": {},
   "source": [
    "insert"
   ]
  },
  {
   "cell_type": "code",
   "execution_count": 91,
   "id": "e13260f4-0006-4608-81c2-1ff84ee20bac",
   "metadata": {},
   "outputs": [
    {
     "data": {
      "text/plain": [
       "['java',\n",
       " 'dataStructure',\n",
       " 12,\n",
       " 4,\n",
       " True,\n",
       " (1, 2, 4),\n",
       " [3, 5, 6, 8],\n",
       " (12, 3, 45),\n",
       " {1, 4, 23},\n",
       " 12,\n",
       " 3,\n",
       " 45]"
      ]
     },
     "execution_count": 91,
     "metadata": {},
     "output_type": "execute_result"
    }
   ],
   "source": [
    "list1"
   ]
  },
  {
   "cell_type": "code",
   "execution_count": 95,
   "id": "951a46ff-82ee-415c-b85e-6b0170d9cbe8",
   "metadata": {},
   "outputs": [],
   "source": [
    "list1.insert(0,\"AIUB\") # insert the value in the specific index of the list"
   ]
  },
  {
   "cell_type": "code",
   "execution_count": 97,
   "id": "891f6906-b8b9-4275-9a86-06296853e26f",
   "metadata": {},
   "outputs": [
    {
     "data": {
      "text/plain": [
       "['AIUB',\n",
       " 'AUB',\n",
       " 'IUB',\n",
       " 'java',\n",
       " 'dataStructure',\n",
       " 12,\n",
       " 4,\n",
       " True,\n",
       " (1, 2, 4),\n",
       " [3, 5, 6, 8],\n",
       " (12, 3, 45),\n",
       " {1, 4, 23},\n",
       " 12,\n",
       " 3,\n",
       " 45]"
      ]
     },
     "execution_count": 97,
     "metadata": {},
     "output_type": "execute_result"
    }
   ],
   "source": [
    "list1"
   ]
  },
  {
   "cell_type": "code",
   "execution_count": 98,
   "id": "1ee37d2e-7f67-430e-8df2-6fb89c35b5e3",
   "metadata": {},
   "outputs": [
    {
     "data": {
      "text/plain": [
       "'AIUB'"
      ]
     },
     "execution_count": 98,
     "metadata": {},
     "output_type": "execute_result"
    }
   ],
   "source": [
    "list1.pop(0)"
   ]
  },
  {
   "cell_type": "code",
   "execution_count": 99,
   "id": "0e208528-c3e6-4af3-bae3-908ae35a50e5",
   "metadata": {},
   "outputs": [
    {
     "data": {
      "text/plain": [
       "'AUB'"
      ]
     },
     "execution_count": 99,
     "metadata": {},
     "output_type": "execute_result"
    }
   ],
   "source": [
    "list1.pop(0)"
   ]
  },
  {
   "cell_type": "code",
   "execution_count": 100,
   "id": "c851d82f-79a6-4d22-9f61-94a36ee3671f",
   "metadata": {},
   "outputs": [
    {
     "data": {
      "text/plain": [
       "'IUB'"
      ]
     },
     "execution_count": 100,
     "metadata": {},
     "output_type": "execute_result"
    }
   ],
   "source": [
    "list1.pop(0)"
   ]
  },
  {
   "cell_type": "code",
   "execution_count": 104,
   "id": "8d4f5d23-eb3c-432f-88c6-cf96e6f4c1df",
   "metadata": {},
   "outputs": [],
   "source": [
    "list1.insert(0,\"AIUB\")# insert value in the specific function"
   ]
  },
  {
   "cell_type": "code",
   "execution_count": 105,
   "id": "ee04166d-e35a-4dd2-a742-53aee60f9cdb",
   "metadata": {},
   "outputs": [
    {
     "data": {
      "text/plain": [
       "['AIUB',\n",
       " 'AIUB',\n",
       " 'java',\n",
       " 'dataStructure',\n",
       " 12,\n",
       " 4,\n",
       " True,\n",
       " (1, 2, 4),\n",
       " [3, 5, 6, 8],\n",
       " (12, 3, 45),\n",
       " {1, 4, 23},\n",
       " 12,\n",
       " 3,\n",
       " 45]"
      ]
     },
     "execution_count": 105,
     "metadata": {},
     "output_type": "execute_result"
    }
   ],
   "source": [
    "list1"
   ]
  },
  {
   "cell_type": "markdown",
   "id": "39926065-b7f1-482b-b55d-572027c8bd1d",
   "metadata": {},
   "source": [
    "Index()"
   ]
  },
  {
   "cell_type": "code",
   "execution_count": 107,
   "id": "c45eda6e-69c6-4946-abfa-e569814aced9",
   "metadata": {},
   "outputs": [
    {
     "data": {
      "text/plain": [
       "4"
      ]
     },
     "execution_count": 107,
     "metadata": {},
     "output_type": "execute_result"
    }
   ],
   "source": [
    "list1.index(12) # index number of the value ,value=12 so index =4 "
   ]
  },
  {
   "cell_type": "code",
   "execution_count": 111,
   "id": "f0b48f16-4582-4ad7-8b26-b2815842969f",
   "metadata": {},
   "outputs": [
    {
     "data": {
      "text/plain": [
       "10"
      ]
     },
     "execution_count": 111,
     "metadata": {},
     "output_type": "execute_result"
    }
   ],
   "source": [
    "list1.index({1, 4, 23})"
   ]
  },
  {
   "cell_type": "markdown",
   "id": "c3bc24aa-da62-4662-899f-58890d86e42a",
   "metadata": {},
   "source": [
    "Count"
   ]
  },
  {
   "cell_type": "code",
   "execution_count": 113,
   "id": "2a255daa-6622-4199-8b2a-c2ecceeb04a9",
   "metadata": {},
   "outputs": [
    {
     "data": {
      "text/plain": [
       "1"
      ]
     },
     "execution_count": 113,
     "metadata": {},
     "output_type": "execute_result"
    }
   ],
   "source": [
    "list1.count( {1, 4, 23}) # count how many tyms  a item is used of the list"
   ]
  },
  {
   "cell_type": "code",
   "execution_count": 118,
   "id": "f7b69279-54ad-4eb5-a917-f5f24e70051a",
   "metadata": {},
   "outputs": [],
   "source": [
    "l2=[1,4,3,9,2,7]"
   ]
  },
  {
   "cell_type": "code",
   "execution_count": 119,
   "id": "b2f2c749-2016-4e98-abe6-171632bf1fd6",
   "metadata": {},
   "outputs": [
    {
     "data": {
      "text/plain": [
       "[1, 4, 3, 9, 2, 7]"
      ]
     },
     "execution_count": 119,
     "metadata": {},
     "output_type": "execute_result"
    }
   ],
   "source": [
    "l2"
   ]
  },
  {
   "cell_type": "code",
   "execution_count": 120,
   "id": "c295cee4-c11f-4b99-8088-02f2705b4147",
   "metadata": {},
   "outputs": [],
   "source": [
    "l2.sort() # sort the value ascending order"
   ]
  },
  {
   "cell_type": "code",
   "execution_count": 121,
   "id": "380756d5-cc14-47c6-8efe-652ee84832d8",
   "metadata": {},
   "outputs": [
    {
     "data": {
      "text/plain": [
       "[1, 2, 3, 4, 7, 9]"
      ]
     },
     "execution_count": 121,
     "metadata": {},
     "output_type": "execute_result"
    }
   ],
   "source": [
    "l2"
   ]
  },
  {
   "cell_type": "markdown",
   "id": "6bcf9ec2-d9d4-476c-91e5-93460521be12",
   "metadata": {},
   "source": [
    "Reverse()"
   ]
  },
  {
   "cell_type": "code",
   "execution_count": 122,
   "id": "e2b94a7e-86ef-4fcc-bef8-7d427ad5b5e6",
   "metadata": {},
   "outputs": [],
   "source": [
    "l2.reverse() # sort the value descending order"
   ]
  },
  {
   "cell_type": "code",
   "execution_count": 123,
   "id": "19ad460a-d706-4c45-8bce-606c2519ef57",
   "metadata": {},
   "outputs": [
    {
     "data": {
      "text/plain": [
       "[9, 7, 4, 3, 2, 1]"
      ]
     },
     "execution_count": 123,
     "metadata": {},
     "output_type": "execute_result"
    }
   ],
   "source": [
    "l2"
   ]
  },
  {
   "cell_type": "markdown",
   "id": "d64dbdcd-ed96-4c88-ba1c-f1574226d236",
   "metadata": {},
   "source": [
    "Remove()"
   ]
  },
  {
   "cell_type": "code",
   "execution_count": 124,
   "id": "1a8c74ef-d6b2-4b06-b3df-eea01f0f9a1f",
   "metadata": {},
   "outputs": [
    {
     "data": {
      "text/plain": [
       "[9, 7, 4, 3, 2, 1]"
      ]
     },
     "execution_count": 124,
     "metadata": {},
     "output_type": "execute_result"
    }
   ],
   "source": [
    "l2"
   ]
  },
  {
   "cell_type": "code",
   "execution_count": 127,
   "id": "0ce2cd6b-f8e4-4d8c-af37-59d603c7aa66",
   "metadata": {},
   "outputs": [],
   "source": [
    "l2.remove(1) # remove an element from the list"
   ]
  },
  {
   "cell_type": "code",
   "execution_count": 128,
   "id": "d5d74276-bb5d-47ad-b284-a8fdf03a3ce5",
   "metadata": {},
   "outputs": [
    {
     "data": {
      "text/plain": [
       "[7, 4, 3, 2]"
      ]
     },
     "execution_count": 128,
     "metadata": {},
     "output_type": "execute_result"
    }
   ],
   "source": [
    "l2"
   ]
  },
  {
   "cell_type": "markdown",
   "id": "d16d88ca-86b2-4786-acfc-07ac20ff8159",
   "metadata": {},
   "source": [
    "pop()"
   ]
  },
  {
   "cell_type": "code",
   "execution_count": 129,
   "id": "e70a5eb7-17ec-4938-a66d-10ca921a5291",
   "metadata": {},
   "outputs": [
    {
     "data": {
      "text/plain": [
       "2"
      ]
     },
     "execution_count": 129,
     "metadata": {},
     "output_type": "execute_result"
    }
   ],
   "source": [
    "l2.pop(-1) # remove an  element from the last index of the list ,here index number=-1"
   ]
  },
  {
   "cell_type": "code",
   "execution_count": 130,
   "id": "77ab0cb5-33c4-45c8-a29d-8533ef27d8a7",
   "metadata": {},
   "outputs": [
    {
     "data": {
      "text/plain": [
       "[7, 4, 3]"
      ]
     },
     "execution_count": 130,
     "metadata": {},
     "output_type": "execute_result"
    }
   ],
   "source": [
    "l2"
   ]
  },
  {
   "cell_type": "code",
   "execution_count": 131,
   "id": "92c207c2-7f95-40b5-a5b4-98f00d8fa88f",
   "metadata": {},
   "outputs": [
    {
     "data": {
      "text/plain": [
       "4"
      ]
     },
     "execution_count": 131,
     "metadata": {},
     "output_type": "execute_result"
    }
   ],
   "source": [
    "l2.pop(1)"
   ]
  },
  {
   "cell_type": "code",
   "execution_count": 132,
   "id": "ffeda20c-ce33-4663-9da0-63c20209ec79",
   "metadata": {},
   "outputs": [
    {
     "data": {
      "text/plain": [
       "[7, 3]"
      ]
     },
     "execution_count": 132,
     "metadata": {},
     "output_type": "execute_result"
    }
   ],
   "source": [
    "l2"
   ]
  },
  {
   "cell_type": "code",
   "execution_count": 133,
   "id": "a5a34863-c919-4f82-a110-bd576e643a67",
   "metadata": {},
   "outputs": [],
   "source": [
    "l2.clear() #delete all element from the list"
   ]
  },
  {
   "cell_type": "code",
   "execution_count": 134,
   "id": "eda54e12-684a-4537-9bd0-a2ba2e67f4a2",
   "metadata": {},
   "outputs": [
    {
     "data": {
      "text/plain": [
       "[]"
      ]
     },
     "execution_count": 134,
     "metadata": {},
     "output_type": "execute_result"
    }
   ],
   "source": [
    "l2"
   ]
  },
  {
   "cell_type": "code",
   "execution_count": 135,
   "id": "0454cc08-407d-4c36-8e6b-d1583f828841",
   "metadata": {},
   "outputs": [
    {
     "data": {
      "text/plain": [
       "list"
      ]
     },
     "execution_count": 135,
     "metadata": {},
     "output_type": "execute_result"
    }
   ],
   "source": [
    "type(l2)"
   ]
  },
  {
   "cell_type": "code",
   "execution_count": null,
   "id": "03015331-df9c-49d4-8c90-23f1b9922baa",
   "metadata": {},
   "outputs": [],
   "source": []
  }
 ],
 "metadata": {
  "kernelspec": {
   "display_name": "Python 3 (ipykernel)",
   "language": "python",
   "name": "python3"
  },
  "language_info": {
   "codemirror_mode": {
    "name": "ipython",
    "version": 3
   },
   "file_extension": ".py",
   "mimetype": "text/x-python",
   "name": "python",
   "nbconvert_exporter": "python",
   "pygments_lexer": "ipython3",
   "version": "3.11.7"
  }
 },
 "nbformat": 4,
 "nbformat_minor": 5
}
