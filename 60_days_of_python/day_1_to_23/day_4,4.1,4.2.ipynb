{
 "cells": [
  {
   "cell_type": "markdown",
   "id": "45e19134-f1f6-4c77-8267-68f60ec3d878",
   "metadata": {},
   "source": [
    "All About Data Types in Python"
   ]
  },
  {
   "cell_type": "code",
   "execution_count": 1,
   "id": "f0790b9d-0258-4382-bc6a-620b01831a29",
   "metadata": {},
   "outputs": [],
   "source": [
    "x=10 #int\n",
    "y=10.5 #float\n",
    "z=10+5j# 10 is real 5j is imaginary "
   ]
  },
  {
   "cell_type": "code",
   "execution_count": 3,
   "id": "71ed92d4-6624-40e3-bfba-050591293870",
   "metadata": {},
   "outputs": [
    {
     "data": {
      "text/plain": [
       "int"
      ]
     },
     "execution_count": 3,
     "metadata": {},
     "output_type": "execute_result"
    }
   ],
   "source": [
    "type(x)"
   ]
  },
  {
   "cell_type": "code",
   "execution_count": 4,
   "id": "fd7580b4-f32f-4d3a-8dad-ee19b08ac0a3",
   "metadata": {},
   "outputs": [
    {
     "data": {
      "text/plain": [
       "float"
      ]
     },
     "execution_count": 4,
     "metadata": {},
     "output_type": "execute_result"
    }
   ],
   "source": [
    "type(y)"
   ]
  },
  {
   "cell_type": "code",
   "execution_count": 5,
   "id": "6d020f35-5b15-430d-b351-0b337689bc19",
   "metadata": {},
   "outputs": [
    {
     "data": {
      "text/plain": [
       "complex"
      ]
     },
     "execution_count": 5,
     "metadata": {},
     "output_type": "execute_result"
    }
   ],
   "source": [
    "type(z)"
   ]
  },
  {
   "cell_type": "code",
   "execution_count": 8,
   "id": "2c2e45ed-8b71-40da-8f12-bb8a083be860",
   "metadata": {},
   "outputs": [
    {
     "data": {
      "text/plain": [
       "True"
      ]
     },
     "execution_count": 8,
     "metadata": {},
     "output_type": "execute_result"
    }
   ],
   "source": [
    "isinstance(z,complex) #boolean value return ,same as type() function"
   ]
  },
  {
   "cell_type": "code",
   "execution_count": 11,
   "id": "a7531dd0-35ef-4e86-9ec1-89fcd9d5862c",
   "metadata": {},
   "outputs": [],
   "source": [
    "# int to float data type convert\n",
    "n=float(x)"
   ]
  },
  {
   "cell_type": "code",
   "execution_count": 12,
   "id": "4baa39b4-2244-4256-97cd-bf0ff31436c7",
   "metadata": {},
   "outputs": [
    {
     "data": {
      "text/plain": [
       "10.0"
      ]
     },
     "execution_count": 12,
     "metadata": {},
     "output_type": "execute_result"
    }
   ],
   "source": [
    "n"
   ]
  },
  {
   "cell_type": "code",
   "execution_count": 13,
   "id": "64a5300c-d854-479e-8d56-b44e73b04b56",
   "metadata": {},
   "outputs": [
    {
     "data": {
      "text/plain": [
       "float"
      ]
     },
     "execution_count": 13,
     "metadata": {},
     "output_type": "execute_result"
    }
   ],
   "source": [
    "type(n)"
   ]
  },
  {
   "cell_type": "code",
   "execution_count": 14,
   "id": "d9280028-29a6-4656-9140-68669392b3b6",
   "metadata": {},
   "outputs": [
    {
     "data": {
      "text/plain": [
       "int"
      ]
     },
     "execution_count": 14,
     "metadata": {},
     "output_type": "execute_result"
    }
   ],
   "source": [
    "n=int(n)\n",
    "type(n)"
   ]
  },
  {
   "cell_type": "code",
   "execution_count": 16,
   "id": "5a40ccda-0176-47b1-a281-6f080ee125cb",
   "metadata": {},
   "outputs": [],
   "source": [
    "# int to complex\n",
    "n=complex(n)"
   ]
  },
  {
   "cell_type": "code",
   "execution_count": 17,
   "id": "19eaee25-79d6-4d4e-89a1-d88f33aaf732",
   "metadata": {},
   "outputs": [
    {
     "data": {
      "text/plain": [
       "(10+0j)"
      ]
     },
     "execution_count": 17,
     "metadata": {},
     "output_type": "execute_result"
    }
   ],
   "source": [
    "n"
   ]
  },
  {
   "cell_type": "code",
   "execution_count": 18,
   "id": "784b7eea-8221-4ef6-9ec1-b9308ab36054",
   "metadata": {},
   "outputs": [
    {
     "data": {
      "text/plain": [
       "complex"
      ]
     },
     "execution_count": 18,
     "metadata": {},
     "output_type": "execute_result"
    }
   ],
   "source": [
    "type(n)"
   ]
  },
  {
   "cell_type": "code",
   "execution_count": 43,
   "id": "4c4781b0-f2e7-45a9-89d0-bc87527b09f4",
   "metadata": {},
   "outputs": [
    {
     "ename": "TypeError",
     "evalue": "int() argument must be a string, a bytes-like object or a real number, not 'complex'",
     "output_type": "error",
     "traceback": [
      "\u001b[1;31m---------------------------------------------------------------------------\u001b[0m",
      "\u001b[1;31mTypeError\u001b[0m                                 Traceback (most recent call last)",
      "Cell \u001b[1;32mIn[43], line 1\u001b[0m\n\u001b[1;32m----> 1\u001b[0m n\u001b[38;5;241m=\u001b[39m\u001b[38;5;28mint\u001b[39m(n)\n",
      "\u001b[1;31mTypeError\u001b[0m: int() argument must be a string, a bytes-like object or a real number, not 'complex'"
     ]
    }
   ],
   "source": [
    "n=int(n) # complex to int is not possible"
   ]
  },
  {
   "cell_type": "code",
   "execution_count": 20,
   "id": "4c011568-6c93-47cb-accc-fbf53fca944c",
   "metadata": {},
   "outputs": [
    {
     "ename": "TypeError",
     "evalue": "float() argument must be a string or a real number, not 'complex'",
     "output_type": "error",
     "traceback": [
      "\u001b[1;31m---------------------------------------------------------------------------\u001b[0m",
      "\u001b[1;31mTypeError\u001b[0m                                 Traceback (most recent call last)",
      "Cell \u001b[1;32mIn[20], line 1\u001b[0m\n\u001b[1;32m----> 1\u001b[0m n\u001b[38;5;241m=\u001b[39m\u001b[38;5;28mfloat\u001b[39m(n)\n",
      "\u001b[1;31mTypeError\u001b[0m: float() argument must be a string or a real number, not 'complex'"
     ]
    }
   ],
   "source": [
    "n=float(n)"
   ]
  },
  {
   "cell_type": "code",
   "execution_count": 44,
   "id": "d838dea6-010f-45b1-bd2a-cc56a2e3b97a",
   "metadata": {},
   "outputs": [
    {
     "name": "stdin",
     "output_type": "stream",
     "text": [
      "enter your comples number :  12\n"
     ]
    }
   ],
   "source": [
    "n=complex(input(\"enter your comples number : \")) # complex to float is not possible"
   ]
  },
  {
   "cell_type": "code",
   "execution_count": 22,
   "id": "dea9e33f-4ce5-4bcd-9ae6-52ac8e80b605",
   "metadata": {},
   "outputs": [
    {
     "data": {
      "text/plain": [
       "(1+0j)"
      ]
     },
     "execution_count": 22,
     "metadata": {},
     "output_type": "execute_result"
    }
   ],
   "source": [
    "n"
   ]
  },
  {
   "cell_type": "code",
   "execution_count": 23,
   "id": "ac44645b-b2d2-4459-9024-4f1cf2efee80",
   "metadata": {},
   "outputs": [
    {
     "name": "stdin",
     "output_type": "stream",
     "text": [
      "enter your comples number :  1+j\n"
     ]
    }
   ],
   "source": [
    "n=complex(input(\"enter your comples number : \"))"
   ]
  },
  {
   "cell_type": "code",
   "execution_count": 24,
   "id": "449df0f9-50cf-4ae9-a133-7101a56ebb7f",
   "metadata": {},
   "outputs": [
    {
     "data": {
      "text/plain": [
       "complex"
      ]
     },
     "execution_count": 24,
     "metadata": {},
     "output_type": "execute_result"
    }
   ],
   "source": [
    "type(n)"
   ]
  },
  {
   "cell_type": "markdown",
   "id": "75f43a02-d4e5-4a5b-9e3f-d7937e810476",
   "metadata": {},
   "source": [
    "Boolean"
   ]
  },
  {
   "cell_type": "code",
   "execution_count": 40,
   "id": "f336f5a1-edba-473a-aa63-7c776e68a64b",
   "metadata": {},
   "outputs": [],
   "source": [
    "x = True\n",
    "y = False\n"
   ]
  },
  {
   "cell_type": "code",
   "execution_count": 41,
   "id": "bd59c654-554f-41ab-bacc-6f4e4aaa1603",
   "metadata": {},
   "outputs": [
    {
     "data": {
      "text/plain": [
       "True"
      ]
     },
     "execution_count": 41,
     "metadata": {},
     "output_type": "execute_result"
    }
   ],
   "source": [
    "x"
   ]
  },
  {
   "cell_type": "code",
   "execution_count": 42,
   "id": "ef73c10c-d460-418e-b8cb-41444959073f",
   "metadata": {},
   "outputs": [
    {
     "data": {
      "text/plain": [
       "False"
      ]
     },
     "execution_count": 42,
     "metadata": {},
     "output_type": "execute_result"
    }
   ],
   "source": [
    "y"
   ]
  },
  {
   "cell_type": "code",
   "execution_count": 46,
   "id": "e9b9ca1e-ef57-4d02-b99f-62ce8184e5fc",
   "metadata": {},
   "outputs": [
    {
     "data": {
      "text/plain": [
       "False"
      ]
     },
     "execution_count": 46,
     "metadata": {},
     "output_type": "execute_result"
    }
   ],
   "source": [
    "False"
   ]
  },
  {
   "cell_type": "code",
   "execution_count": 47,
   "id": "414f6f44-bb03-401f-8bcf-b781e741dcfc",
   "metadata": {},
   "outputs": [
    {
     "ename": "NameError",
     "evalue": "name 'true' is not defined",
     "output_type": "error",
     "traceback": [
      "\u001b[1;31m---------------------------------------------------------------------------\u001b[0m",
      "\u001b[1;31mNameError\u001b[0m                                 Traceback (most recent call last)",
      "Cell \u001b[1;32mIn[47], line 1\u001b[0m\n\u001b[1;32m----> 1\u001b[0m true\n",
      "\u001b[1;31mNameError\u001b[0m: name 'true' is not defined"
     ]
    }
   ],
   "source": [
    "true"
   ]
  },
  {
   "cell_type": "markdown",
   "id": "65182e1b-550c-4c7d-99c6-6aaf553f9dc5",
   "metadata": {},
   "source": [
    "Sequence Data"
   ]
  },
  {
   "cell_type": "code",
   "execution_count": 49,
   "id": "ec11ded5-16ec-41bb-995c-be5c7a128fff",
   "metadata": {},
   "outputs": [],
   "source": [
    "# list represent by []\n",
    "l=[2,4,6,True,[1,2,3],\"data\",(15,10,5)]"
   ]
  },
  {
   "cell_type": "code",
   "execution_count": 50,
   "id": "c654e673-9163-4a6d-9d71-13f5b8a49d49",
   "metadata": {},
   "outputs": [
    {
     "data": {
      "text/plain": [
       "[2, 4, 6, True, [1, 2, 3], 'data', (15, 10, 5)]"
      ]
     },
     "execution_count": 50,
     "metadata": {},
     "output_type": "execute_result"
    }
   ],
   "source": [
    "l"
   ]
  },
  {
   "cell_type": "code",
   "execution_count": 52,
   "id": "37de2642-5de1-4aa2-885c-c1f56115465e",
   "metadata": {},
   "outputs": [
    {
     "data": {
      "text/plain": [
       "2"
      ]
     },
     "execution_count": 52,
     "metadata": {},
     "output_type": "execute_result"
    }
   ],
   "source": [
    "l[0] # 0 number index value"
   ]
  },
  {
   "cell_type": "code",
   "execution_count": 54,
   "id": "d9a06f6c-cba3-467b-a81f-392e20d5a4f6",
   "metadata": {},
   "outputs": [
    {
     "data": {
      "text/plain": [
       "(15, 10, 5)"
      ]
     },
     "execution_count": 54,
     "metadata": {},
     "output_type": "execute_result"
    }
   ],
   "source": [
    "l[-1] # last index value show"
   ]
  },
  {
   "cell_type": "code",
   "execution_count": 56,
   "id": "9ac62f78-ac4c-498a-a0af-7b02782e99c6",
   "metadata": {},
   "outputs": [
    {
     "data": {
      "text/plain": [
       "10"
      ]
     },
     "execution_count": 56,
     "metadata": {},
     "output_type": "execute_result"
    }
   ],
   "source": [
    "l[-1][1] # show last index second value"
   ]
  },
  {
   "cell_type": "code",
   "execution_count": 58,
   "id": "a9ff200c-5dca-4eb3-a8a5-cd38b73f5e7f",
   "metadata": {},
   "outputs": [
    {
     "data": {
      "text/plain": [
       "True"
      ]
     },
     "execution_count": 58,
     "metadata": {},
     "output_type": "execute_result"
    }
   ],
   "source": [
    "isinstance(l,list)"
   ]
  },
  {
   "cell_type": "code",
   "execution_count": 59,
   "id": "42e13fc1-718a-48bd-baa8-5eefbff9353a",
   "metadata": {},
   "outputs": [
    {
     "data": {
      "text/plain": [
       "(1, 2, 3, 'tamu')"
      ]
     },
     "execution_count": 59,
     "metadata": {},
     "output_type": "execute_result"
    }
   ],
   "source": [
    "# Tuple represent by ()\n",
    "t=(1,2,3,'tamu')\n",
    "t"
   ]
  },
  {
   "cell_type": "code",
   "execution_count": 60,
   "id": "049a951e-5c3f-43f3-89c1-57aac872c164",
   "metadata": {},
   "outputs": [
    {
     "data": {
      "text/plain": [
       "tuple"
      ]
     },
     "execution_count": 60,
     "metadata": {},
     "output_type": "execute_result"
    }
   ],
   "source": [
    "type(t)"
   ]
  },
  {
   "cell_type": "code",
   "execution_count": 64,
   "id": "b9b0d07a-f011-43c8-a549-2ce34f29b7ce",
   "metadata": {},
   "outputs": [
    {
     "data": {
      "text/plain": [
       "1"
      ]
     },
     "execution_count": 64,
     "metadata": {},
     "output_type": "execute_result"
    }
   ],
   "source": [
    "t[0] # 0 number index value show"
   ]
  },
  {
   "cell_type": "code",
   "execution_count": 65,
   "id": "f099b40d-4e1f-46c7-8c76-f34d3c4c7101",
   "metadata": {},
   "outputs": [
    {
     "data": {
      "text/plain": [
       "(1, 2)"
      ]
     },
     "execution_count": 65,
     "metadata": {},
     "output_type": "execute_result"
    }
   ],
   "source": [
    "t[0:2] # colon means to : i index 0 to index 2 value show"
   ]
  },
  {
   "cell_type": "code",
   "execution_count": 67,
   "id": "391c9415-54e5-4c2a-ad2b-30bc739fad54",
   "metadata": {},
   "outputs": [],
   "source": [
    "#Range\n",
    "x=range(10) # first case of range"
   ]
  },
  {
   "cell_type": "code",
   "execution_count": 68,
   "id": "b89d7264-1684-4919-81aa-44e1317f0be0",
   "metadata": {},
   "outputs": [
    {
     "data": {
      "text/plain": [
       "range(0, 10)"
      ]
     },
     "execution_count": 68,
     "metadata": {},
     "output_type": "execute_result"
    }
   ],
   "source": [
    "x"
   ]
  },
  {
   "cell_type": "code",
   "execution_count": 73,
   "id": "4a7f765d-d5c8-4a52-9ad8-062566eae734",
   "metadata": {},
   "outputs": [
    {
     "name": "stdout",
     "output_type": "stream",
     "text": [
      "5\n",
      "6\n",
      "7\n",
      "8\n",
      "9\n"
     ]
    }
   ],
   "source": [
    "for i in x :  # x=10 so value of i= index 0 to 10\n",
    "     print(i)"
   ]
  },
  {
   "cell_type": "code",
   "execution_count": 74,
   "id": "78007fa5-0d49-4ea8-95a2-ce334177422f",
   "metadata": {},
   "outputs": [
    {
     "name": "stdout",
     "output_type": "stream",
     "text": [
      "5\n",
      "6\n",
      "7\n",
      "8\n",
      "9\n"
     ]
    }
   ],
   "source": [
    "x=range(5,10) #second case : start value of i index 5 to 10\n",
    "for i in x :\n",
    "    print(i)"
   ]
  },
  {
   "cell_type": "code",
   "execution_count": 76,
   "id": "1954a654-258c-498d-8a09-a102e0e9c167",
   "metadata": {},
   "outputs": [
    {
     "name": "stdout",
     "output_type": "stream",
     "text": [
      "5\n",
      "8\n",
      "11\n",
      "14\n"
     ]
    }
   ],
   "source": [
    "x=range(5,15,3)# 3rd case  start from index 5 to 15 but gap between each  3 index\n",
    "for i in x :\n",
    "    print(i)"
   ]
  },
  {
   "cell_type": "code",
   "execution_count": 79,
   "id": "578d0848-ea0e-4ad8-9df5-0a9f3d38065b",
   "metadata": {},
   "outputs": [
    {
     "name": "stdout",
     "output_type": "stream",
     "text": [
      "15\n",
      "12\n",
      "9\n",
      "6\n"
     ]
    }
   ],
   "source": [
    "x=range(15,5,-3)# 4th case  reverse of 3rd case\n",
    "for i in x :\n",
    "    print(i)"
   ]
  },
  {
   "cell_type": "code",
   "execution_count": 80,
   "id": "1585024a-4b6e-40ab-844b-776e35305675",
   "metadata": {},
   "outputs": [],
   "source": [
    "# Array : store only  same type of value\n",
    "import array as ar\n"
   ]
  },
  {
   "cell_type": "code",
   "execution_count": 91,
   "id": "87045ac1-73ed-4860-be23-45091d899d06",
   "metadata": {},
   "outputs": [],
   "source": [
    "a=ar.array('i',[1,2,3,4])"
   ]
  },
  {
   "cell_type": "code",
   "execution_count": 92,
   "id": "c7aac54f-4d74-4a18-b98c-fee9436080f4",
   "metadata": {},
   "outputs": [
    {
     "data": {
      "text/plain": [
       "array.array"
      ]
     },
     "execution_count": 92,
     "metadata": {},
     "output_type": "execute_result"
    }
   ],
   "source": [
    "type(a)"
   ]
  },
  {
   "cell_type": "code",
   "execution_count": 93,
   "id": "1dbd6c11-1059-443b-a803-673fd2312bd1",
   "metadata": {},
   "outputs": [
    {
     "data": {
      "text/plain": [
       "str"
      ]
     },
     "execution_count": 93,
     "metadata": {},
     "output_type": "execute_result"
    }
   ],
   "source": [
    "#string\n",
    "x='tamanna'\n",
    "type(x)"
   ]
  },
  {
   "cell_type": "code",
   "execution_count": 96,
   "id": "80e2ab25-f790-48e3-bc3b-f7f9b7ae3bbb",
   "metadata": {},
   "outputs": [],
   "source": [
    "x = '''\n",
    "i love\n",
    "python\n",
    "'''\n"
   ]
  },
  {
   "cell_type": "code",
   "execution_count": 97,
   "id": "e13b8d3d-1702-437d-abc1-c6f54f48ecec",
   "metadata": {},
   "outputs": [
    {
     "data": {
      "text/plain": [
       "'\\ni love\\npython\\n'"
      ]
     },
     "execution_count": 97,
     "metadata": {},
     "output_type": "execute_result"
    }
   ],
   "source": [
    "x"
   ]
  },
  {
   "cell_type": "code",
   "execution_count": 98,
   "id": "0ee2e0e3-9d37-4c52-8d4e-b21d206626c7",
   "metadata": {},
   "outputs": [
    {
     "data": {
      "text/plain": [
       "str"
      ]
     },
     "execution_count": 98,
     "metadata": {},
     "output_type": "execute_result"
    }
   ],
   "source": [
    "type(x)"
   ]
  },
  {
   "cell_type": "code",
   "execution_count": 100,
   "id": "54e5d8bd-10e1-4761-b4b3-e44f517165f4",
   "metadata": {},
   "outputs": [],
   "source": [
    "# set \n",
    "s={1,2,3,4}\n"
   ]
  },
  {
   "cell_type": "code",
   "execution_count": 101,
   "id": "8a26452b-b701-432e-b155-8427450d1e42",
   "metadata": {},
   "outputs": [
    {
     "data": {
      "text/plain": [
       "set"
      ]
     },
     "execution_count": 101,
     "metadata": {},
     "output_type": "execute_result"
    }
   ],
   "source": [
    "type(s)"
   ]
  },
  {
   "cell_type": "code",
   "execution_count": 104,
   "id": "ed03a8c2-a23c-4e93-9c36-ffe6ea51ba1f",
   "metadata": {},
   "outputs": [],
   "source": [
    "# Dictonary\n",
    "dic={\n",
    "'versity ' : 'AIUB',\n",
    "    'dep' : 'cse'\n",
    "    \n",
    "}"
   ]
  },
  {
   "cell_type": "code",
   "execution_count": 105,
   "id": "20bf6004-38af-4d3b-8248-fa4806b0ff2e",
   "metadata": {},
   "outputs": [
    {
     "data": {
      "text/plain": [
       "dict"
      ]
     },
     "execution_count": 105,
     "metadata": {},
     "output_type": "execute_result"
    }
   ],
   "source": [
    "type(dic)"
   ]
  },
  {
   "cell_type": "code",
   "execution_count": 108,
   "id": "6d71c203-1bc6-4327-acf2-5b3ccb5bbfb6",
   "metadata": {},
   "outputs": [
    {
     "data": {
      "text/plain": [
       "dict_keys(['versity ', 'dep'])"
      ]
     },
     "execution_count": 108,
     "metadata": {},
     "output_type": "execute_result"
    }
   ],
   "source": [
    "dic.keys() # only key value sho"
   ]
  },
  {
   "cell_type": "code",
   "execution_count": 109,
   "id": "7d05c4e9-170d-4b01-a9f5-6c9fb84111ff",
   "metadata": {},
   "outputs": [
    {
     "data": {
      "text/plain": [
       "dict_values(['AIUB', 'cse'])"
      ]
     },
     "execution_count": 109,
     "metadata": {},
     "output_type": "execute_result"
    }
   ],
   "source": [
    "dic.values()# only values shown"
   ]
  },
  {
   "cell_type": "code",
   "execution_count": 112,
   "id": "bc1d497d-a197-4ea1-bcbb-b52d0f2d660f",
   "metadata": {},
   "outputs": [],
   "source": [
    "# data frame pandas\n",
    "import pandas as pd"
   ]
  },
  {
   "cell_type": "code",
   "execution_count": 114,
   "id": "bb42544c-3b22-4521-958a-f98e25e5a806",
   "metadata": {},
   "outputs": [],
   "source": [
    "url=\"https://raw.githubusercontent.com/jahidatamanna/Public-Datasets/main/juice.csv\"\n",
    "df=pd.read_csv(\"https://raw.githubusercontent.com/jahidatamanna/Public-Datasets/main/juice.csv\")"
   ]
  },
  {
   "cell_type": "code",
   "execution_count": 115,
   "id": "c51809c7-1f90-4aef-b9b0-8071ab70fc00",
   "metadata": {},
   "outputs": [
    {
     "data": {
      "text/html": [
       "<div>\n",
       "<style scoped>\n",
       "    .dataframe tbody tr th:only-of-type {\n",
       "        vertical-align: middle;\n",
       "    }\n",
       "\n",
       "    .dataframe tbody tr th {\n",
       "        vertical-align: top;\n",
       "    }\n",
       "\n",
       "    .dataframe thead th {\n",
       "        text-align: right;\n",
       "    }\n",
       "</style>\n",
       "<table border=\"1\" class=\"dataframe\">\n",
       "  <thead>\n",
       "    <tr style=\"text-align: right;\">\n",
       "      <th></th>\n",
       "      <th>Id</th>\n",
       "      <th>Purchase</th>\n",
       "      <th>WeekofPurchase</th>\n",
       "      <th>StoreID</th>\n",
       "      <th>PriceCH</th>\n",
       "      <th>PriceMM</th>\n",
       "      <th>DiscCH</th>\n",
       "      <th>DiscMM</th>\n",
       "      <th>SpecialCH</th>\n",
       "      <th>SpecialMM</th>\n",
       "      <th>LoyalCH</th>\n",
       "      <th>SalePriceMM</th>\n",
       "      <th>SalePriceCH</th>\n",
       "      <th>PriceDiff</th>\n",
       "      <th>Store7</th>\n",
       "      <th>PctDiscMM</th>\n",
       "      <th>PctDiscCH</th>\n",
       "      <th>ListPriceDiff</th>\n",
       "      <th>STORE</th>\n",
       "    </tr>\n",
       "  </thead>\n",
       "  <tbody>\n",
       "    <tr>\n",
       "      <th>0</th>\n",
       "      <td>1</td>\n",
       "      <td>CH</td>\n",
       "      <td>237</td>\n",
       "      <td>1</td>\n",
       "      <td>1.75</td>\n",
       "      <td>1.99</td>\n",
       "      <td>0.00</td>\n",
       "      <td>0.00</td>\n",
       "      <td>0</td>\n",
       "      <td>0</td>\n",
       "      <td>0.500000</td>\n",
       "      <td>1.99</td>\n",
       "      <td>1.75</td>\n",
       "      <td>0.24</td>\n",
       "      <td>No</td>\n",
       "      <td>0.000000</td>\n",
       "      <td>0.000000</td>\n",
       "      <td>0.24</td>\n",
       "      <td>1</td>\n",
       "    </tr>\n",
       "    <tr>\n",
       "      <th>1</th>\n",
       "      <td>2</td>\n",
       "      <td>CH</td>\n",
       "      <td>239</td>\n",
       "      <td>1</td>\n",
       "      <td>1.75</td>\n",
       "      <td>1.99</td>\n",
       "      <td>0.00</td>\n",
       "      <td>0.30</td>\n",
       "      <td>0</td>\n",
       "      <td>1</td>\n",
       "      <td>0.600000</td>\n",
       "      <td>1.69</td>\n",
       "      <td>1.75</td>\n",
       "      <td>-0.06</td>\n",
       "      <td>No</td>\n",
       "      <td>0.150754</td>\n",
       "      <td>0.000000</td>\n",
       "      <td>0.24</td>\n",
       "      <td>1</td>\n",
       "    </tr>\n",
       "    <tr>\n",
       "      <th>2</th>\n",
       "      <td>3</td>\n",
       "      <td>CH</td>\n",
       "      <td>245</td>\n",
       "      <td>1</td>\n",
       "      <td>1.86</td>\n",
       "      <td>2.09</td>\n",
       "      <td>0.17</td>\n",
       "      <td>0.00</td>\n",
       "      <td>0</td>\n",
       "      <td>0</td>\n",
       "      <td>0.680000</td>\n",
       "      <td>2.09</td>\n",
       "      <td>1.69</td>\n",
       "      <td>0.40</td>\n",
       "      <td>No</td>\n",
       "      <td>0.000000</td>\n",
       "      <td>0.091398</td>\n",
       "      <td>0.23</td>\n",
       "      <td>1</td>\n",
       "    </tr>\n",
       "    <tr>\n",
       "      <th>3</th>\n",
       "      <td>4</td>\n",
       "      <td>MM</td>\n",
       "      <td>227</td>\n",
       "      <td>1</td>\n",
       "      <td>1.69</td>\n",
       "      <td>1.69</td>\n",
       "      <td>0.00</td>\n",
       "      <td>0.00</td>\n",
       "      <td>0</td>\n",
       "      <td>0</td>\n",
       "      <td>0.400000</td>\n",
       "      <td>1.69</td>\n",
       "      <td>1.69</td>\n",
       "      <td>0.00</td>\n",
       "      <td>No</td>\n",
       "      <td>0.000000</td>\n",
       "      <td>0.000000</td>\n",
       "      <td>0.00</td>\n",
       "      <td>1</td>\n",
       "    </tr>\n",
       "    <tr>\n",
       "      <th>4</th>\n",
       "      <td>5</td>\n",
       "      <td>CH</td>\n",
       "      <td>228</td>\n",
       "      <td>7</td>\n",
       "      <td>1.69</td>\n",
       "      <td>1.69</td>\n",
       "      <td>0.00</td>\n",
       "      <td>0.00</td>\n",
       "      <td>0</td>\n",
       "      <td>0</td>\n",
       "      <td>0.956535</td>\n",
       "      <td>1.69</td>\n",
       "      <td>1.69</td>\n",
       "      <td>0.00</td>\n",
       "      <td>Yes</td>\n",
       "      <td>0.000000</td>\n",
       "      <td>0.000000</td>\n",
       "      <td>0.00</td>\n",
       "      <td>0</td>\n",
       "    </tr>\n",
       "    <tr>\n",
       "      <th>...</th>\n",
       "      <td>...</td>\n",
       "      <td>...</td>\n",
       "      <td>...</td>\n",
       "      <td>...</td>\n",
       "      <td>...</td>\n",
       "      <td>...</td>\n",
       "      <td>...</td>\n",
       "      <td>...</td>\n",
       "      <td>...</td>\n",
       "      <td>...</td>\n",
       "      <td>...</td>\n",
       "      <td>...</td>\n",
       "      <td>...</td>\n",
       "      <td>...</td>\n",
       "      <td>...</td>\n",
       "      <td>...</td>\n",
       "      <td>...</td>\n",
       "      <td>...</td>\n",
       "      <td>...</td>\n",
       "    </tr>\n",
       "    <tr>\n",
       "      <th>1065</th>\n",
       "      <td>1066</td>\n",
       "      <td>CH</td>\n",
       "      <td>252</td>\n",
       "      <td>7</td>\n",
       "      <td>1.86</td>\n",
       "      <td>2.09</td>\n",
       "      <td>0.10</td>\n",
       "      <td>0.00</td>\n",
       "      <td>0</td>\n",
       "      <td>0</td>\n",
       "      <td>0.587822</td>\n",
       "      <td>2.09</td>\n",
       "      <td>1.76</td>\n",
       "      <td>0.33</td>\n",
       "      <td>Yes</td>\n",
       "      <td>0.000000</td>\n",
       "      <td>0.053763</td>\n",
       "      <td>0.23</td>\n",
       "      <td>0</td>\n",
       "    </tr>\n",
       "    <tr>\n",
       "      <th>1066</th>\n",
       "      <td>1067</td>\n",
       "      <td>CH</td>\n",
       "      <td>256</td>\n",
       "      <td>7</td>\n",
       "      <td>1.86</td>\n",
       "      <td>2.18</td>\n",
       "      <td>0.00</td>\n",
       "      <td>0.00</td>\n",
       "      <td>0</td>\n",
       "      <td>0</td>\n",
       "      <td>0.670258</td>\n",
       "      <td>2.18</td>\n",
       "      <td>1.86</td>\n",
       "      <td>0.32</td>\n",
       "      <td>Yes</td>\n",
       "      <td>0.000000</td>\n",
       "      <td>0.000000</td>\n",
       "      <td>0.32</td>\n",
       "      <td>0</td>\n",
       "    </tr>\n",
       "    <tr>\n",
       "      <th>1067</th>\n",
       "      <td>1068</td>\n",
       "      <td>MM</td>\n",
       "      <td>257</td>\n",
       "      <td>7</td>\n",
       "      <td>1.86</td>\n",
       "      <td>2.18</td>\n",
       "      <td>0.00</td>\n",
       "      <td>0.00</td>\n",
       "      <td>0</td>\n",
       "      <td>0</td>\n",
       "      <td>0.736206</td>\n",
       "      <td>2.18</td>\n",
       "      <td>1.86</td>\n",
       "      <td>0.32</td>\n",
       "      <td>Yes</td>\n",
       "      <td>0.000000</td>\n",
       "      <td>0.000000</td>\n",
       "      <td>0.32</td>\n",
       "      <td>0</td>\n",
       "    </tr>\n",
       "    <tr>\n",
       "      <th>1068</th>\n",
       "      <td>1069</td>\n",
       "      <td>CH</td>\n",
       "      <td>261</td>\n",
       "      <td>7</td>\n",
       "      <td>1.86</td>\n",
       "      <td>2.13</td>\n",
       "      <td>0.00</td>\n",
       "      <td>0.24</td>\n",
       "      <td>0</td>\n",
       "      <td>0</td>\n",
       "      <td>0.588965</td>\n",
       "      <td>1.89</td>\n",
       "      <td>1.86</td>\n",
       "      <td>0.03</td>\n",
       "      <td>Yes</td>\n",
       "      <td>0.112676</td>\n",
       "      <td>0.000000</td>\n",
       "      <td>0.27</td>\n",
       "      <td>0</td>\n",
       "    </tr>\n",
       "    <tr>\n",
       "      <th>1069</th>\n",
       "      <td>1070</td>\n",
       "      <td>CH</td>\n",
       "      <td>270</td>\n",
       "      <td>1</td>\n",
       "      <td>1.86</td>\n",
       "      <td>2.18</td>\n",
       "      <td>0.00</td>\n",
       "      <td>0.00</td>\n",
       "      <td>0</td>\n",
       "      <td>0</td>\n",
       "      <td>0.671172</td>\n",
       "      <td>2.18</td>\n",
       "      <td>1.86</td>\n",
       "      <td>0.32</td>\n",
       "      <td>No</td>\n",
       "      <td>0.000000</td>\n",
       "      <td>0.000000</td>\n",
       "      <td>0.32</td>\n",
       "      <td>1</td>\n",
       "    </tr>\n",
       "  </tbody>\n",
       "</table>\n",
       "<p>1070 rows × 19 columns</p>\n",
       "</div>"
      ],
      "text/plain": [
       "        Id Purchase  WeekofPurchase  StoreID  PriceCH  PriceMM  DiscCH  \\\n",
       "0        1       CH             237        1     1.75     1.99    0.00   \n",
       "1        2       CH             239        1     1.75     1.99    0.00   \n",
       "2        3       CH             245        1     1.86     2.09    0.17   \n",
       "3        4       MM             227        1     1.69     1.69    0.00   \n",
       "4        5       CH             228        7     1.69     1.69    0.00   \n",
       "...    ...      ...             ...      ...      ...      ...     ...   \n",
       "1065  1066       CH             252        7     1.86     2.09    0.10   \n",
       "1066  1067       CH             256        7     1.86     2.18    0.00   \n",
       "1067  1068       MM             257        7     1.86     2.18    0.00   \n",
       "1068  1069       CH             261        7     1.86     2.13    0.00   \n",
       "1069  1070       CH             270        1     1.86     2.18    0.00   \n",
       "\n",
       "      DiscMM  SpecialCH  SpecialMM   LoyalCH  SalePriceMM  SalePriceCH  \\\n",
       "0       0.00          0          0  0.500000         1.99         1.75   \n",
       "1       0.30          0          1  0.600000         1.69         1.75   \n",
       "2       0.00          0          0  0.680000         2.09         1.69   \n",
       "3       0.00          0          0  0.400000         1.69         1.69   \n",
       "4       0.00          0          0  0.956535         1.69         1.69   \n",
       "...      ...        ...        ...       ...          ...          ...   \n",
       "1065    0.00          0          0  0.587822         2.09         1.76   \n",
       "1066    0.00          0          0  0.670258         2.18         1.86   \n",
       "1067    0.00          0          0  0.736206         2.18         1.86   \n",
       "1068    0.24          0          0  0.588965         1.89         1.86   \n",
       "1069    0.00          0          0  0.671172         2.18         1.86   \n",
       "\n",
       "      PriceDiff Store7  PctDiscMM  PctDiscCH  ListPriceDiff  STORE  \n",
       "0          0.24     No   0.000000   0.000000           0.24      1  \n",
       "1         -0.06     No   0.150754   0.000000           0.24      1  \n",
       "2          0.40     No   0.000000   0.091398           0.23      1  \n",
       "3          0.00     No   0.000000   0.000000           0.00      1  \n",
       "4          0.00    Yes   0.000000   0.000000           0.00      0  \n",
       "...         ...    ...        ...        ...            ...    ...  \n",
       "1065       0.33    Yes   0.000000   0.053763           0.23      0  \n",
       "1066       0.32    Yes   0.000000   0.000000           0.32      0  \n",
       "1067       0.32    Yes   0.000000   0.000000           0.32      0  \n",
       "1068       0.03    Yes   0.112676   0.000000           0.27      0  \n",
       "1069       0.32     No   0.000000   0.000000           0.32      1  \n",
       "\n",
       "[1070 rows x 19 columns]"
      ]
     },
     "execution_count": 115,
     "metadata": {},
     "output_type": "execute_result"
    }
   ],
   "source": [
    "df"
   ]
  },
  {
   "cell_type": "code",
   "execution_count": 116,
   "id": "43222186-4324-49ec-9b11-447899a820fb",
   "metadata": {},
   "outputs": [
    {
     "data": {
      "text/plain": [
       "(1070, 19)"
      ]
     },
     "execution_count": 116,
     "metadata": {},
     "output_type": "execute_result"
    }
   ],
   "source": [
    "df.shape"
   ]
  },
  {
   "cell_type": "code",
   "execution_count": 117,
   "id": "474a7855-4507-43a7-9aaf-e4336e94b625",
   "metadata": {},
   "outputs": [
    {
     "name": "stdout",
     "output_type": "stream",
     "text": [
      "<class 'pandas.core.frame.DataFrame'>\n",
      "RangeIndex: 1070 entries, 0 to 1069\n",
      "Data columns (total 19 columns):\n",
      " #   Column          Non-Null Count  Dtype  \n",
      "---  ------          --------------  -----  \n",
      " 0   Id              1070 non-null   int64  \n",
      " 1   Purchase        1070 non-null   object \n",
      " 2   WeekofPurchase  1070 non-null   int64  \n",
      " 3   StoreID         1070 non-null   int64  \n",
      " 4   PriceCH         1070 non-null   float64\n",
      " 5   PriceMM         1070 non-null   float64\n",
      " 6   DiscCH          1070 non-null   float64\n",
      " 7   DiscMM          1070 non-null   float64\n",
      " 8   SpecialCH       1070 non-null   int64  \n",
      " 9   SpecialMM       1070 non-null   int64  \n",
      " 10  LoyalCH         1070 non-null   float64\n",
      " 11  SalePriceMM     1070 non-null   float64\n",
      " 12  SalePriceCH     1070 non-null   float64\n",
      " 13  PriceDiff       1070 non-null   float64\n",
      " 14  Store7          1070 non-null   object \n",
      " 15  PctDiscMM       1070 non-null   float64\n",
      " 16  PctDiscCH       1070 non-null   float64\n",
      " 17  ListPriceDiff   1070 non-null   float64\n",
      " 18  STORE           1070 non-null   int64  \n",
      "dtypes: float64(11), int64(6), object(2)\n",
      "memory usage: 159.0+ KB\n"
     ]
    }
   ],
   "source": [
    "df.info()"
   ]
  },
  {
   "cell_type": "code",
   "execution_count": 118,
   "id": "140d40d2-26b7-4c60-b69a-be3d829422ad",
   "metadata": {},
   "outputs": [],
   "source": [
    "# Binary Type\n",
    "byte_arr=bytearray('abcd','utf-8')\n"
   ]
  },
  {
   "cell_type": "code",
   "execution_count": 119,
   "id": "c7d42408-2710-4706-aa84-57e281c67c29",
   "metadata": {},
   "outputs": [
    {
     "data": {
      "text/plain": [
       "bytearray"
      ]
     },
     "execution_count": 119,
     "metadata": {},
     "output_type": "execute_result"
    }
   ],
   "source": [
    "type(byte_arr)"
   ]
  },
  {
   "cell_type": "code",
   "execution_count": 120,
   "id": "8842f678-1cf0-4c5f-a4ad-03767846ba43",
   "metadata": {},
   "outputs": [
    {
     "data": {
      "text/plain": [
       "<memory at 0x000001688BDBFE80>"
      ]
     },
     "execution_count": 120,
     "metadata": {},
     "output_type": "execute_result"
    }
   ],
   "source": [
    "memoryview(byte_arr)"
   ]
  },
  {
   "cell_type": "code",
   "execution_count": 121,
   "id": "5babd54d-3382-46e0-837a-d7d4ae10d0cf",
   "metadata": {},
   "outputs": [
    {
     "data": {
      "text/plain": [
       "97"
      ]
     },
     "execution_count": 121,
     "metadata": {},
     "output_type": "execute_result"
    }
   ],
   "source": [
    "memoryview(byte_arr)[0]"
   ]
  },
  {
   "cell_type": "code",
   "execution_count": 125,
   "id": "0043b5f2-6987-419a-82b8-5ec3a955c8eb",
   "metadata": {},
   "outputs": [],
   "source": [
    "mv=memoryview(byte_arr) # ASCII value of A=65 ,so a to convert A by ASCII value\n",
    "mv[0]=65"
   ]
  },
  {
   "cell_type": "code",
   "execution_count": 126,
   "id": "19c3f341-33f9-40ff-aad5-7983e248e2ac",
   "metadata": {},
   "outputs": [
    {
     "data": {
      "text/plain": [
       "65"
      ]
     },
     "execution_count": 126,
     "metadata": {},
     "output_type": "execute_result"
    }
   ],
   "source": [
    "memoryview(byte_arr)[0]"
   ]
  },
  {
   "cell_type": "code",
   "execution_count": 128,
   "id": "cd368cf9-4dc2-4492-97bf-b0b0b8a19d56",
   "metadata": {},
   "outputs": [
    {
     "data": {
      "text/plain": [
       "bytearray(b'Abcd')"
      ]
     },
     "execution_count": 128,
     "metadata": {},
     "output_type": "execute_result"
    }
   ],
   "source": [
    "byte_arr"
   ]
  },
  {
   "cell_type": "code",
   "execution_count": null,
   "id": "0bfc551f-2fca-47a6-ae10-dd6e5c372428",
   "metadata": {},
   "outputs": [],
   "source": []
  }
 ],
 "metadata": {
  "kernelspec": {
   "display_name": "Python 3 (ipykernel)",
   "language": "python",
   "name": "python3"
  },
  "language_info": {
   "codemirror_mode": {
    "name": "ipython",
    "version": 3
   },
   "file_extension": ".py",
   "mimetype": "text/x-python",
   "name": "python",
   "nbconvert_exporter": "python",
   "pygments_lexer": "ipython3",
   "version": "3.11.7"
  }
 },
 "nbformat": 4,
 "nbformat_minor": 5
}
