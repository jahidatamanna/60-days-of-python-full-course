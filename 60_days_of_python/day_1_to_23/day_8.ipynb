{
 "cells": [
  {
   "cell_type": "code",
   "execution_count": 16,
   "id": "baed4e86-c6a1-4661-9f07-825dd86a6b08",
   "metadata": {},
   "outputs": [
    {
     "name": "stdin",
     "output_type": "stream",
     "text": [
      "enter the value of length :  3\n",
      "enter the value of breadth :  2\n"
     ]
    },
    {
     "name": "stdout",
     "output_type": "stream",
     "text": [
      "is not a square\n"
     ]
    }
   ],
   "source": [
    "# Assignment 01 _q1\n",
    "length=float(input(\"enter the value of length : \"))\n",
    "breadth=float(input(\"enter the value of breadth : \"))\n",
    "if length==breadth:\n",
    "    print(\"is a square\")\n",
    "else:\n",
    "    print(\"is not a square\")    "
   ]
  },
  {
   "cell_type": "code",
   "execution_count": 21,
   "id": "609cedb4-7619-4cad-a9af-2598096e15de",
   "metadata": {},
   "outputs": [
    {
     "name": "stdin",
     "output_type": "stream",
     "text": [
      "enter the vaue of x : 1\n",
      "enter the vaue of y : 2\n",
      "enter the vaue of z : 3\n"
     ]
    },
    {
     "name": "stdout",
     "output_type": "stream",
     "text": [
      "z is the greter than y nd x\n"
     ]
    }
   ],
   "source": [
    "# Assignment 01 _q2\n",
    "x=float(input(\"enter the vaue of x :\"))\n",
    "y=float(input(\"enter the vaue of y :\"))\n",
    "z=float(input(\"enter the vaue of z :\"))\n",
    "if (x>y) and (x>z) :\n",
    "    print(\"x is the greter than y nd z\")\n",
    "elif (y>x) and (y>z) :\n",
    "    print(\"y is the greter than x nd z\")\n",
    "else :\n",
    "    print(\"z is the greter than y nd x\")\n",
    "\n"
   ]
  },
  {
   "cell_type": "code",
   "execution_count": 27,
   "id": "b5f6c4e6-f1c6-4a1b-abf7-4a25f6a596c1",
   "metadata": {},
   "outputs": [
    {
     "name": "stdin",
     "output_type": "stream",
     "text": [
      "enter the student attendance  :  80\n"
     ]
    },
    {
     "name": "stdout",
     "output_type": "stream",
     "text": [
      "the student  will be allowed to sit in the exam \n"
     ]
    }
   ],
   "source": [
    "# Assignment 01 _q3\n",
    "stu_attendance=float(input(\"enter the student attendance  : \"))\n",
    "if  stu_attendance<75:\n",
    "    print(\"the student will not be allowed to sit in the exam \")\n",
    "else :\n",
    "    print(\"the student  will be allowed to sit in the exam \")"
   ]
  },
  {
   "cell_type": "code",
   "execution_count": 33,
   "id": "d437f510-ca4b-44f8-916a-cd2dce35a7ac",
   "metadata": {},
   "outputs": [
    {
     "name": "stdin",
     "output_type": "stream",
     "text": [
      "enter the number :  24\n"
     ]
    },
    {
     "name": "stdout",
     "output_type": "stream",
     "text": [
      "the result is : F\n"
     ]
    }
   ],
   "source": [
    " #Assignment 01 _q4\n",
    "num=float(input(\"enter the number : \"))\n",
    "if num<25:\n",
    "    print(\"the result is : F\")\n",
    "elif num>=25 and num<44:\n",
    "    print(\"the result is : E\")\n",
    "elif num>=45 and num<49:\n",
    "    print(\"the result is : D\") \n",
    "elif num>=50 and num<59:\n",
    "    print(\"the result is : C\") \n",
    "elif num>=60 and num<79:\n",
    "    print(\"the result is : B\")\n",
    "elif num>=80 and num<89:\n",
    "    print(\"the result is : A\") \n",
    "else  :\n",
    "    print(\"the result is : A+\")    \n",
    "    \n"
   ]
  },
  {
   "cell_type": "code",
   "execution_count": null,
   "id": "6234c9ca-dd6a-4a02-8d1d-67d6aa5979a9",
   "metadata": {},
   "outputs": [],
   "source": []
  }
 ],
 "metadata": {
  "kernelspec": {
   "display_name": "Python 3 (ipykernel)",
   "language": "python",
   "name": "python3"
  },
  "language_info": {
   "codemirror_mode": {
    "name": "ipython",
    "version": 3
   },
   "file_extension": ".py",
   "mimetype": "text/x-python",
   "name": "python",
   "nbconvert_exporter": "python",
   "pygments_lexer": "ipython3",
   "version": "3.11.7"
  }
 },
 "nbformat": 4,
 "nbformat_minor": 5
}
