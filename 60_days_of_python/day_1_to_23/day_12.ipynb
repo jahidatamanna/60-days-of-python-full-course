{
 "cells": [
  {
   "cell_type": "code",
   "execution_count": 22,
   "id": "18544657-1812-4438-91a8-b03a374a50f5",
   "metadata": {},
   "outputs": [],
   "source": [
    "# list \n",
    "p=[1,3,4,67,7]"
   ]
  },
  {
   "cell_type": "code",
   "execution_count": 23,
   "id": "29eeb1d1-d4b6-4a02-a6bf-7014f822dc9e",
   "metadata": {},
   "outputs": [
    {
     "data": {
      "text/plain": [
       "list"
      ]
     },
     "execution_count": 23,
     "metadata": {},
     "output_type": "execute_result"
    }
   ],
   "source": [
    "type(p)"
   ]
  },
  {
   "cell_type": "code",
   "execution_count": 24,
   "id": "b1fc0ccb-8dbe-4ed6-9b45-fe59f434ac55",
   "metadata": {},
   "outputs": [
    {
     "data": {
      "text/plain": [
       "7"
      ]
     },
     "execution_count": 24,
     "metadata": {},
     "output_type": "execute_result"
    }
   ],
   "source": [
    "p[-1]"
   ]
  },
  {
   "cell_type": "code",
   "execution_count": 25,
   "id": "c2a45bd2-0c59-453c-bc1e-048d54d096df",
   "metadata": {},
   "outputs": [
    {
     "data": {
      "text/plain": [
       "1"
      ]
     },
     "execution_count": 25,
     "metadata": {},
     "output_type": "execute_result"
    }
   ],
   "source": [
    "p[0]"
   ]
  },
  {
   "cell_type": "code",
   "execution_count": 26,
   "id": "117935e4-f9d2-4a2d-8409-daf164b9c966",
   "metadata": {},
   "outputs": [
    {
     "data": {
      "text/plain": [
       "[1, 3]"
      ]
     },
     "execution_count": 26,
     "metadata": {},
     "output_type": "execute_result"
    }
   ],
   "source": [
    "p[0:2] # first 2 value from 0 index "
   ]
  },
  {
   "cell_type": "code",
   "execution_count": 27,
   "id": "f0342018-65f5-4abf-b766-8ea4bd53e991",
   "metadata": {},
   "outputs": [
    {
     "data": {
      "text/plain": [
       "[1, 3, 4]"
      ]
     },
     "execution_count": 27,
     "metadata": {},
     "output_type": "execute_result"
    }
   ],
   "source": [
    "p[0:3] # first 3 value from 0 index "
   ]
  },
  {
   "cell_type": "code",
   "execution_count": 28,
   "id": "4300c9f6-5139-4fc2-86b4-fc971f49aa24",
   "metadata": {},
   "outputs": [],
   "source": [
    "p[0]='chng'"
   ]
  },
  {
   "cell_type": "code",
   "execution_count": 29,
   "id": "29f0606c-9144-4578-957e-7d3976644e55",
   "metadata": {},
   "outputs": [
    {
     "data": {
      "text/plain": [
       "['chng', 3, 4, 67, 7]"
      ]
     },
     "execution_count": 29,
     "metadata": {},
     "output_type": "execute_result"
    }
   ],
   "source": [
    "p"
   ]
  },
  {
   "cell_type": "code",
   "execution_count": 30,
   "id": "f7e02e13-4c8b-46d3-b48d-d7fe44771cb7",
   "metadata": {},
   "outputs": [],
   "source": [
    "p.append('add') # add a vlue"
   ]
  },
  {
   "cell_type": "code",
   "execution_count": 31,
   "id": "39f5f232-5caa-4399-b0fb-65cb2ff3cde2",
   "metadata": {},
   "outputs": [
    {
     "data": {
      "text/plain": [
       "['chng', 3, 4, 67, 7, 'add']"
      ]
     },
     "execution_count": 31,
     "metadata": {},
     "output_type": "execute_result"
    }
   ],
   "source": [
    "p"
   ]
  },
  {
   "cell_type": "code",
   "execution_count": 32,
   "id": "ce656bb5-2e52-4798-80c8-4fa4791adf46",
   "metadata": {},
   "outputs": [],
   "source": [
    "p.append('add') # same value can be added"
   ]
  },
  {
   "cell_type": "code",
   "execution_count": 33,
   "id": "58fbc9a6-012a-49b2-926e-e3000665f0d9",
   "metadata": {},
   "outputs": [
    {
     "data": {
      "text/plain": [
       "['chng', 3, 4, 67, 7, 'add', 'add']"
      ]
     },
     "execution_count": 33,
     "metadata": {},
     "output_type": "execute_result"
    }
   ],
   "source": [
    "p"
   ]
  },
  {
   "cell_type": "code",
   "execution_count": 34,
   "id": "36df2cd0-b0d4-4afd-88e5-95770d288d8b",
   "metadata": {},
   "outputs": [
    {
     "data": {
      "text/plain": [
       "152"
      ]
     },
     "execution_count": 34,
     "metadata": {},
     "output_type": "execute_result"
    }
   ],
   "source": [
    "import sys\n",
    "sys.getsizeof(p)"
   ]
  },
  {
   "cell_type": "code",
   "execution_count": 35,
   "id": "5287be5c-055f-4ea9-9c5c-6c14d7aceef7",
   "metadata": {},
   "outputs": [
    {
     "data": {
      "text/plain": [
       "'add'"
      ]
     },
     "execution_count": 35,
     "metadata": {},
     "output_type": "execute_result"
    }
   ],
   "source": [
    "p.pop() #delete last item from the ist"
   ]
  },
  {
   "cell_type": "code",
   "execution_count": 36,
   "id": "135d51e8-7aeb-4af2-8467-9769a7cac2ee",
   "metadata": {},
   "outputs": [
    {
     "data": {
      "text/plain": [
       "['chng', 3, 4, 67, 7, 'add']"
      ]
     },
     "execution_count": 36,
     "metadata": {},
     "output_type": "execute_result"
    }
   ],
   "source": [
    "p"
   ]
  },
  {
   "cell_type": "code",
   "execution_count": 37,
   "id": "ffbb3d3a-0557-40cc-910a-546c2ce46e97",
   "metadata": {},
   "outputs": [
    {
     "data": {
      "text/plain": [
       "'add'"
      ]
     },
     "execution_count": 37,
     "metadata": {},
     "output_type": "execute_result"
    }
   ],
   "source": [
    "p.pop()"
   ]
  },
  {
   "cell_type": "code",
   "execution_count": 38,
   "id": "cdc507a5-bcec-4f63-8dfe-de9a7cf99e58",
   "metadata": {},
   "outputs": [
    {
     "data": {
      "text/plain": [
       "['chng', 3, 4, 67, 7]"
      ]
     },
     "execution_count": 38,
     "metadata": {},
     "output_type": "execute_result"
    }
   ],
   "source": [
    "p"
   ]
  },
  {
   "cell_type": "code",
   "execution_count": 39,
   "id": "e997b503-2ef1-4e2d-92e6-ec0633b29629",
   "metadata": {},
   "outputs": [
    {
     "data": {
      "text/plain": [
       "'chng'"
      ]
     },
     "execution_count": 39,
     "metadata": {},
     "output_type": "execute_result"
    }
   ],
   "source": [
    "p.pop(0) # delete selected index value"
   ]
  },
  {
   "cell_type": "code",
   "execution_count": 40,
   "id": "da71087a-ee06-4c90-9404-dd346259f316",
   "metadata": {},
   "outputs": [
    {
     "data": {
      "text/plain": [
       "[3, 4, 67, 7]"
      ]
     },
     "execution_count": 40,
     "metadata": {},
     "output_type": "execute_result"
    }
   ],
   "source": [
    "p"
   ]
  },
  {
   "cell_type": "code",
   "execution_count": 41,
   "id": "67f58996-9df7-4738-b959-ff588667c5c7",
   "metadata": {},
   "outputs": [],
   "source": [
    "#creatinglis usung constractor\n",
    "l2=list(('a',12,34,(1,2,3)))"
   ]
  },
  {
   "cell_type": "code",
   "execution_count": 42,
   "id": "9baaeb75-ada2-446f-859a-1d75d1a54112",
   "metadata": {},
   "outputs": [
    {
     "data": {
      "text/plain": [
       "list"
      ]
     },
     "execution_count": 42,
     "metadata": {},
     "output_type": "execute_result"
    }
   ],
   "source": [
    "type(l2)"
   ]
  },
  {
   "cell_type": "code",
   "execution_count": 43,
   "id": "40ad04d3-371c-443c-b5f3-6b404a93f764",
   "metadata": {},
   "outputs": [
    {
     "data": {
      "text/plain": [
       "34"
      ]
     },
     "execution_count": 43,
     "metadata": {},
     "output_type": "execute_result"
    }
   ],
   "source": [
    "l2[2]"
   ]
  },
  {
   "cell_type": "code",
   "execution_count": 44,
   "id": "c2e2d65b-b911-4513-a060-b28f37ec8de6",
   "metadata": {},
   "outputs": [
    {
     "data": {
      "text/plain": [
       "1"
      ]
     },
     "execution_count": 44,
     "metadata": {},
     "output_type": "execute_result"
    }
   ],
   "source": [
    "l2[3][0]"
   ]
  },
  {
   "cell_type": "code",
   "execution_count": 48,
   "id": "4b8f15c8-d7ca-4dcb-a3c0-d96ad28b7fbe",
   "metadata": {},
   "outputs": [
    {
     "name": "stdin",
     "output_type": "stream",
     "text": [
      "Enter index number :  2\n",
      " 2\n"
     ]
    },
    {
     "name": "stdout",
     "output_type": "stream",
     "text": [
      "['2']\n"
     ]
    },
    {
     "name": "stdin",
     "output_type": "stream",
     "text": [
      " 2\n"
     ]
    },
    {
     "name": "stdout",
     "output_type": "stream",
     "text": [
      "['2', '2']\n"
     ]
    }
   ],
   "source": [
    "# input list from users\n",
    "l3=[]\n",
    "n=int(input(\"Enter index number : \"))\n",
    "for x in range(n):\n",
    "    new=input()\n",
    "    l3.append(new)\n",
    "    print(l3)"
   ]
  },
  {
   "cell_type": "code",
   "execution_count": 21,
   "id": "5d4a416a-16d8-4b4b-b366-f20d2a0e6ca4",
   "metadata": {},
   "outputs": [
    {
     "name": "stdin",
     "output_type": "stream",
     "text": [
      "Enter index number :  3\n",
      " 2\n",
      " 1\n",
      " 5\n"
     ]
    },
    {
     "name": "stdout",
     "output_type": "stream",
     "text": [
      "['2', '1', '5']\n"
     ]
    }
   ],
   "source": [
    "# input list from users\n",
    "l3=[]\n",
    "n=int(input(\"Enter index number : \"))\n",
    "for x in range(n):\n",
    "    new=input()\n",
    "    l3.append(new)\n",
    "print(l3)"
   ]
  },
  {
   "cell_type": "code",
   "execution_count": null,
   "id": "51309878-66d8-4dc3-86b3-003b36d4eb82",
   "metadata": {},
   "outputs": [],
   "source": []
  }
 ],
 "metadata": {
  "kernelspec": {
   "display_name": "Python 3 (ipykernel)",
   "language": "python",
   "name": "python3"
  },
  "language_info": {
   "codemirror_mode": {
    "name": "ipython",
    "version": 3
   },
   "file_extension": ".py",
   "mimetype": "text/x-python",
   "name": "python",
   "nbconvert_exporter": "python",
   "pygments_lexer": "ipython3",
   "version": "3.11.7"
  }
 },
 "nbformat": 4,
 "nbformat_minor": 5
}
