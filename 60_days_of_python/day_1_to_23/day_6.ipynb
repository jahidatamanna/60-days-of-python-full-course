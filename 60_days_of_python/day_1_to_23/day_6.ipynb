{
 "cells": [
  {
   "cell_type": "code",
   "execution_count": 1,
   "id": "ba2bf588-8303-4b2c-b1ad-07668f13650a",
   "metadata": {},
   "outputs": [],
   "source": [
    "# assigning  the variable\n",
    "x=15\n",
    "y=4\n",
    "z=3"
   ]
  },
  {
   "cell_type": "code",
   "execution_count": 2,
   "id": "34d7f9dd-15c8-4def-9f90-07702d6d4ba1",
   "metadata": {},
   "outputs": [
    {
     "data": {
      "text/plain": [
       "19"
      ]
     },
     "execution_count": 2,
     "metadata": {},
     "output_type": "execute_result"
    }
   ],
   "source": [
    "x+y"
   ]
  },
  {
   "cell_type": "code",
   "execution_count": 4,
   "id": "cf499293-e81c-44ba-89b1-6f108f9a1c62",
   "metadata": {},
   "outputs": [
    {
     "data": {
      "text/plain": [
       "11"
      ]
     },
     "execution_count": 4,
     "metadata": {},
     "output_type": "execute_result"
    }
   ],
   "source": [
    "x-y"
   ]
  },
  {
   "cell_type": "code",
   "execution_count": 5,
   "id": "eb6e246b-e313-4eef-ba1a-902c67a2243f",
   "metadata": {},
   "outputs": [
    {
     "data": {
      "text/plain": [
       "60"
      ]
     },
     "execution_count": 5,
     "metadata": {},
     "output_type": "execute_result"
    }
   ],
   "source": [
    "x*y"
   ]
  },
  {
   "cell_type": "code",
   "execution_count": 6,
   "id": "f1f7a6d2-8d8b-48a4-89c2-1d17c7ddfc74",
   "metadata": {},
   "outputs": [
    {
     "data": {
      "text/plain": [
       "3.75"
      ]
     },
     "execution_count": 6,
     "metadata": {},
     "output_type": "execute_result"
    }
   ],
   "source": [
    "x/y"
   ]
  },
  {
   "cell_type": "code",
   "execution_count": 7,
   "id": "9734f105-bfcf-4f58-870e-f838dbca5abc",
   "metadata": {},
   "outputs": [
    {
     "data": {
      "text/plain": [
       "4"
      ]
     },
     "execution_count": 7,
     "metadata": {},
     "output_type": "execute_result"
    }
   ],
   "source": [
    "2*2"
   ]
  },
  {
   "cell_type": "code",
   "execution_count": 8,
   "id": "efad825c-ca86-4cc1-a3d1-3f5641d8c516",
   "metadata": {},
   "outputs": [
    {
     "data": {
      "text/plain": [
       "4"
      ]
     },
     "execution_count": 8,
     "metadata": {},
     "output_type": "execute_result"
    }
   ],
   "source": [
    "2**2"
   ]
  },
  {
   "cell_type": "code",
   "execution_count": 9,
   "id": "12646f38-6ed8-43ef-b84f-32d8a01955e6",
   "metadata": {},
   "outputs": [
    {
     "data": {
      "text/plain": [
       "50625"
      ]
     },
     "execution_count": 9,
     "metadata": {},
     "output_type": "execute_result"
    }
   ],
   "source": [
    "15*15*15*15"
   ]
  },
  {
   "cell_type": "code",
   "execution_count": 12,
   "id": "428641cb-4152-4e70-b573-caf436ca1841",
   "metadata": {},
   "outputs": [
    {
     "data": {
      "text/plain": [
       "50625"
      ]
     },
     "execution_count": 12,
     "metadata": {},
     "output_type": "execute_result"
    }
   ],
   "source": [
    "x**y # y=4 x=15 so 15 multiply by 15 ,4 tyms"
   ]
  },
  {
   "cell_type": "code",
   "execution_count": 15,
   "id": "0d14ac33-4148-4256-80ba-c0cfb537fdb5",
   "metadata": {},
   "outputs": [
    {
     "data": {
      "text/plain": [
       "3"
      ]
     },
     "execution_count": 15,
     "metadata": {},
     "output_type": "execute_result"
    }
   ],
   "source": [
    "x//y #floor value  "
   ]
  },
  {
   "cell_type": "code",
   "execution_count": 16,
   "id": "79bffc53-3214-42c5-be50-858c233ad6c9",
   "metadata": {},
   "outputs": [
    {
     "data": {
      "text/plain": [
       "3.75"
      ]
     },
     "execution_count": 16,
     "metadata": {},
     "output_type": "execute_result"
    }
   ],
   "source": [
    "x/y"
   ]
  },
  {
   "cell_type": "code",
   "execution_count": 20,
   "id": "e79b61b4-27b0-4186-ab43-abc5b7471eb4",
   "metadata": {},
   "outputs": [
    {
     "data": {
      "text/plain": [
       "3"
      ]
     },
     "execution_count": 20,
     "metadata": {},
     "output_type": "execute_result"
    }
   ],
   "source": [
    "import math\n",
    "math.floor(x/y) # value flooring"
   ]
  },
  {
   "cell_type": "code",
   "execution_count": 21,
   "id": "e8b05af8-aad1-4871-bae3-10aaa997e1ad",
   "metadata": {},
   "outputs": [
    {
     "data": {
      "text/plain": [
       "4"
      ]
     },
     "execution_count": 21,
     "metadata": {},
     "output_type": "execute_result"
    }
   ],
   "source": [
    "math.ceil(x/y) # value celling"
   ]
  },
  {
   "cell_type": "code",
   "execution_count": 22,
   "id": "fa53580b-7a33-4ddb-ba47-9fa80352c9bf",
   "metadata": {},
   "outputs": [],
   "source": [
    "# python Identity operator\n",
    "x=10\n",
    "y=10"
   ]
  },
  {
   "cell_type": "code",
   "execution_count": 23,
   "id": "b67f5847-715b-42a5-9d56-8bf91bb411eb",
   "metadata": {},
   "outputs": [
    {
     "data": {
      "text/plain": [
       "True"
      ]
     },
     "execution_count": 23,
     "metadata": {},
     "output_type": "execute_result"
    }
   ],
   "source": [
    "x is y"
   ]
  },
  {
   "cell_type": "code",
   "execution_count": 24,
   "id": "1b94e7e5-58b1-4c29-bb3a-ab8a5d5425cb",
   "metadata": {},
   "outputs": [
    {
     "data": {
      "text/plain": [
       "True"
      ]
     },
     "execution_count": 24,
     "metadata": {},
     "output_type": "execute_result"
    }
   ],
   "source": [
    "x==y"
   ]
  },
  {
   "cell_type": "code",
   "execution_count": 25,
   "id": "8418c97a-4e87-409d-bc88-5230b383fc2c",
   "metadata": {},
   "outputs": [],
   "source": [
    "x=112233\n",
    "y=112233"
   ]
  },
  {
   "cell_type": "code",
   "execution_count": 26,
   "id": "46966e5a-a256-4ed4-a123-37397150513b",
   "metadata": {},
   "outputs": [
    {
     "data": {
      "text/plain": [
       "True"
      ]
     },
     "execution_count": 26,
     "metadata": {},
     "output_type": "execute_result"
    }
   ],
   "source": [
    "x==y"
   ]
  },
  {
   "cell_type": "code",
   "execution_count": 28,
   "id": "20da3179-9b26-41b8-a7f6-272ecc96d319",
   "metadata": {},
   "outputs": [],
   "source": [
    "x=100017\n",
    "y=x\n",
    "z=100017"
   ]
  },
  {
   "cell_type": "code",
   "execution_count": 37,
   "id": "a72d941c-b660-46e7-ac6c-619f10d4731f",
   "metadata": {},
   "outputs": [
    {
     "data": {
      "text/plain": [
       "True"
      ]
     },
     "execution_count": 37,
     "metadata": {},
     "output_type": "execute_result"
    }
   ],
   "source": [
    "x==y # value are same thats why true"
   ]
  },
  {
   "cell_type": "code",
   "execution_count": 39,
   "id": "115c6bee-adaf-48ab-acd9-9c60c2ecb615",
   "metadata": {},
   "outputs": [
    {
     "data": {
      "text/plain": [
       "True"
      ]
     },
     "execution_count": 39,
     "metadata": {},
     "output_type": "execute_result"
    }
   ],
   "source": [
    "x is y # same value samememory address and one tyme store"
   ]
  },
  {
   "cell_type": "code",
   "execution_count": 40,
   "id": "ef498a9f-ab12-4075-8ab8-730db275c88d",
   "metadata": {},
   "outputs": [
    {
     "data": {
      "text/plain": [
       "False"
      ]
     },
     "execution_count": 40,
     "metadata": {},
     "output_type": "execute_result"
    }
   ],
   "source": [
    "x is z # value same bt 2 tyms store and digit more thn 3 04,so there memory store address are diffrent thats why false"
   ]
  },
  {
   "cell_type": "code",
   "execution_count": 32,
   "id": "2a9307a1-4a1d-459b-aa0d-e58b2fb44921",
   "metadata": {},
   "outputs": [
    {
     "data": {
      "text/plain": [
       "False"
      ]
     },
     "execution_count": 32,
     "metadata": {},
     "output_type": "execute_result"
    }
   ],
   "source": [
    "y is z # # value same bt 2 tyms store and digit more thn 3 04,so there memory store address are diffrent thats why false"
   ]
  },
  {
   "cell_type": "code",
   "execution_count": 41,
   "id": "68bad8b3-073d-4b1a-9633-469513e2de1e",
   "metadata": {},
   "outputs": [
    {
     "data": {
      "text/plain": [
       "1167120010416"
      ]
     },
     "execution_count": 41,
     "metadata": {},
     "output_type": "execute_result"
    }
   ],
   "source": [
    "id(x) # memory  address of x"
   ]
  },
  {
   "cell_type": "code",
   "execution_count": 34,
   "id": "30619b9c-154b-4e91-b674-36827dc58a39",
   "metadata": {},
   "outputs": [
    {
     "data": {
      "text/plain": [
       "1167120010416"
      ]
     },
     "execution_count": 34,
     "metadata": {},
     "output_type": "execute_result"
    }
   ],
   "source": [
    "id(y) # memory  address of y"
   ]
  },
  {
   "cell_type": "code",
   "execution_count": 35,
   "id": "f540af7b-870c-4e48-855a-17bc7a0e98fa",
   "metadata": {},
   "outputs": [
    {
     "data": {
      "text/plain": [
       "1167120010000"
      ]
     },
     "execution_count": 35,
     "metadata": {},
     "output_type": "execute_result"
    }
   ],
   "source": [
    "id(z) # memory  address of z"
   ]
  },
  {
   "cell_type": "code",
   "execution_count": 42,
   "id": "d945743c-4815-4863-8c42-9f621e81a4c3",
   "metadata": {},
   "outputs": [
    {
     "data": {
      "text/plain": [
       "True"
      ]
     },
     "execution_count": 42,
     "metadata": {},
     "output_type": "execute_result"
    }
   ],
   "source": [
    "x==z # true bcz value are same "
   ]
  },
  {
   "cell_type": "code",
   "execution_count": 44,
   "id": "6e33e6ac-9535-47cf-a29a-9a6dabbbe4c5",
   "metadata": {},
   "outputs": [
    {
     "data": {
      "text/plain": [
       "True"
      ]
     },
     "execution_count": 44,
     "metadata": {},
     "output_type": "execute_result"
    }
   ],
   "source": [
    "x is not z # value same but memory adress diffrent thats why true condition"
   ]
  },
  {
   "cell_type": "code",
   "execution_count": 46,
   "id": "81cc36c6-e360-4fb2-8546-5c66e844dc93",
   "metadata": {},
   "outputs": [
    {
     "data": {
      "text/plain": [
       "True"
      ]
     },
     "execution_count": 46,
     "metadata": {},
     "output_type": "execute_result"
    }
   ],
   "source": [
    "# Membership Operator\n",
    "list1= [1,2,3,4,5]\n",
    "1 in list1 # in operator check value from the list ,if find the value thn true "
   ]
  },
  {
   "cell_type": "code",
   "execution_count": 47,
   "id": "04ed6bf3-dcb0-4db8-85a8-9267b14945b3",
   "metadata": {},
   "outputs": [
    {
     "data": {
      "text/plain": [
       "False"
      ]
     },
     "execution_count": 47,
     "metadata": {},
     "output_type": "execute_result"
    }
   ],
   "source": [
    "10 in list1"
   ]
  },
  {
   "cell_type": "code",
   "execution_count": 49,
   "id": "8596e3b3-a998-435d-bce4-5c494c637d58",
   "metadata": {},
   "outputs": [
    {
     "data": {
      "text/plain": [
       "True"
      ]
     },
     "execution_count": 49,
     "metadata": {},
     "output_type": "execute_result"
    }
   ],
   "source": [
    "10 not in list1 # in operator check value from the list ,if  value is not find thn true "
   ]
  },
  {
   "cell_type": "code",
   "execution_count": 50,
   "id": "340653d0-eddf-411c-86f8-326e413f7495",
   "metadata": {},
   "outputs": [
    {
     "data": {
      "text/plain": [
       "True"
      ]
     },
     "execution_count": 50,
     "metadata": {},
     "output_type": "execute_result"
    }
   ],
   "source": [
    "s1={1,3,5,7}\n",
    "5 in s1"
   ]
  },
  {
   "cell_type": "code",
   "execution_count": 52,
   "id": "a3993019-437e-4835-b29d-3063299aa6c5",
   "metadata": {},
   "outputs": [
    {
     "data": {
      "text/plain": [
       "True"
      ]
     },
     "execution_count": 52,
     "metadata": {},
     "output_type": "execute_result"
    }
   ],
   "source": [
    "st1=\"learn python \"\n",
    "\"python\" in st1"
   ]
  },
  {
   "cell_type": "code",
   "execution_count": null,
   "id": "d5606b31-f4de-4818-b469-1124c2e385dd",
   "metadata": {},
   "outputs": [],
   "source": [
    "# python Bitwise Operator\n",
    "\n",
    "x=1010 #10 binar=1010\n",
    "y=0101 # 5 binary=0101\n",
    "x | y = 1111 or\n",
    "x & y = 0000  AND"
   ]
  },
  {
   "cell_type": "code",
   "execution_count": 58,
   "id": "cd21dd2e-1947-4970-8827-a360c11b8657",
   "metadata": {},
   "outputs": [
    {
     "data": {
      "text/plain": [
       "15"
      ]
     },
     "execution_count": 58,
     "metadata": {},
     "output_type": "execute_result"
    }
   ],
   "source": [
    "x=10\n",
    "y=5\n",
    "x|y"
   ]
  },
  {
   "cell_type": "code",
   "execution_count": 59,
   "id": "90a7ef71-9e18-452d-8cc4-aaf51e5815a3",
   "metadata": {},
   "outputs": [
    {
     "data": {
      "text/plain": [
       "0"
      ]
     },
     "execution_count": 59,
     "metadata": {},
     "output_type": "execute_result"
    }
   ],
   "source": [
    "x&y"
   ]
  },
  {
   "cell_type": "code",
   "execution_count": 60,
   "id": "683d9f68-8cea-4813-b05e-e8ca7116af03",
   "metadata": {},
   "outputs": [
    {
     "data": {
      "text/plain": [
       "15"
      ]
     },
     "execution_count": 60,
     "metadata": {},
     "output_type": "execute_result"
    }
   ],
   "source": [
    "x^y"
   ]
  },
  {
   "cell_type": "code",
   "execution_count": 61,
   "id": "07638c32-e7f2-4920-8973-ca35ad919627",
   "metadata": {},
   "outputs": [
    {
     "data": {
      "text/plain": [
       "320"
      ]
     },
     "execution_count": 61,
     "metadata": {},
     "output_type": "execute_result"
    }
   ],
   "source": [
    "x<<y"
   ]
  },
  {
   "cell_type": "code",
   "execution_count": 62,
   "id": "13910f1f-19f3-4283-aa1e-ecb77a409a37",
   "metadata": {},
   "outputs": [
    {
     "data": {
      "text/plain": [
       "0"
      ]
     },
     "execution_count": 62,
     "metadata": {},
     "output_type": "execute_result"
    }
   ],
   "source": [
    "x>>y"
   ]
  },
  {
   "cell_type": "code",
   "execution_count": 63,
   "id": "6d692732-8d1a-42d2-8a6a-d7e5b63c515b",
   "metadata": {},
   "outputs": [
    {
     "data": {
      "text/plain": [
       "True"
      ]
     },
     "execution_count": 63,
     "metadata": {},
     "output_type": "execute_result"
    }
   ],
   "source": [
    "10==10"
   ]
  },
  {
   "cell_type": "code",
   "execution_count": 64,
   "id": "560b26e6-9bf4-47b1-91f7-615eebac4d06",
   "metadata": {},
   "outputs": [
    {
     "data": {
      "text/plain": [
       "False"
      ]
     },
     "execution_count": 64,
     "metadata": {},
     "output_type": "execute_result"
    }
   ],
   "source": [
    "10>10"
   ]
  },
  {
   "cell_type": "code",
   "execution_count": 65,
   "id": "cbc4312c-7b4b-439f-a803-47f32580a24f",
   "metadata": {},
   "outputs": [
    {
     "data": {
      "text/plain": [
       "True"
      ]
     },
     "execution_count": 65,
     "metadata": {},
     "output_type": "execute_result"
    }
   ],
   "source": [
    "10>=10"
   ]
  },
  {
   "cell_type": "code",
   "execution_count": 66,
   "id": "de51e1bc-c7d7-4805-8150-a7fd28ed220e",
   "metadata": {},
   "outputs": [
    {
     "data": {
      "text/plain": [
       "False"
      ]
     },
     "execution_count": 66,
     "metadata": {},
     "output_type": "execute_result"
    }
   ],
   "source": [
    "10>4 and 10<3"
   ]
  },
  {
   "cell_type": "code",
   "execution_count": 67,
   "id": "0c1dce2c-cb9a-456e-86fb-7ee7ef1b45a9",
   "metadata": {},
   "outputs": [
    {
     "data": {
      "text/plain": [
       "True"
      ]
     },
     "execution_count": 67,
     "metadata": {},
     "output_type": "execute_result"
    }
   ],
   "source": [
    "10>4 or 10<3"
   ]
  },
  {
   "cell_type": "code",
   "execution_count": 68,
   "id": "7515351a-8ac3-4210-84d4-5ea618f480bd",
   "metadata": {},
   "outputs": [
    {
     "data": {
      "text/plain": [
       "True"
      ]
     },
     "execution_count": 68,
     "metadata": {},
     "output_type": "execute_result"
    }
   ],
   "source": [
    "not(10>4 and 10<3)"
   ]
  },
  {
   "cell_type": "code",
   "execution_count": 69,
   "id": "3d5378fe-3c0a-4dcc-abe9-2932ce4672af",
   "metadata": {},
   "outputs": [],
   "source": [
    "x=10\n",
    "x+=4"
   ]
  },
  {
   "cell_type": "code",
   "execution_count": 70,
   "id": "9fb2d1f4-750d-48d4-800f-385bcec2624f",
   "metadata": {},
   "outputs": [
    {
     "data": {
      "text/plain": [
       "14"
      ]
     },
     "execution_count": 70,
     "metadata": {},
     "output_type": "execute_result"
    }
   ],
   "source": [
    "x"
   ]
  },
  {
   "cell_type": "code",
   "execution_count": 71,
   "id": "b6a4241c-5d26-4057-a96a-6a3a0811884f",
   "metadata": {},
   "outputs": [],
   "source": [
    "x=x+4"
   ]
  },
  {
   "cell_type": "code",
   "execution_count": 72,
   "id": "bbf8ffba-62ad-40a7-9180-e83bfd7ea66b",
   "metadata": {},
   "outputs": [
    {
     "data": {
      "text/plain": [
       "18"
      ]
     },
     "execution_count": 72,
     "metadata": {},
     "output_type": "execute_result"
    }
   ],
   "source": [
    "x"
   ]
  }
 ],
 "metadata": {
  "kernelspec": {
   "display_name": "Python 3 (ipykernel)",
   "language": "python",
   "name": "python3"
  },
  "language_info": {
   "codemirror_mode": {
    "name": "ipython",
    "version": 3
   },
   "file_extension": ".py",
   "mimetype": "text/x-python",
   "name": "python",
   "nbconvert_exporter": "python",
   "pygments_lexer": "ipython3",
   "version": "3.11.7"
  }
 },
 "nbformat": 4,
 "nbformat_minor": 5
}
