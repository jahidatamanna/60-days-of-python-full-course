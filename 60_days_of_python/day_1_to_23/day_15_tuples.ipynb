{
 "cells": [
  {
   "cell_type": "markdown",
   "id": "c357fb4a-d8c3-4dc5-8cfc-825cde37521f",
   "metadata": {},
   "source": [
    "Tuples"
   ]
  },
  {
   "cell_type": "code",
   "execution_count": 8,
   "id": "ff1a69db-5568-409a-bdde-bfbe3a37314a",
   "metadata": {},
   "outputs": [],
   "source": [
    "tupl = ()"
   ]
  },
  {
   "cell_type": "code",
   "execution_count": 9,
   "id": "4071124b-7fc0-497d-bf21-bd9515cb852f",
   "metadata": {},
   "outputs": [
    {
     "data": {
      "text/plain": [
       "tuple"
      ]
     },
     "execution_count": 9,
     "metadata": {},
     "output_type": "execute_result"
    }
   ],
   "source": [
    "type(tupl)"
   ]
  },
  {
   "cell_type": "code",
   "execution_count": 10,
   "id": "6ead975e-ff40-416e-a0e9-d988e3c2718b",
   "metadata": {},
   "outputs": [
    {
     "data": {
      "text/plain": [
       "('Python', 'ds', 12, 23, 45, [1, 2, 3, 5], True)"
      ]
     },
     "execution_count": 10,
     "metadata": {},
     "output_type": "execute_result"
    }
   ],
   "source": [
    "tupl=('Python','ds',12,23,45,[1,2,3,5],True)\n",
    "tupl"
   ]
  },
  {
   "cell_type": "code",
   "execution_count": 11,
   "id": "fe4c9309-4b72-45be-a7bc-187a14ac83e5",
   "metadata": {},
   "outputs": [
    {
     "data": {
      "text/plain": [
       "'ds'"
      ]
     },
     "execution_count": 11,
     "metadata": {},
     "output_type": "execute_result"
    }
   ],
   "source": [
    "tupl[1]"
   ]
  },
  {
   "cell_type": "code",
   "execution_count": 12,
   "id": "92e5d468-5cf8-427c-b3e7-54afcbac7054",
   "metadata": {},
   "outputs": [
    {
     "data": {
      "text/plain": [
       "True"
      ]
     },
     "execution_count": 12,
     "metadata": {},
     "output_type": "execute_result"
    }
   ],
   "source": [
    "tupl[-1]"
   ]
  },
  {
   "cell_type": "code",
   "execution_count": 15,
   "id": "faf9687a-00a8-43b5-844e-27ff5643f97b",
   "metadata": {},
   "outputs": [
    {
     "data": {
      "text/plain": [
       "(12, 23, 45, [1, 2, 3, 5])"
      ]
     },
     "execution_count": 15,
     "metadata": {},
     "output_type": "execute_result"
    }
   ],
   "source": [
    "tupl[2:6]"
   ]
  },
  {
   "cell_type": "code",
   "execution_count": 16,
   "id": "db172ba3-0b54-4235-a5c3-bfdb0aa4d91c",
   "metadata": {},
   "outputs": [],
   "source": [
    "tup2=['tamanna']"
   ]
  },
  {
   "cell_type": "code",
   "execution_count": 17,
   "id": "a0f77ca9-1552-4125-90b8-c33c3107eaa4",
   "metadata": {},
   "outputs": [
    {
     "data": {
      "text/plain": [
       "list"
      ]
     },
     "execution_count": 17,
     "metadata": {},
     "output_type": "execute_result"
    }
   ],
   "source": [
    "type(tup2)"
   ]
  },
  {
   "cell_type": "code",
   "execution_count": 22,
   "id": "754953fb-86d6-4fb6-b3d0-f29e6a91c3b3",
   "metadata": {},
   "outputs": [],
   "source": [
    "tupl=(\"jahida\")# without \",\" this is consider as a string but when we usse \",\" this symbol after this(\"\")th it will be tuple"
   ]
  },
  {
   "cell_type": "code",
   "execution_count": 23,
   "id": "88c8b647-df6e-4264-bac5-930e219c7c77",
   "metadata": {},
   "outputs": [
    {
     "data": {
      "text/plain": [
       "str"
      ]
     },
     "execution_count": 23,
     "metadata": {},
     "output_type": "execute_result"
    }
   ],
   "source": [
    "type(tupl)"
   ]
  },
  {
   "cell_type": "code",
   "execution_count": 24,
   "id": "a03573ef-261e-408b-842f-443364085b9d",
   "metadata": {},
   "outputs": [],
   "source": [
    "tupl=(\"jahida\",)"
   ]
  },
  {
   "cell_type": "code",
   "execution_count": 25,
   "id": "392f1ce4-6d2d-406e-8f63-eb504a237b28",
   "metadata": {},
   "outputs": [
    {
     "data": {
      "text/plain": [
       "tuple"
      ]
     },
     "execution_count": 25,
     "metadata": {},
     "output_type": "execute_result"
    }
   ],
   "source": [
    "type(tupl)"
   ]
  },
  {
   "cell_type": "code",
   "execution_count": 26,
   "id": "ae737240-4d4b-468d-ad66-c018298b6803",
   "metadata": {},
   "outputs": [],
   "source": [
    "# list to tuple convert\n",
    "l=list(tup2)"
   ]
  },
  {
   "cell_type": "code",
   "execution_count": 27,
   "id": "e0c8f499-be7c-4f7a-b918-79b321c302af",
   "metadata": {},
   "outputs": [
    {
     "data": {
      "text/plain": [
       "['tamanna']"
      ]
     },
     "execution_count": 27,
     "metadata": {},
     "output_type": "execute_result"
    }
   ],
   "source": [
    "l"
   ]
  },
  {
   "cell_type": "code",
   "execution_count": 30,
   "id": "c57612f3-b925-4416-a90d-b5a7a48bd581",
   "metadata": {},
   "outputs": [
    {
     "data": {
      "text/plain": [
       "list"
      ]
     },
     "execution_count": 30,
     "metadata": {},
     "output_type": "execute_result"
    }
   ],
   "source": [
    "type(l)"
   ]
  },
  {
   "cell_type": "code",
   "execution_count": 28,
   "id": "e811afb4-41d9-4f98-9da3-691bb31c7c9e",
   "metadata": {},
   "outputs": [],
   "source": [
    "l.append(\"jahida\")"
   ]
  },
  {
   "cell_type": "code",
   "execution_count": 29,
   "id": "52117c97-79a7-4682-ab31-e751f54442f5",
   "metadata": {},
   "outputs": [
    {
     "data": {
      "text/plain": [
       "['tamanna', 'jahida']"
      ]
     },
     "execution_count": 29,
     "metadata": {},
     "output_type": "execute_result"
    }
   ],
   "source": [
    "l"
   ]
  },
  {
   "cell_type": "code",
   "execution_count": 31,
   "id": "92dcca7d-62e8-4c1a-bc8b-f057d7e947d3",
   "metadata": {},
   "outputs": [],
   "source": [
    "# tuple to list convert\n",
    "tup2=tuple(l)"
   ]
  },
  {
   "cell_type": "code",
   "execution_count": 32,
   "id": "691a47eb-1ec5-4d90-b968-ecc705429696",
   "metadata": {},
   "outputs": [
    {
     "data": {
      "text/plain": [
       "tuple"
      ]
     },
     "execution_count": 32,
     "metadata": {},
     "output_type": "execute_result"
    }
   ],
   "source": [
    "type(tup2)"
   ]
  },
  {
   "cell_type": "code",
   "execution_count": 33,
   "id": "1bccd1a8-ad91-417d-8fb9-5c1715a7342b",
   "metadata": {},
   "outputs": [
    {
     "data": {
      "text/plain": [
       "('tamanna', 'jahida')"
      ]
     },
     "execution_count": 33,
     "metadata": {},
     "output_type": "execute_result"
    }
   ],
   "source": [
    "tup2"
   ]
  },
  {
   "cell_type": "code",
   "execution_count": 34,
   "id": "be292965-4a38-48d8-a77f-12471cc99f79",
   "metadata": {},
   "outputs": [
    {
     "data": {
      "text/plain": [
       "('Python', 'ds', 12, 23, 45, [1, 2, 3, 5], True)"
      ]
     },
     "execution_count": 34,
     "metadata": {},
     "output_type": "execute_result"
    }
   ],
   "source": [
    "tupl=('Python','ds',12,23,45,[1,2,3,5],True)\n",
    "tupl"
   ]
  },
  {
   "cell_type": "code",
   "execution_count": 36,
   "id": "92cfbe49-4bea-499b-84a5-8b10755c8a58",
   "metadata": {},
   "outputs": [
    {
     "data": {
      "text/plain": [
       "('Python', 'ds', 12, 12, 'ds', 23, 45, [1, 2, 3, 5], True)"
      ]
     },
     "execution_count": 36,
     "metadata": {},
     "output_type": "execute_result"
    }
   ],
   "source": [
    "tupl=('Python','ds',12,12,'ds',23,45,[1,2,3,5],True) # same elements are allowed \n",
    "tupl"
   ]
  },
  {
   "cell_type": "code",
   "execution_count": 94,
   "id": "2f19d8bc-1e5f-4c28-8c09-9fc779f3ddd5",
   "metadata": {},
   "outputs": [
    {
     "data": {
      "text/plain": [
       "(1, 2, 3, 4)"
      ]
     },
     "execution_count": 94,
     "metadata": {},
     "output_type": "execute_result"
    }
   ],
   "source": [
    "tup3=tuple([1,2,3,4])\n",
    "tup3"
   ]
  },
  {
   "cell_type": "code",
   "execution_count": 95,
   "id": "84388c2d-49b6-4513-af10-41267032f509",
   "metadata": {},
   "outputs": [],
   "source": [
    "tup4=10,30,70,'tam' # without  parentheses it will be consider as tuple"
   ]
  },
  {
   "cell_type": "code",
   "execution_count": 96,
   "id": "7e02861b-37d1-4498-b2a7-df8fb33ed55e",
   "metadata": {},
   "outputs": [
    {
     "data": {
      "text/plain": [
       "tuple"
      ]
     },
     "execution_count": 96,
     "metadata": {},
     "output_type": "execute_result"
    }
   ],
   "source": [
    "type(tup4)"
   ]
  },
  {
   "cell_type": "code",
   "execution_count": 97,
   "id": "7460785a-1dc0-456f-a3ed-17560405be1d",
   "metadata": {},
   "outputs": [],
   "source": [
    "tup6='ai'"
   ]
  },
  {
   "cell_type": "code",
   "execution_count": 98,
   "id": "f45c0e60-bd4d-480d-b8e4-5f68c8926034",
   "metadata": {},
   "outputs": [
    {
     "data": {
      "text/plain": [
       "str"
      ]
     },
     "execution_count": 98,
     "metadata": {},
     "output_type": "execute_result"
    }
   ],
   "source": [
    "type(tup6)"
   ]
  },
  {
   "cell_type": "code",
   "execution_count": 99,
   "id": "d9f7c6a6-7259-4431-b841-e5c8198937b0",
   "metadata": {},
   "outputs": [],
   "source": [
    "tup6='ai',"
   ]
  },
  {
   "cell_type": "code",
   "execution_count": 100,
   "id": "5a0809d7-019b-4c09-9ae9-5b0e148ff226",
   "metadata": {},
   "outputs": [
    {
     "data": {
      "text/plain": [
       "tuple"
      ]
     },
     "execution_count": 100,
     "metadata": {},
     "output_type": "execute_result"
    }
   ],
   "source": [
    "type(tup6)"
   ]
  },
  {
   "cell_type": "code",
   "execution_count": 101,
   "id": "9ed02003-ec7d-4419-9f2a-f71f6e1a85d2",
   "metadata": {},
   "outputs": [
    {
     "data": {
      "text/plain": [
       "(1, 2, 3, 4)"
      ]
     },
     "execution_count": 101,
     "metadata": {},
     "output_type": "execute_result"
    }
   ],
   "source": [
    "tup3"
   ]
  },
  {
   "cell_type": "code",
   "execution_count": 102,
   "id": "b5382b07-83e7-4310-9b31-9fc4197394d8",
   "metadata": {},
   "outputs": [
    {
     "data": {
      "text/plain": [
       "(10, 30, 70, 'tam')"
      ]
     },
     "execution_count": 102,
     "metadata": {},
     "output_type": "execute_result"
    }
   ],
   "source": [
    "tup4"
   ]
  },
  {
   "cell_type": "code",
   "execution_count": 103,
   "id": "eb107f89-aa6d-4da1-9910-a4dcc6251c50",
   "metadata": {},
   "outputs": [
    {
     "data": {
      "text/plain": [
       "(1, 2, 3, 4, 10, 30, 70, 'tam')"
      ]
     },
     "execution_count": 103,
     "metadata": {},
     "output_type": "execute_result"
    }
   ],
   "source": [
    "tup3+tup4"
   ]
  },
  {
   "cell_type": "code",
   "execution_count": 104,
   "id": "ade44ac4-4adc-45e2-a793-759e15bbe001",
   "metadata": {},
   "outputs": [
    {
     "data": {
      "text/plain": [
       "(1, 2, 3, 4)"
      ]
     },
     "execution_count": 104,
     "metadata": {},
     "output_type": "execute_result"
    }
   ],
   "source": [
    "tup3"
   ]
  },
  {
   "cell_type": "code",
   "execution_count": 105,
   "id": "cf553596-bcf3-43e7-8d46-8c499cf59301",
   "metadata": {},
   "outputs": [
    {
     "data": {
      "text/plain": [
       "(1, 2, 3, 4, 1, 2, 3, 4, 1, 2, 3, 4)"
      ]
     },
     "execution_count": 105,
     "metadata": {},
     "output_type": "execute_result"
    }
   ],
   "source": [
    "tup3*3 # 3 tyms value executed"
   ]
  },
  {
   "cell_type": "code",
   "execution_count": 106,
   "id": "63b17fed-c34a-4300-9e0e-2becb46b1de3",
   "metadata": {},
   "outputs": [
    {
     "data": {
      "text/plain": [
       "0"
      ]
     },
     "execution_count": 106,
     "metadata": {},
     "output_type": "execute_result"
    }
   ],
   "source": [
    "tup3.count(99)"
   ]
  },
  {
   "cell_type": "code",
   "execution_count": 107,
   "id": "9efe71bb-7000-4e32-9c3e-579c9deb0b80",
   "metadata": {},
   "outputs": [],
   "source": [
    "tup3=tup3*3"
   ]
  },
  {
   "cell_type": "code",
   "execution_count": 108,
   "id": "e4883fd9-a2ed-4fd0-85ea-11339937abc4",
   "metadata": {},
   "outputs": [
    {
     "data": {
      "text/plain": [
       "(1, 2, 3, 4, 1, 2, 3, 4, 1, 2, 3, 4)"
      ]
     },
     "execution_count": 108,
     "metadata": {},
     "output_type": "execute_result"
    }
   ],
   "source": [
    "tup3"
   ]
  },
  {
   "cell_type": "code",
   "execution_count": 112,
   "id": "6e903a0b-9b7b-476d-b74e-5016f0401f22",
   "metadata": {},
   "outputs": [
    {
     "data": {
      "text/plain": [
       "3"
      ]
     },
     "execution_count": 112,
     "metadata": {},
     "output_type": "execute_result"
    }
   ],
   "source": [
    "tup3.count(4) # how many tyms 4 in this tuple "
   ]
  },
  {
   "cell_type": "code",
   "execution_count": 114,
   "id": "b7ea8078-2bd5-4d3c-b046-ae946dd79c70",
   "metadata": {},
   "outputs": [
    {
     "data": {
      "text/plain": [
       "3"
      ]
     },
     "execution_count": 114,
     "metadata": {},
     "output_type": "execute_result"
    }
   ],
   "source": [
    "tup3.index(4) # 4 num index  value find"
   ]
  },
  {
   "cell_type": "code",
   "execution_count": 115,
   "id": "e58d4701-3f44-42ae-9de2-ad4769fb8c3c",
   "metadata": {},
   "outputs": [
    {
     "data": {
      "text/plain": [
       "(10, 30, 70, 'tam')"
      ]
     },
     "execution_count": 115,
     "metadata": {},
     "output_type": "execute_result"
    }
   ],
   "source": [
    "#membership\n",
    "tup4"
   ]
  },
  {
   "cell_type": "code",
   "execution_count": 116,
   "id": "165ef5a2-263b-48ce-aaf5-7c1cfc5c05f6",
   "metadata": {},
   "outputs": [
    {
     "data": {
      "text/plain": [
       "True"
      ]
     },
     "execution_count": 116,
     "metadata": {},
     "output_type": "execute_result"
    }
   ],
   "source": [
    "#membership\n",
    "'tam' in tup4"
   ]
  },
  {
   "cell_type": "code",
   "execution_count": 117,
   "id": "c5936893-a949-4487-b936-e644b61c1c63",
   "metadata": {},
   "outputs": [
    {
     "data": {
      "text/plain": [
       "False"
      ]
     },
     "execution_count": 117,
     "metadata": {},
     "output_type": "execute_result"
    }
   ],
   "source": [
    "'t' in tup4"
   ]
  },
  {
   "cell_type": "code",
   "execution_count": 118,
   "id": "b9a17c79-cb18-4b7f-a04b-f98837110bfc",
   "metadata": {},
   "outputs": [
    {
     "data": {
      "text/plain": [
       "(1, 2, 3, 4, 1, 2, 3, 4, 1, 2, 3, 4)"
      ]
     },
     "execution_count": 118,
     "metadata": {},
     "output_type": "execute_result"
    }
   ],
   "source": [
    "tup3"
   ]
  },
  {
   "cell_type": "code",
   "execution_count": 122,
   "id": "42233bc8-a377-4122-b6f9-e3a7e73fdea1",
   "metadata": {},
   "outputs": [
    {
     "data": {
      "text/plain": [
       "(1, 2, 3, 4, 1, 2, 3, 4, 1, 2, 3, 4)"
      ]
     },
     "execution_count": 122,
     "metadata": {},
     "output_type": "execute_result"
    }
   ],
   "source": [
    "tup3"
   ]
  },
  {
   "cell_type": "code",
   "execution_count": 123,
   "id": "522ba39d-025d-4a84-8298-3afc87bd8071",
   "metadata": {},
   "outputs": [
    {
     "data": {
      "text/plain": [
       "(10, 30, 70, 'tam')"
      ]
     },
     "execution_count": 123,
     "metadata": {},
     "output_type": "execute_result"
    }
   ],
   "source": [
    "tup4"
   ]
  },
  {
   "cell_type": "code",
   "execution_count": 124,
   "id": "29db9b56-35e3-470f-82bf-bb4fe8587307",
   "metadata": {},
   "outputs": [
    {
     "ename": "TypeError",
     "evalue": "'tuple' object does not support item assignment",
     "output_type": "error",
     "traceback": [
      "\u001b[1;31m---------------------------------------------------------------------------\u001b[0m",
      "\u001b[1;31mTypeError\u001b[0m                                 Traceback (most recent call last)",
      "Cell \u001b[1;32mIn[124], line 1\u001b[0m\n\u001b[1;32m----> 1\u001b[0m tup4[\u001b[38;5;241m0\u001b[39m]\u001b[38;5;241m=\u001b[39m\u001b[38;5;124m'\u001b[39m\u001b[38;5;124mai\u001b[39m\u001b[38;5;124m'\u001b[39m\n",
      "\u001b[1;31mTypeError\u001b[0m: 'tuple' object does not support item assignment"
     ]
    }
   ],
   "source": [
    "tup4[0]='ai'"
   ]
  },
  {
   "cell_type": "code",
   "execution_count": 125,
   "id": "ec021f94-035d-4842-b265-1359a494d122",
   "metadata": {},
   "outputs": [
    {
     "data": {
      "text/plain": [
       "('tamanna', 'jahida')"
      ]
     },
     "execution_count": 125,
     "metadata": {},
     "output_type": "execute_result"
    }
   ],
   "source": [
    "tup2"
   ]
  },
  {
   "cell_type": "code",
   "execution_count": 126,
   "id": "28ebd3a9-811f-4588-b9c8-a63c18ab5899",
   "metadata": {},
   "outputs": [
    {
     "name": "stdout",
     "output_type": "stream",
     "text": [
      "tamanna\n",
      "jahida\n"
     ]
    }
   ],
   "source": [
    "for i in tup2:\n",
    "    print(i)"
   ]
  },
  {
   "cell_type": "code",
   "execution_count": 127,
   "id": "94b86c49-3cef-48a3-a1b0-5486b9f96758",
   "metadata": {},
   "outputs": [
    {
     "name": "stdout",
     "output_type": "stream",
     "text": [
      "1\n",
      "2\n",
      "3\n",
      "4\n",
      "1\n",
      "2\n",
      "3\n",
      "4\n",
      "1\n",
      "2\n",
      "3\n",
      "4\n"
     ]
    }
   ],
   "source": [
    "for x in tup3:\n",
    "    print(x)"
   ]
  },
  {
   "cell_type": "markdown",
   "id": "72fe9107-3ce2-4837-9e74-f6a4b6415896",
   "metadata": {},
   "source": [
    "Tuple is more faster than List"
   ]
  },
  {
   "cell_type": "code",
   "execution_count": 128,
   "id": "644848ff-2554-44de-81cf-37444d989218",
   "metadata": {},
   "outputs": [
    {
     "data": {
      "text/plain": [
       "4"
      ]
     },
     "execution_count": 128,
     "metadata": {},
     "output_type": "execute_result"
    }
   ],
   "source": [
    "tup3[-1]"
   ]
  },
  {
   "cell_type": "code",
   "execution_count": null,
   "id": "e1354f8e-753f-4749-a227-3789b5145a1d",
   "metadata": {},
   "outputs": [],
   "source": []
  }
 ],
 "metadata": {
  "kernelspec": {
   "display_name": "Python 3 (ipykernel)",
   "language": "python",
   "name": "python3"
  },
  "language_info": {
   "codemirror_mode": {
    "name": "ipython",
    "version": 3
   },
   "file_extension": ".py",
   "mimetype": "text/x-python",
   "name": "python",
   "nbconvert_exporter": "python",
   "pygments_lexer": "ipython3",
   "version": "3.11.7"
  }
 },
 "nbformat": 4,
 "nbformat_minor": 5
}
