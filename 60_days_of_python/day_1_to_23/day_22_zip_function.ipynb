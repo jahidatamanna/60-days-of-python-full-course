{
 "cells": [
  {
   "cell_type": "code",
   "execution_count": 1,
   "id": "339e5976-2b2e-4fda-a172-527ba072754b",
   "metadata": {},
   "outputs": [],
   "source": [
    "# zipped\n",
    "name=['tamanna','tanjila','tanjim']\n",
    "varsity=['aiub','ewu','nis']\n"
   ]
  },
  {
   "cell_type": "code",
   "execution_count": 3,
   "id": "13874452-287e-40fe-b3df-dec98953f545",
   "metadata": {},
   "outputs": [
    {
     "name": "stdout",
     "output_type": "stream",
     "text": [
      "<zip object at 0x00000190765F66C0>\n"
     ]
    }
   ],
   "source": [
    "zipped=zip(name,varsity)\n",
    "print(zipped)"
   ]
  },
  {
   "cell_type": "code",
   "execution_count": 4,
   "id": "55aa474c-46c5-4eae-9851-ff08ac321f1f",
   "metadata": {},
   "outputs": [
    {
     "name": "stdout",
     "output_type": "stream",
     "text": [
      "[('tamanna', 'aiub'), ('tanjila', 'ewu'), ('tanjim', 'nis')]\n"
     ]
    }
   ],
   "source": [
    "zipped=list(zip(name,varsity))\n",
    "print(zipped)"
   ]
  },
  {
   "cell_type": "code",
   "execution_count": 5,
   "id": "f53f4703-d4f6-40fe-be99-99e5453a01c9",
   "metadata": {},
   "outputs": [
    {
     "name": "stdout",
     "output_type": "stream",
     "text": [
      "(('tamanna', 'aiub'), ('tanjila', 'ewu'), ('tanjim', 'nis'))\n"
     ]
    }
   ],
   "source": [
    "zipped=tuple(zip(name,varsity))\n",
    "print(zipped)"
   ]
  },
  {
   "cell_type": "code",
   "execution_count": 7,
   "id": "8fe7b377-4f83-41f2-9344-8aee19e52b0e",
   "metadata": {},
   "outputs": [
    {
     "name": "stdout",
     "output_type": "stream",
     "text": [
      "{'tamanna': 'aiub', 'tanjila': 'ewu', 'tanjim': 'nis'}\n"
     ]
    }
   ],
   "source": [
    "zipped=dict(zip(name,varsity))\n",
    "print(zipped)"
   ]
  },
  {
   "cell_type": "code",
   "execution_count": 8,
   "id": "43375696-abbe-4863-9530-3f45215d8ab2",
   "metadata": {},
   "outputs": [
    {
     "data": {
      "text/plain": [
       "dict_keys(['tamanna', 'tanjila', 'tanjim'])"
      ]
     },
     "execution_count": 8,
     "metadata": {},
     "output_type": "execute_result"
    }
   ],
   "source": [
    "zipped.keys()"
   ]
  },
  {
   "cell_type": "code",
   "execution_count": 9,
   "id": "7ebe2fbf-1006-4665-9908-cf305db5e3e9",
   "metadata": {},
   "outputs": [
    {
     "data": {
      "text/plain": [
       "dict_values(['aiub', 'ewu', 'nis'])"
      ]
     },
     "execution_count": 9,
     "metadata": {},
     "output_type": "execute_result"
    }
   ],
   "source": [
    "zipped.values()"
   ]
  },
  {
   "cell_type": "code",
   "execution_count": 10,
   "id": "4773c717-bea9-44ab-a192-19456fdccbf9",
   "metadata": {},
   "outputs": [
    {
     "name": "stdout",
     "output_type": "stream",
     "text": [
      "{('tanjim', 'nis'), ('tanjila', 'ewu'), ('tamanna', 'aiub')}\n"
     ]
    }
   ],
   "source": [
    "zipped=set(zip(name,varsity))\n",
    "print(zipped)"
   ]
  },
  {
   "cell_type": "code",
   "execution_count": 11,
   "id": "e7a7c020-d08b-4187-a7c9-4e324d100716",
   "metadata": {},
   "outputs": [
    {
     "name": "stdout",
     "output_type": "stream",
     "text": [
      "[('tamanna', 'aiub'), ('tanjila', 'ewu'), ('tanjim', 'nis')]\n"
     ]
    }
   ],
   "source": [
    "# unzipped\n",
    "zipped=list(zip(name,varsity))\n",
    "print(zipped)\n"
   ]
  },
  {
   "cell_type": "code",
   "execution_count": 12,
   "id": "38cde4fa-9957-458e-a523-1ad53141302b",
   "metadata": {},
   "outputs": [],
   "source": [
    "name1,varsity=zip(*zipped)"
   ]
  },
  {
   "cell_type": "code",
   "execution_count": 13,
   "id": "716f30de-6ff6-468f-9eed-eef30fb8c1b7",
   "metadata": {},
   "outputs": [
    {
     "data": {
      "text/plain": [
       "['tamanna', 'tanjila', 'tanjim']"
      ]
     },
     "execution_count": 13,
     "metadata": {},
     "output_type": "execute_result"
    }
   ],
   "source": [
    "name"
   ]
  },
  {
   "cell_type": "code",
   "execution_count": 14,
   "id": "cb03a71b-60e3-4380-96d4-199e13447105",
   "metadata": {},
   "outputs": [
    {
     "data": {
      "text/plain": [
       "('aiub', 'ewu', 'nis')"
      ]
     },
     "execution_count": 14,
     "metadata": {},
     "output_type": "execute_result"
    }
   ],
   "source": [
    "varsity"
   ]
  },
  {
   "cell_type": "code",
   "execution_count": null,
   "id": "a7d85163-1b86-416c-a5c5-9d8da4a4027e",
   "metadata": {},
   "outputs": [],
   "source": []
  }
 ],
 "metadata": {
  "kernelspec": {
   "display_name": "Python 3 (ipykernel)",
   "language": "python",
   "name": "python3"
  },
  "language_info": {
   "codemirror_mode": {
    "name": "ipython",
    "version": 3
   },
   "file_extension": ".py",
   "mimetype": "text/x-python",
   "name": "python",
   "nbconvert_exporter": "python",
   "pygments_lexer": "ipython3",
   "version": "3.11.7"
  }
 },
 "nbformat": 4,
 "nbformat_minor": 5
}
