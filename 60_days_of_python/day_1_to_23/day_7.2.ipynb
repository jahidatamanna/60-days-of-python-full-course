{
 "cells": [
  {
   "cell_type": "code",
   "execution_count": 1,
   "id": "8e396802-a042-47c3-835d-d058d8135b92",
   "metadata": {},
   "outputs": [
    {
     "name": "stdout",
     "output_type": "stream",
     "text": [
      "nothing\n"
     ]
    }
   ],
   "source": [
    "x=10\n",
    "y=12\n",
    "if x>y:\n",
    "    print(\"false\")\n",
    "else:\n",
    "    print(\"nothing\")\n",
    "    "
   ]
  },
  {
   "cell_type": "code",
   "execution_count": 5,
   "id": "69e7956c-8988-4f05-bddf-7d05bf8fd173",
   "metadata": {},
   "outputs": [
    {
     "name": "stdout",
     "output_type": "stream",
     "text": [
      "true\n",
      "correct\n"
     ]
    }
   ],
   "source": [
    "x=10\n",
    "y=12\n",
    "if x>y:\n",
    "    print(\"false\")\n",
    "elif y>x:\n",
    "    print(\"true\")\n",
    "    if x!=y:\n",
    "        print(\"correct\")\n",
    "    elif x==y:\n",
    "        print(\"wrong\")\n",
    "\n",
    "else:\n",
    "    print(\"nothing\")"
   ]
  },
  {
   "cell_type": "code",
   "execution_count": 16,
   "id": "13aa1e3b-bb1e-48bd-9460-d44097efd9b9",
   "metadata": {},
   "outputs": [
    {
     "name": "stdin",
     "output_type": "stream",
     "text": [
      "enter a number :  15\n"
     ]
    },
    {
     "name": "stdout",
     "output_type": "stream",
     "text": [
      "no one\n"
     ]
    }
   ],
   "source": [
    "num=float(input(\"enter a number : \"))\n",
    "if num%2==0:\n",
    "    \n",
    "    print(\"2 done\")\n",
    "    if num%5==0:\n",
    "        print(\"5 done\")\n",
    "\n",
    "else:\n",
    "    print(\"no one\")"
   ]
  },
  {
   "cell_type": "code",
   "execution_count": 26,
   "id": "336c8fbd-2a6e-44ab-ba00-877ca647abe9",
   "metadata": {},
   "outputs": [
    {
     "name": "stdin",
     "output_type": "stream",
     "text": [
      "Enter a number:  15\n"
     ]
    },
    {
     "name": "stdout",
     "output_type": "stream",
     "text": [
      "5 done\n"
     ]
    }
   ],
   "source": [
    "num = float(input(\"Enter a number: \"))\n",
    "\n",
    "if num % 2 == 0 and num % 5 == 0:\n",
    "    print(\"Both 2 and 5 done\")\n",
    "elif num % 2 == 0:\n",
    "    print(\"2 done\")\n",
    "elif num % 5 == 0:\n",
    "    print(\"5 done\")\n",
    "else:\n",
    "    print(\"No one\")"
   ]
  },
  {
   "cell_type": "markdown",
   "id": "39e4eb92-eba7-41e9-8569-9493b7a6a76a",
   "metadata": {},
   "source": [
    "Q: write a program to calculate the electricity bill(accpt number of unit from user) according to thefollowing criteria:\n",
    "\n",
    "             unit                                                                   price\n",
    "          first 100 units                                                         no charge\n",
    "          next 100 units                                                          Rs 5 per unit\n",
    "          after 200 units                                                        Rs 10 per unit(extra 500 will be added)\n",
    "(for example is input unit is 350 than total bill amount is Rs2000)"
   ]
  },
  {
   "cell_type": "code",
   "execution_count": 35,
   "id": "1cb19b33-fca6-4cbf-91f4-732a07485211",
   "metadata": {},
   "outputs": [
    {
     "name": "stdin",
     "output_type": "stream",
     "text": [
      "enteer our unit value :  201\n"
     ]
    },
    {
     "name": "stdout",
     "output_type": "stream",
     "text": [
      "your unit bill is : Rs 510.0\n"
     ]
    }
   ],
   "source": [
    " net_unit=float(input(\"enteer our unit value : \"))\n",
    "if net_unit<=100 :\n",
    "    amount=0\n",
    "elif net_unit>100 and net_unit<=200 :\n",
    "    amount=(net_unit-100)*5\n",
    "elif net_unit>200 :\n",
    "    amount=(net_unit-200)*10+500\n",
    "print(\"your unit bill is : Rs\",amount)\n"
   ]
  },
  {
   "cell_type": "code",
   "execution_count": null,
   "id": "bacb3247-c324-40a1-8d4f-01b3d1143e99",
   "metadata": {},
   "outputs": [],
   "source": []
  }
 ],
 "metadata": {
  "kernelspec": {
   "display_name": "Python 3 (ipykernel)",
   "language": "python",
   "name": "python3"
  },
  "language_info": {
   "codemirror_mode": {
    "name": "ipython",
    "version": 3
   },
   "file_extension": ".py",
   "mimetype": "text/x-python",
   "name": "python",
   "nbconvert_exporter": "python",
   "pygments_lexer": "ipython3",
   "version": "3.11.7"
  }
 },
 "nbformat": 4,
 "nbformat_minor": 5
}
