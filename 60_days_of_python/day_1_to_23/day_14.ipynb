{
 "cells": [
  {
   "cell_type": "code",
   "execution_count": 2,
   "id": "66c9b6be-d8c8-4866-ad83-42578f5765fd",
   "metadata": {},
   "outputs": [
    {
     "data": {
      "text/plain": [
       "[0, 1, 2, 3, 4, 5, 6, 7, 8, 9]"
      ]
     },
     "execution_count": 2,
     "metadata": {},
     "output_type": "execute_result"
    }
   ],
   "source": [
    "#using for loop\n",
    "list1=[]\n",
    "for x in range(10):\n",
    "    list1.append(x)\n",
    "list1    "
   ]
  },
  {
   "cell_type": "code",
   "execution_count": 3,
   "id": "804f27d9-cfa7-47a1-87da-6fc65277574b",
   "metadata": {},
   "outputs": [
    {
     "data": {
      "text/plain": [
       "[0, 1, 2, 3, 4, 5, 6, 7, 8, 9]"
      ]
     },
     "execution_count": 3,
     "metadata": {},
     "output_type": "execute_result"
    }
   ],
   "source": [
    "# using list comprehension\n",
    "list2=[x for x in range(10)]\n",
    "list2"
   ]
  },
  {
   "cell_type": "code",
   "execution_count": 10,
   "id": "d336dce6-2a6e-493a-a60c-220c98fcce9d",
   "metadata": {},
   "outputs": [
    {
     "data": {
      "text/plain": [
       "0"
      ]
     },
     "execution_count": 10,
     "metadata": {},
     "output_type": "execute_result"
    }
   ],
   "source": [
    "2%2"
   ]
  },
  {
   "cell_type": "code",
   "execution_count": 23,
   "id": "d6dc24a6-bcbc-4b09-95dd-f187a6f34e02",
   "metadata": {},
   "outputs": [
    {
     "data": {
      "text/plain": [
       "[0, 2, 4, 6, 8]"
      ]
     },
     "execution_count": 23,
     "metadata": {},
     "output_type": "execute_result"
    }
   ],
   "source": [
    "list3 = []\n",
    "for x in range(10):\n",
    "    if x % 2 == 0: #even number only\n",
    "        list3.append(x)\n",
    "    \n",
    "list3"
   ]
  },
  {
   "cell_type": "code",
   "execution_count": 24,
   "id": "080aabed-3c0a-4ce6-bc70-6ea0fa219786",
   "metadata": {},
   "outputs": [
    {
     "data": {
      "text/plain": [
       "[1, 3, 5, 7, 9]"
      ]
     },
     "execution_count": 24,
     "metadata": {},
     "output_type": "execute_result"
    }
   ],
   "source": [
    "list3 = []\n",
    "for x in range(10):\n",
    "    if x % 2 == 1: #odd number only\n",
    "        list3.append(x)\n",
    "    \n",
    "list3"
   ]
  },
  {
   "cell_type": "code",
   "execution_count": 26,
   "id": "96ed5a68-eb02-4714-8ad1-e9b9d5cadac0",
   "metadata": {},
   "outputs": [
    {
     "data": {
      "text/plain": [
       "[0, 2, 4, 6, 8]"
      ]
     },
     "execution_count": 26,
     "metadata": {},
     "output_type": "execute_result"
    }
   ],
   "source": [
    "list4=[x for x in range(10) if x % 2 == 0 ] # even number\n",
    "list4"
   ]
  },
  {
   "cell_type": "code",
   "execution_count": 27,
   "id": "26f158de-5f3c-4a4d-ae23-eaa639ead868",
   "metadata": {},
   "outputs": [
    {
     "data": {
      "text/plain": [
       "[1, 3, 5, 7, 9]"
      ]
     },
     "execution_count": 27,
     "metadata": {},
     "output_type": "execute_result"
    }
   ],
   "source": [
    "list4=[x for x in range(10) if x % 2 == 1 ] # odd number\n",
    "list4"
   ]
  },
  {
   "cell_type": "code",
   "execution_count": 28,
   "id": "437c8ac0-1aaf-4c1e-a3d6-9b2194a96bdd",
   "metadata": {},
   "outputs": [],
   "source": [
    "# Iteration through list\n",
    "list5=['Ai','Data Science','python',12,34,56]\n",
    "list6=[x for x in list5]"
   ]
  },
  {
   "cell_type": "code",
   "execution_count": 29,
   "id": "2e8bc992-3334-417e-aff5-23d10de74800",
   "metadata": {},
   "outputs": [
    {
     "data": {
      "text/plain": [
       "['Ai', 'Data Science', 'python', 12, 34, 56]"
      ]
     },
     "execution_count": 29,
     "metadata": {},
     "output_type": "execute_result"
    }
   ],
   "source": [
    "list5"
   ]
  },
  {
   "cell_type": "code",
   "execution_count": 30,
   "id": "ce0f7c3f-910b-4710-83aa-7611e1e5268d",
   "metadata": {},
   "outputs": [
    {
     "data": {
      "text/plain": [
       "['Ai', 'Data Science', 'python', 12, 34, 56]"
      ]
     },
     "execution_count": 30,
     "metadata": {},
     "output_type": "execute_result"
    }
   ],
   "source": [
    "list6"
   ]
  },
  {
   "cell_type": "code",
   "execution_count": 33,
   "id": "a3f8c9e6-003c-40a5-8769-18a3e60eebcd",
   "metadata": {},
   "outputs": [
    {
     "data": {
      "text/plain": [
       "['Data Science', 'python', 12, 34, 56]"
      ]
     },
     "execution_count": 33,
     "metadata": {},
     "output_type": "execute_result"
    }
   ],
   "source": [
    "# Iteration through list\n",
    "\n",
    "list6 = [x for x in list5 if x!= 'Ai']\n",
    "list6"
   ]
  },
  {
   "cell_type": "code",
   "execution_count": 34,
   "id": "4d704677-5548-437d-b93d-10b1f4ed5f29",
   "metadata": {},
   "outputs": [
    {
     "data": {
      "text/plain": [
       "[1, 3, 9, 27, 81, 243, 729, 2187, 6561, 19683]"
      ]
     },
     "execution_count": 34,
     "metadata": {},
     "output_type": "execute_result"
    }
   ],
   "source": [
    "list7=[3**x for x in range(10)] # power :3^x:last value=3**9\n",
    "list7"
   ]
  },
  {
   "cell_type": "code",
   "execution_count": 35,
   "id": "56110d8b-cbc4-46e9-8375-a0ccf0b653c6",
   "metadata": {},
   "outputs": [
    {
     "data": {
      "text/plain": [
       "[0, 1, 2, 3, 4, 5, 6, 7, 8, 9]"
      ]
     },
     "execution_count": 35,
     "metadata": {},
     "output_type": "execute_result"
    }
   ],
   "source": [
    "# LIst membership testing\n",
    "list2"
   ]
  },
  {
   "cell_type": "code",
   "execution_count": 37,
   "id": "7a0e50ba-241a-48c0-b187-e13ea8217c36",
   "metadata": {},
   "outputs": [
    {
     "data": {
      "text/plain": [
       "True"
      ]
     },
     "execution_count": 37,
     "metadata": {},
     "output_type": "execute_result"
    }
   ],
   "source": [
    "9 in list2 #check a value from the list"
   ]
  },
  {
   "cell_type": "code",
   "execution_count": null,
   "id": "5f59f05d-dd3e-46e8-9826-125ee146b9ef",
   "metadata": {},
   "outputs": [],
   "source": []
  }
 ],
 "metadata": {
  "kernelspec": {
   "display_name": "Python 3 (ipykernel)",
   "language": "python",
   "name": "python3"
  },
  "language_info": {
   "codemirror_mode": {
    "name": "ipython",
    "version": 3
   },
   "file_extension": ".py",
   "mimetype": "text/x-python",
   "name": "python",
   "nbconvert_exporter": "python",
   "pygments_lexer": "ipython3",
   "version": "3.11.7"
  }
 },
 "nbformat": 4,
 "nbformat_minor": 5
}
