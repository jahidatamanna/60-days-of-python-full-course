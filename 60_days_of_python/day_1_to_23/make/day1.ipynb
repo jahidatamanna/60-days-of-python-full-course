{
 "cells": [
  {
   "cell_type": "code",
   "execution_count": 6,
   "id": "621c2796-be70-4e72-b8dd-be82580d91de",
   "metadata": {},
   "outputs": [
    {
     "name": "stdout",
     "output_type": "stream",
     "text": [
      "hlw worldb"
     ]
    }
   ],
   "source": [
    "print(\"hlw world\",sep=\"#\" ,end=\"b\")"
   ]
  },
  {
   "cell_type": "code",
   "execution_count": 8,
   "id": "138cc52d-3379-407f-8b2b-84d3552cdcda",
   "metadata": {},
   "outputs": [
    {
     "name": "stdout",
     "output_type": "stream",
     "text": [
      "tamanna\n",
      "my sentence is tamanna\n"
     ]
    }
   ],
   "source": [
    "var=\"tamanna\"\n",
    "print(var)\n",
    "print('my sentence is '+var)"
   ]
  },
  {
   "cell_type": "code",
   "execution_count": 9,
   "id": "d2e0bbdc-eaea-4e00-9cc2-c71b28f513a2",
   "metadata": {},
   "outputs": [
    {
     "data": {
      "text/plain": [
       "1989396506160"
      ]
     },
     "execution_count": 9,
     "metadata": {},
     "output_type": "execute_result"
    }
   ],
   "source": [
    "id(var)"
   ]
  },
  {
   "cell_type": "code",
   "execution_count": 10,
   "id": "e20be303-608c-4289-865b-1f44a826c3d9",
   "metadata": {},
   "outputs": [
    {
     "data": {
      "text/plain": [
       "56"
      ]
     },
     "execution_count": 10,
     "metadata": {},
     "output_type": "execute_result"
    }
   ],
   "source": [
    "import sys\n",
    "sys.getsizeof(var)"
   ]
  },
  {
   "cell_type": "code",
   "execution_count": 11,
   "id": "5d8c4dd6-66b4-479e-8c5a-c6340a6de18e",
   "metadata": {},
   "outputs": [
    {
     "data": {
      "text/plain": [
       "345"
      ]
     },
     "execution_count": 11,
     "metadata": {},
     "output_type": "execute_result"
    }
   ],
   "source": [
    "x=345\n",
    "x"
   ]
  },
  {
   "cell_type": "code",
   "execution_count": 12,
   "id": "cc82df5e-fe8b-48e2-bba4-0bea4a3f0eb3",
   "metadata": {},
   "outputs": [
    {
     "data": {
      "text/plain": [
       "1989395253616"
      ]
     },
     "execution_count": 12,
     "metadata": {},
     "output_type": "execute_result"
    }
   ],
   "source": [
    "id(x)"
   ]
  },
  {
   "cell_type": "code",
   "execution_count": 13,
   "id": "ef3ed076-bf3d-431e-8088-048adf41692e",
   "metadata": {},
   "outputs": [
    {
     "data": {
      "text/plain": [
       "234"
      ]
     },
     "execution_count": 13,
     "metadata": {},
     "output_type": "execute_result"
    }
   ],
   "source": [
    "y=234\n",
    "y"
   ]
  },
  {
   "cell_type": "code",
   "execution_count": 14,
   "id": "6eb8df1d-c494-4d62-bcb2-af968532c2cd",
   "metadata": {},
   "outputs": [
    {
     "data": {
      "text/plain": [
       "140715383775304"
      ]
     },
     "execution_count": 14,
     "metadata": {},
     "output_type": "execute_result"
    }
   ],
   "source": [
    "id(y)"
   ]
  },
  {
   "cell_type": "code",
   "execution_count": 15,
   "id": "3803fc8e-8860-4c4e-a1a7-65c2fa913119",
   "metadata": {},
   "outputs": [
    {
     "data": {
      "text/plain": [
       "22"
      ]
     },
     "execution_count": 15,
     "metadata": {},
     "output_type": "execute_result"
    }
   ],
   "source": [
    "p=22\n",
    "p"
   ]
  },
  {
   "cell_type": "code",
   "execution_count": 16,
   "id": "e41bc06e-0304-40d5-91d1-90409e4a8f17",
   "metadata": {},
   "outputs": [
    {
     "data": {
      "text/plain": [
       "44"
      ]
     },
     "execution_count": 16,
     "metadata": {},
     "output_type": "execute_result"
    }
   ],
   "source": [
    "q=44\n",
    "q"
   ]
  },
  {
   "cell_type": "code",
   "execution_count": 17,
   "id": "0a7bc1fb-fdae-42c8-b8ad-adf22e9afb0a",
   "metadata": {},
   "outputs": [
    {
     "data": {
      "text/plain": [
       "140715383769224"
      ]
     },
     "execution_count": 17,
     "metadata": {},
     "output_type": "execute_result"
    }
   ],
   "source": [
    "id(p)\n",
    "id(q)"
   ]
  },
  {
   "cell_type": "code",
   "execution_count": 19,
   "id": "4b213ded-0d69-4480-9593-25de6c08b174",
   "metadata": {},
   "outputs": [
    {
     "data": {
      "text/plain": [
       "1989395263856"
      ]
     },
     "execution_count": 19,
     "metadata": {},
     "output_type": "execute_result"
    }
   ],
   "source": [
    "m=123466\n",
    "n=234566\n",
    "id(m)\n",
    "id(n)"
   ]
  },
  {
   "cell_type": "code",
   "execution_count": 21,
   "id": "3ce845f4-35d9-4250-9b1f-9cd908e2f577",
   "metadata": {},
   "outputs": [
    {
     "data": {
      "text/plain": [
       "'jahida'"
      ]
     },
     "execution_count": 21,
     "metadata": {},
     "output_type": "execute_result"
    }
   ],
   "source": [
    "name='jahida'\n",
    "name"
   ]
  },
  {
   "cell_type": "code",
   "execution_count": 22,
   "id": "059fe602-92a1-4e8d-b6cf-fcfacdc3858e",
   "metadata": {},
   "outputs": [
    {
     "data": {
      "text/plain": [
       "20"
      ]
     },
     "execution_count": 22,
     "metadata": {},
     "output_type": "execute_result"
    }
   ],
   "source": [
    "22-2"
   ]
  },
  {
   "cell_type": "code",
   "execution_count": 41,
   "id": "b1e59b52-f7aa-4319-854b-5e0d32a17ee4",
   "metadata": {},
   "outputs": [
    {
     "data": {
      "text/plain": [
       "10"
      ]
     },
     "execution_count": 41,
     "metadata": {},
     "output_type": "execute_result"
    }
   ],
   "source": [
    "x,y,z=10,20,30\n",
    "x"
   ]
  },
  {
   "cell_type": "markdown",
   "id": "1ee99f7d-909a-4ee0-a5bf-b540f07e93e6",
   "metadata": {},
   "source": [
    "local vs global"
   ]
  },
  {
   "cell_type": "code",
   "execution_count": 83,
   "id": "b1cc4994-403d-482e-b601-7d650f9e65c2",
   "metadata": {},
   "outputs": [
    {
     "name": "stdout",
     "output_type": "stream",
     "text": [
      "my number is :  122\n",
      "100\n"
     ]
    }
   ],
   "source": [
    "x = 100 # global variable\n",
    "def func1():\n",
    "    x=122 # local variable\n",
    "    print('my number is : ', x )  \n",
    "func1() # claa the function nd this calling function must be start from left side \n",
    "print(x) # call the global variable from outside of this function"
   ]
  },
  {
   "cell_type": "code",
   "execution_count": 85,
   "id": "b85dd55e-c5dc-4cca-baef-abfdb35a067b",
   "metadata": {},
   "outputs": [
    {
     "name": "stdout",
     "output_type": "stream",
     "text": [
      "the number is: 100\n"
     ]
    }
   ],
   "source": [
    "x = 100  # global variable\n",
    "\n",
    "def func1():\n",
    "   # global x  # accessing the global variable x\n",
    "    #x = 22  # modifying the global variable x\n",
    "    print('the number is:', x)\n",
    "\n",
    "func1()  # call the function"
   ]
  },
  {
   "cell_type": "code",
   "execution_count": 93,
   "id": "ede7cc11-8405-479f-969f-21b4d071292c",
   "metadata": {},
   "outputs": [
    {
     "name": "stdout",
     "output_type": "stream",
     "text": [
      "the mun is : 234\n",
      "234\n"
     ]
    }
   ],
   "source": [
    " x=22\n",
    "def func1():\n",
    "    global x # if local variable is define as a global variable thn it will be work as a global out side of the function \n",
    "    x=234\n",
    "    print('the mun is :',x)\n",
    "func1()  \n",
    "print(x)"
   ]
  },
  {
   "cell_type": "code",
   "execution_count": null,
   "id": "05241a95-5c73-43ef-8805-b23293e39ef4",
   "metadata": {},
   "outputs": [],
   "source": []
  },
  {
   "cell_type": "code",
   "execution_count": null,
   "id": "ac2c7234-68ff-42fb-b506-502a37265923",
   "metadata": {},
   "outputs": [],
   "source": []
  },
  {
   "cell_type": "code",
   "execution_count": null,
   "id": "7a34de66-3ad3-45db-98aa-2b5570fa4ed7",
   "metadata": {},
   "outputs": [],
   "source": []
  }
 ],
 "metadata": {
  "kernelspec": {
   "display_name": "Python 3 (ipykernel)",
   "language": "python",
   "name": "python3"
  },
  "language_info": {
   "codemirror_mode": {
    "name": "ipython",
    "version": 3
   },
   "file_extension": ".py",
   "mimetype": "text/x-python",
   "name": "python",
   "nbconvert_exporter": "python",
   "pygments_lexer": "ipython3",
   "version": "3.11.7"
  }
 },
 "nbformat": 4,
 "nbformat_minor": 5
}
