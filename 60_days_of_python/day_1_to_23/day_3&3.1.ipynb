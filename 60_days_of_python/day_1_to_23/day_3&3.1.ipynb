{
 "cells": [
  {
   "cell_type": "code",
   "execution_count": 1,
   "id": "b26ba819-ed23-4ec3-a4f2-3d5446bfdc02",
   "metadata": {},
   "outputs": [],
   "source": [
    "data=\"tamu\""
   ]
  },
  {
   "cell_type": "code",
   "execution_count": 2,
   "id": "ae0a261e-0daa-4c90-857f-e91f11aa2626",
   "metadata": {},
   "outputs": [
    {
     "data": {
      "text/plain": [
       "str"
      ]
     },
     "execution_count": 2,
     "metadata": {},
     "output_type": "execute_result"
    }
   ],
   "source": [
    "type(data)"
   ]
  },
  {
   "cell_type": "code",
   "execution_count": 3,
   "id": "4c4bcd59-7606-4546-9b6b-8717a808b5b7",
   "metadata": {},
   "outputs": [
    {
     "name": "stdin",
     "output_type": "stream",
     "text": [
      " data science\n"
     ]
    }
   ],
   "source": [
    "data=input()\n"
   ]
  },
  {
   "cell_type": "code",
   "execution_count": 4,
   "id": "0717ba50-b909-4187-91b5-bba025f29204",
   "metadata": {},
   "outputs": [
    {
     "data": {
      "text/plain": [
       "'data science'"
      ]
     },
     "execution_count": 4,
     "metadata": {},
     "output_type": "execute_result"
    }
   ],
   "source": [
    "data"
   ]
  },
  {
   "cell_type": "code",
   "execution_count": 5,
   "id": "81eb186a-d0e7-4ed8-84db-d81bdbf442f1",
   "metadata": {},
   "outputs": [
    {
     "data": {
      "text/plain": [
       "str"
      ]
     },
     "execution_count": 5,
     "metadata": {},
     "output_type": "execute_result"
    }
   ],
   "source": [
    "type(data)"
   ]
  },
  {
   "cell_type": "code",
   "execution_count": 6,
   "id": "2d053364-5789-4902-bca0-ee85d0dba399",
   "metadata": {},
   "outputs": [
    {
     "name": "stdin",
     "output_type": "stream",
     "text": [
      " 10\n",
      " 20\n"
     ]
    }
   ],
   "source": [
    "x=input()\n",
    "y=input()"
   ]
  },
  {
   "cell_type": "code",
   "execution_count": 7,
   "id": "9ddb7a37-b561-4964-890f-1dd4aa4d1333",
   "metadata": {},
   "outputs": [
    {
     "data": {
      "text/plain": [
       "'1020'"
      ]
     },
     "execution_count": 7,
     "metadata": {},
     "output_type": "execute_result"
    }
   ],
   "source": [
    "x+y"
   ]
  },
  {
   "cell_type": "code",
   "execution_count": 9,
   "id": "376c1990-d2b4-41c9-adac-ad51226df0a2",
   "metadata": {},
   "outputs": [],
   "source": [
    "x=int(x)\n",
    "y=int(y)"
   ]
  },
  {
   "cell_type": "code",
   "execution_count": 10,
   "id": "f4c7f89e-a41d-41d6-b230-41b363bad31a",
   "metadata": {},
   "outputs": [
    {
     "data": {
      "text/plain": [
       "30"
      ]
     },
     "execution_count": 10,
     "metadata": {},
     "output_type": "execute_result"
    }
   ],
   "source": [
    "x+y"
   ]
  },
  {
   "cell_type": "code",
   "execution_count": 13,
   "id": "35b011aa-2bec-47f4-ab88-c353d5729dcd",
   "metadata": {},
   "outputs": [
    {
     "name": "stdin",
     "output_type": "stream",
     "text": [
      "enter your first number 11\n"
     ]
    }
   ],
   "source": [
    "x=int(input(\"enter your first number\"))"
   ]
  },
  {
   "cell_type": "code",
   "execution_count": 15,
   "id": "0547fca4-e72a-44db-8dfd-f0618ee53098",
   "metadata": {},
   "outputs": [
    {
     "name": "stdin",
     "output_type": "stream",
     "text": [
      "enter your first number 12.1\n"
     ]
    }
   ],
   "source": [
    "y=float(input(\"enter your first number\"))"
   ]
  },
  {
   "cell_type": "code",
   "execution_count": 16,
   "id": "59448cc4-7714-4de0-8b70-c14b925d52c6",
   "metadata": {},
   "outputs": [
    {
     "data": {
      "text/plain": [
       "23.1"
      ]
     },
     "execution_count": 16,
     "metadata": {},
     "output_type": "execute_result"
    }
   ],
   "source": [
    "x+y"
   ]
  },
  {
   "cell_type": "code",
   "execution_count": 21,
   "id": "053fed32-f613-40fe-b347-6f902899eff9",
   "metadata": {},
   "outputs": [],
   "source": [
    "data=\"python is my  course\""
   ]
  },
  {
   "cell_type": "code",
   "execution_count": 22,
   "id": "ce08afad-7ebb-468f-bb85-aa255f3afb24",
   "metadata": {},
   "outputs": [
    {
     "data": {
      "text/plain": [
       "str"
      ]
     },
     "execution_count": 22,
     "metadata": {},
     "output_type": "execute_result"
    }
   ],
   "source": [
    "type(data)"
   ]
  },
  {
   "cell_type": "code",
   "execution_count": 23,
   "id": "48f1af34-de99-456a-88a6-5cc2e87beb7a",
   "metadata": {},
   "outputs": [
    {
     "data": {
      "text/plain": [
       "20"
      ]
     },
     "execution_count": 23,
     "metadata": {},
     "output_type": "execute_result"
    }
   ],
   "source": [
    "len(data)"
   ]
  },
  {
   "cell_type": "code",
   "execution_count": 24,
   "id": "03370710-8cee-493a-835f-16dbbacb2203",
   "metadata": {},
   "outputs": [
    {
     "data": {
      "text/plain": [
       "69"
      ]
     },
     "execution_count": 24,
     "metadata": {},
     "output_type": "execute_result"
    }
   ],
   "source": [
    "import sys\n",
    "sys.getsizeof(data)"
   ]
  },
  {
   "cell_type": "code",
   "execution_count": 25,
   "id": "251e9547-6a92-4c9a-9c21-1ac56d020f23",
   "metadata": {},
   "outputs": [
    {
     "data": {
      "text/plain": [
       "1"
      ]
     },
     "execution_count": 25,
     "metadata": {},
     "output_type": "execute_result"
    }
   ],
   "source": [
    "data.count(\"python\")"
   ]
  },
  {
   "cell_type": "code",
   "execution_count": 26,
   "id": "816a6aba-c6c1-48d1-bfd3-3b6959cb0cfe",
   "metadata": {},
   "outputs": [],
   "source": [
    "sub=\"is\""
   ]
  },
  {
   "cell_type": "code",
   "execution_count": 27,
   "id": "c6e7f87a-61d3-42b6-9e3c-5d8a64f1d716",
   "metadata": {},
   "outputs": [
    {
     "data": {
      "text/plain": [
       "1"
      ]
     },
     "execution_count": 27,
     "metadata": {},
     "output_type": "execute_result"
    }
   ],
   "source": [
    "data.count(sub)"
   ]
  },
  {
   "cell_type": "markdown",
   "id": "5bffa734-6992-449e-aa48-b7e4f8007755",
   "metadata": {},
   "source": [
    "Python String Method"
   ]
  },
  {
   "cell_type": "code",
   "execution_count": 52,
   "id": "b3e1552f-2533-4668-b02e-446fa678bf36",
   "metadata": {},
   "outputs": [
    {
     "data": {
      "text/plain": [
       "8"
      ]
     },
     "execution_count": 52,
     "metadata": {},
     "output_type": "execute_result"
    }
   ],
   "source": [
    "data=\"my Name is Jahida tamanna\"\n",
    "data.find(\"is\")"
   ]
  },
  {
   "cell_type": "code",
   "execution_count": 53,
   "id": "4c51afad-c41e-430a-99c1-7af7be54655a",
   "metadata": {},
   "outputs": [
    {
     "data": {
      "text/plain": [
       "-1"
      ]
     },
     "execution_count": 53,
     "metadata": {},
     "output_type": "execute_result"
    }
   ],
   "source": [
    "data.find(\"j\")"
   ]
  },
  {
   "cell_type": "code",
   "execution_count": 55,
   "id": "d467621b-79d2-40c1-ad5d-6a31d30a13b5",
   "metadata": {},
   "outputs": [
    {
     "data": {
      "text/plain": [
       "-1"
      ]
     },
     "execution_count": 55,
     "metadata": {},
     "output_type": "execute_result"
    }
   ],
   "source": [
    "data.find(\"a\",5,10) # find a from index 5 to index 10 ,if get a thn ansr will be index numb if dnt get thn ans will be -1"
   ]
  },
  {
   "cell_type": "code",
   "execution_count": 56,
   "id": "ac39b18d-e408-4fc2-8d43-7897263a6382",
   "metadata": {},
   "outputs": [
    {
     "data": {
      "text/plain": [
       "12"
      ]
     },
     "execution_count": 56,
     "metadata": {},
     "output_type": "execute_result"
    }
   ],
   "source": [
    "data.find(\"a\",6,20)"
   ]
  },
  {
   "cell_type": "code",
   "execution_count": 57,
   "id": "fb71202b-7624-4bde-aeef-a2b20be390f3",
   "metadata": {},
   "outputs": [
    {
     "data": {
      "text/plain": [
       "22"
      ]
     },
     "execution_count": 57,
     "metadata": {},
     "output_type": "execute_result"
    }
   ],
   "source": [
    "data.index(\"n\") # if value is not exist output will be error  in index function but in find function output  will be -1"
   ]
  },
  {
   "cell_type": "code",
   "execution_count": 58,
   "id": "df95c13e-e38a-48c6-ab1c-615661687cc5",
   "metadata": {},
   "outputs": [
    {
     "data": {
      "text/plain": [
       "'my name is jahida tamanna'"
      ]
     },
     "execution_count": 58,
     "metadata": {},
     "output_type": "execute_result"
    }
   ],
   "source": [
    "data.lower() #convert all into lower case"
   ]
  },
  {
   "cell_type": "code",
   "execution_count": 59,
   "id": "2508429a-fb71-4081-afd7-51b7e448c764",
   "metadata": {},
   "outputs": [
    {
     "data": {
      "text/plain": [
       "'MY NAME IS JAHIDA TAMANNA'"
      ]
     },
     "execution_count": 59,
     "metadata": {},
     "output_type": "execute_result"
    }
   ],
   "source": [
    "data.upper()"
   ]
  },
  {
   "cell_type": "code",
   "execution_count": 60,
   "id": "8160f0f2-1f8d-42fb-bc9d-6add2c1b38d5",
   "metadata": {},
   "outputs": [
    {
     "data": {
      "text/plain": [
       "'my name is jahida tamanna'"
      ]
     },
     "execution_count": 60,
     "metadata": {},
     "output_type": "execute_result"
    }
   ],
   "source": [
    "data.casefold() #casefold and lower same "
   ]
  },
  {
   "cell_type": "code",
   "execution_count": 61,
   "id": "b72e5d97-6caf-4b4e-9d24-f646ffeefbf3",
   "metadata": {},
   "outputs": [
    {
     "data": {
      "text/plain": [
       "'My name is jahida tamanna'"
      ]
     },
     "execution_count": 61,
     "metadata": {},
     "output_type": "execute_result"
    }
   ],
   "source": [
    "data.capitalize() #covert only first letter into capital"
   ]
  },
  {
   "cell_type": "code",
   "execution_count": 67,
   "id": "02059c98-1428-47aa-9e5b-45f6c165cf06",
   "metadata": {},
   "outputs": [
    {
     "data": {
      "text/plain": [
       "'MY nAME IS jAHIDA TAMANNA'"
      ]
     },
     "execution_count": 67,
     "metadata": {},
     "output_type": "execute_result"
    }
   ],
   "source": [
    "data.swapcase() #convert small letter into apital and capital into small letter"
   ]
  },
  {
   "cell_type": "code",
   "execution_count": 68,
   "id": "0514f0f1-7ba1-4d1e-b980-938e8ba7913c",
   "metadata": {},
   "outputs": [
    {
     "data": {
      "text/plain": [
       "'My Name Is Jahida Tamanna'"
      ]
     },
     "execution_count": 68,
     "metadata": {},
     "output_type": "execute_result"
    }
   ],
   "source": [
    "data.title() #in a sentence , convert each first letter into capital  "
   ]
  },
  {
   "cell_type": "code",
   "execution_count": 72,
   "id": "f145839b-647c-4dcb-8c1b-d9b80c482e6d",
   "metadata": {},
   "outputs": [
    {
     "data": {
      "text/plain": [
       "False"
      ]
     },
     "execution_count": 72,
     "metadata": {},
     "output_type": "execute_result"
    }
   ],
   "source": [
    "data.islower() # if all value are in lowercase thn ans will be true otherwise false"
   ]
  },
  {
   "cell_type": "code",
   "execution_count": 75,
   "id": "97869e38-cba7-47e8-af85-4dbddf20c69f",
   "metadata": {},
   "outputs": [
    {
     "data": {
      "text/plain": [
       "False"
      ]
     },
     "execution_count": 75,
     "metadata": {},
     "output_type": "execute_result"
    }
   ],
   "source": [
    "data.isupper()  # if all value are in upper thn ans will be true otherwise false"
   ]
  },
  {
   "cell_type": "code",
   "execution_count": 77,
   "id": "f3311d53-1203-4574-9096-58c06a8fc0c6",
   "metadata": {},
   "outputs": [
    {
     "data": {
      "text/plain": [
       "False"
      ]
     },
     "execution_count": 77,
     "metadata": {},
     "output_type": "execute_result"
    }
   ],
   "source": [
    "data.isdigit() #if there is any digit ans will be true otherwise false"
   ]
  },
  {
   "cell_type": "code",
   "execution_count": 81,
   "id": "eb160095-f7c5-45d0-b2db-a561fe917e00",
   "metadata": {},
   "outputs": [
    {
     "data": {
      "text/plain": [
       "b'my Name is Jahida tamanna'"
      ]
     },
     "execution_count": 81,
     "metadata": {},
     "output_type": "execute_result"
    }
   ],
   "source": [
    "data.encode() # convert into byte"
   ]
  },
  {
   "cell_type": "code",
   "execution_count": 82,
   "id": "e5360d3d-649d-4bab-b932-f80d9ada8f75",
   "metadata": {},
   "outputs": [
    {
     "data": {
      "text/plain": [
       "bytes"
      ]
     },
     "execution_count": 82,
     "metadata": {},
     "output_type": "execute_result"
    }
   ],
   "source": [
    "type(data.encode()) # encoded value"
   ]
  },
  {
   "cell_type": "code",
   "execution_count": 83,
   "id": "c84d02fc-355b-455c-9db3-19e520c2c43d",
   "metadata": {},
   "outputs": [],
   "source": [
    "x=\"tamanna jahida\""
   ]
  },
  {
   "cell_type": "code",
   "execution_count": 84,
   "id": "95025a99-afe3-469a-a2e9-4ebef7d1a479",
   "metadata": {},
   "outputs": [
    {
     "data": {
      "text/plain": [
       "'tamanna jahida'"
      ]
     },
     "execution_count": 84,
     "metadata": {},
     "output_type": "execute_result"
    }
   ],
   "source": [
    "x"
   ]
  },
  {
   "cell_type": "code",
   "execution_count": 86,
   "id": "48691438-ac8e-4843-8cdf-abb5ca34b368",
   "metadata": {},
   "outputs": [
    {
     "data": {
      "text/plain": [
       "['tamanna', 'jahida']"
      ]
     },
     "execution_count": 86,
     "metadata": {},
     "output_type": "execute_result"
    }
   ],
   "source": [
    "x.split() # make all word into list "
   ]
  },
  {
   "cell_type": "code",
   "execution_count": 88,
   "id": "b6e7cdc4-4a53-4bb9-8105-6007050cbbdb",
   "metadata": {},
   "outputs": [
    {
     "data": {
      "text/plain": [
       "'tamanna'"
      ]
     },
     "execution_count": 88,
     "metadata": {},
     "output_type": "execute_result"
    }
   ],
   "source": [
    "x.split()[0] # get first index value of the list"
   ]
  },
  {
   "cell_type": "code",
   "execution_count": 91,
   "id": "88e60ea9-7dba-456d-8843-0c97c56462ad",
   "metadata": {},
   "outputs": [
    {
     "data": {
      "text/plain": [
       "'                                           tamanna jahida                                           '"
      ]
     },
     "execution_count": 91,
     "metadata": {},
     "output_type": "execute_result"
    }
   ],
   "source": [
    "x.center(100)# if index=100 thn output will be fixt in  the center point of index 100"
   ]
  },
  {
   "cell_type": "code",
   "execution_count": 93,
   "id": "2d025d11-9a17-4787-9c45-f7fca518fd5c",
   "metadata": {},
   "outputs": [
    {
     "data": {
      "text/plain": [
       "'inti jahida'"
      ]
     },
     "execution_count": 93,
     "metadata": {},
     "output_type": "execute_result"
    }
   ],
   "source": [
    "x.replace(\"tamanna\",\"inti\") # x=\"tamanna jahida\" here replace tamanna into inti"
   ]
  },
  {
   "cell_type": "code",
   "execution_count": 97,
   "id": "3168a474-d1d4-4ad1-8ee7-d9d95983c6f2",
   "metadata": {},
   "outputs": [
    {
     "name": "stdout",
     "output_type": "stream",
     "text": [
      "i have something   1000 tk\n"
     ]
    }
   ],
   "source": [
    "x=10\n",
    "y=100\n",
    "z=x*y\n",
    "print(\"i have something  \",z,\"tk\")"
   ]
  },
  {
   "cell_type": "code",
   "execution_count": 99,
   "id": "82ef1d30-53e1-4758-8b15-fbc3815b0982",
   "metadata": {},
   "outputs": [
    {
     "name": "stdout",
     "output_type": "stream",
     "text": [
      "i have something 1000 tk \n"
     ]
    }
   ],
   "source": [
    "print(\"i have something {} tk \".format(z)) # formating data"
   ]
  },
  {
   "cell_type": "code",
   "execution_count": null,
   "id": "43e90d2c-e886-4cc3-a959-733c5816e531",
   "metadata": {},
   "outputs": [],
   "source": []
  }
 ],
 "metadata": {
  "kernelspec": {
   "display_name": "Python 3 (ipykernel)",
   "language": "python",
   "name": "python3"
  },
  "language_info": {
   "codemirror_mode": {
    "name": "ipython",
    "version": 3
   },
   "file_extension": ".py",
   "mimetype": "text/x-python",
   "name": "python",
   "nbconvert_exporter": "python",
   "pygments_lexer": "ipython3",
   "version": "3.11.7"
  }
 },
 "nbformat": 4,
 "nbformat_minor": 5
}
