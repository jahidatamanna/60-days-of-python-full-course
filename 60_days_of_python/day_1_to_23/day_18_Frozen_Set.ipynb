{
 "cells": [
  {
   "cell_type": "code",
   "execution_count": 1,
   "id": "f20d0d77-91c6-4ac5-bc7a-e7618c3c3010",
   "metadata": {},
   "outputs": [
    {
     "data": {
      "text/plain": [
       "{1, 4, 9, 68}"
      ]
     },
     "execution_count": 1,
     "metadata": {},
     "output_type": "execute_result"
    }
   ],
   "source": [
    "#Frozen Set : ina frozen set we can apply any operation(union,intersection etc) but we cant't add,delete,remove any element\n",
    "s1={1,4,68,9}\n",
    "s2={3,4,67,8}\n",
    "s1\n"
   ]
  },
  {
   "cell_type": "code",
   "execution_count": 2,
   "id": "bde99564-f4c4-4847-9f50-d271981aec8f",
   "metadata": {},
   "outputs": [
    {
     "data": {
      "text/plain": [
       "{3, 4, 8, 67}"
      ]
     },
     "execution_count": 2,
     "metadata": {},
     "output_type": "execute_result"
    }
   ],
   "source": [
    "s2"
   ]
  },
  {
   "cell_type": "code",
   "execution_count": 3,
   "id": "f1421ba4-b01f-490f-8fe7-d0f0310a3198",
   "metadata": {},
   "outputs": [
    {
     "data": {
      "text/plain": [
       "set"
      ]
     },
     "execution_count": 3,
     "metadata": {},
     "output_type": "execute_result"
    }
   ],
   "source": [
    "type(s1)"
   ]
  },
  {
   "cell_type": "code",
   "execution_count": 4,
   "id": "a1d628fa-a8d4-4ff7-87f5-702d8f9f866f",
   "metadata": {},
   "outputs": [],
   "source": [
    "s1.add(90)"
   ]
  },
  {
   "cell_type": "code",
   "execution_count": 5,
   "id": "bdc19277-02cf-4e29-a3ef-402957990d2a",
   "metadata": {},
   "outputs": [
    {
     "data": {
      "text/plain": [
       "{1, 4, 9, 68, 90}"
      ]
     },
     "execution_count": 5,
     "metadata": {},
     "output_type": "execute_result"
    }
   ],
   "source": [
    "s1"
   ]
  },
  {
   "cell_type": "markdown",
   "id": "1e94d20f-091c-4ac7-9155-fef07e7fef54",
   "metadata": {},
   "source": [
    "Frozen Set()"
   ]
  },
  {
   "cell_type": "code",
   "execution_count": 7,
   "id": "3344f3e4-c739-480b-b5d3-4f412569791e",
   "metadata": {},
   "outputs": [],
   "source": [
    "s3=frozenset(s1)"
   ]
  },
  {
   "cell_type": "code",
   "execution_count": 8,
   "id": "3ba61192-e820-4e9b-8c9a-f4dd1288deb5",
   "metadata": {},
   "outputs": [
    {
     "data": {
      "text/plain": [
       "frozenset"
      ]
     },
     "execution_count": 8,
     "metadata": {},
     "output_type": "execute_result"
    }
   ],
   "source": [
    "type(s3)"
   ]
  },
  {
   "cell_type": "code",
   "execution_count": 9,
   "id": "df643877-e0b0-4708-b096-b443f5300cd5",
   "metadata": {},
   "outputs": [
    {
     "data": {
      "text/plain": [
       "frozenset({1, 4, 9, 68, 90})"
      ]
     },
     "execution_count": 9,
     "metadata": {},
     "output_type": "execute_result"
    }
   ],
   "source": [
    "s3"
   ]
  },
  {
   "cell_type": "code",
   "execution_count": 10,
   "id": "f657a6f7-71e9-4798-8a21-249503b09edc",
   "metadata": {},
   "outputs": [
    {
     "ename": "AttributeError",
     "evalue": "'frozenset' object has no attribute 'add'",
     "output_type": "error",
     "traceback": [
      "\u001b[1;31m---------------------------------------------------------------------------\u001b[0m",
      "\u001b[1;31mAttributeError\u001b[0m                            Traceback (most recent call last)",
      "Cell \u001b[1;32mIn[10], line 1\u001b[0m\n\u001b[1;32m----> 1\u001b[0m s3\u001b[38;5;241m.\u001b[39madd(\u001b[38;5;241m10\u001b[39m)\n",
      "\u001b[1;31mAttributeError\u001b[0m: 'frozenset' object has no attribute 'add'"
     ]
    }
   ],
   "source": [
    "s3.add(10) # cant't add any element in a frozen set:immutable"
   ]
  },
  {
   "cell_type": "code",
   "execution_count": 11,
   "id": "48d86a91-e237-47ed-9681-370db08a0118",
   "metadata": {},
   "outputs": [],
   "source": [
    "l1=[1,3,5,7]\n",
    "s4=frozenset(l1)"
   ]
  },
  {
   "cell_type": "code",
   "execution_count": 12,
   "id": "75c344cf-d087-4aa1-b626-21ad8dc2042e",
   "metadata": {},
   "outputs": [
    {
     "data": {
      "text/plain": [
       "frozenset({1, 3, 5, 7})"
      ]
     },
     "execution_count": 12,
     "metadata": {},
     "output_type": "execute_result"
    }
   ],
   "source": [
    "s4"
   ]
  },
  {
   "cell_type": "code",
   "execution_count": 13,
   "id": "32bad753-b92b-4bbb-b054-329bcbe6984b",
   "metadata": {},
   "outputs": [
    {
     "ename": "TypeError",
     "evalue": "'frozenset' object is not subscriptable",
     "output_type": "error",
     "traceback": [
      "\u001b[1;31m---------------------------------------------------------------------------\u001b[0m",
      "\u001b[1;31mTypeError\u001b[0m                                 Traceback (most recent call last)",
      "Cell \u001b[1;32mIn[13], line 1\u001b[0m\n\u001b[1;32m----> 1\u001b[0m s4[\u001b[38;5;241m0\u001b[39m]\n",
      "\u001b[1;31mTypeError\u001b[0m: 'frozenset' object is not subscriptable"
     ]
    }
   ],
   "source": [
    "s4[0] #cann't find any element by there index number iin a frozen set"
   ]
  },
  {
   "cell_type": "code",
   "execution_count": 14,
   "id": "26f73675-328d-4078-96b9-207ab3ff847e",
   "metadata": {},
   "outputs": [
    {
     "data": {
      "text/plain": [
       "1"
      ]
     },
     "execution_count": 14,
     "metadata": {},
     "output_type": "execute_result"
    }
   ],
   "source": [
    "l1[0] #in a list we can be find any element by there index number"
   ]
  },
  {
   "cell_type": "code",
   "execution_count": 15,
   "id": "420b19f8-3a2d-4aed-8857-961c92b3e202",
   "metadata": {},
   "outputs": [
    {
     "data": {
      "text/plain": [
       "frozenset({1, 4, 9, 68, 90})"
      ]
     },
     "execution_count": 15,
     "metadata": {},
     "output_type": "execute_result"
    }
   ],
   "source": [
    "s3"
   ]
  },
  {
   "cell_type": "code",
   "execution_count": 16,
   "id": "5f93a038-b56a-431e-9b30-a6f40e8873cf",
   "metadata": {},
   "outputs": [
    {
     "data": {
      "text/plain": [
       "frozenset({1, 3, 5, 7})"
      ]
     },
     "execution_count": 16,
     "metadata": {},
     "output_type": "execute_result"
    }
   ],
   "source": [
    "s4"
   ]
  },
  {
   "cell_type": "code",
   "execution_count": 17,
   "id": "8073a4f2-8d67-4059-9adc-13e3528c67e9",
   "metadata": {},
   "outputs": [
    {
     "data": {
      "text/plain": [
       "frozenset({1, 3, 4, 5, 7, 9, 68, 90})"
      ]
     },
     "execution_count": 17,
     "metadata": {},
     "output_type": "execute_result"
    }
   ],
   "source": [
    "s3.union(s4)"
   ]
  },
  {
   "cell_type": "code",
   "execution_count": 18,
   "id": "3dd538c4-7ce5-4521-92f3-4e6f8db4e90d",
   "metadata": {},
   "outputs": [
    {
     "data": {
      "text/plain": [
       "frozenset({1})"
      ]
     },
     "execution_count": 18,
     "metadata": {},
     "output_type": "execute_result"
    }
   ],
   "source": [
    "s3.intersection(s4)"
   ]
  },
  {
   "cell_type": "code",
   "execution_count": 19,
   "id": "d78abdde-2f93-4d10-af62-ebf68ad74484",
   "metadata": {},
   "outputs": [],
   "source": [
    "s='data science'"
   ]
  },
  {
   "cell_type": "code",
   "execution_count": 20,
   "id": "cd39cb3d-ee4f-49dd-91d7-40b49803c175",
   "metadata": {},
   "outputs": [],
   "source": [
    "s5=frozenset(s)"
   ]
  },
  {
   "cell_type": "code",
   "execution_count": 21,
   "id": "361fbf3a-f2fd-4e93-b2d5-8781a48225cf",
   "metadata": {},
   "outputs": [
    {
     "data": {
      "text/plain": [
       "frozenset({' ', 'a', 'c', 'd', 'e', 'i', 'n', 's', 't'})"
      ]
     },
     "execution_count": 21,
     "metadata": {},
     "output_type": "execute_result"
    }
   ],
   "source": [
    "s5"
   ]
  },
  {
   "cell_type": "markdown",
   "id": "945897c0-d857-43b2-90e5-a6e16cb46bd3",
   "metadata": {},
   "source": [
    "List Comprehension"
   ]
  },
  {
   "cell_type": "code",
   "execution_count": 22,
   "id": "d5191f20-4945-4018-8190-004cf850913d",
   "metadata": {},
   "outputs": [
    {
     "data": {
      "text/plain": [
       "[['t'], ['e'], ['d'], ['c'], ['a'], ['i'], [' '], ['n'], ['s']]"
      ]
     },
     "execution_count": 22,
     "metadata": {},
     "output_type": "execute_result"
    }
   ],
   "source": [
    "[list(x) for x in s5] #frozenset in a list"
   ]
  },
  {
   "cell_type": "code",
   "execution_count": 24,
   "id": "301127db-7c73-4084-8875-0f3473672edf",
   "metadata": {},
   "outputs": [
    {
     "data": {
      "text/plain": [
       "[('t',), ('e',), ('d',), ('c',), ('a',), ('i',), (' ',), ('n',), ('s',)]"
      ]
     },
     "execution_count": 24,
     "metadata": {},
     "output_type": "execute_result"
    }
   ],
   "source": [
    "[tuple(x) for x in s5] #frozenset in a tuple"
   ]
  },
  {
   "cell_type": "code",
   "execution_count": 25,
   "id": "45ab48a6-43cf-4632-bd80-3c8403d7c037",
   "metadata": {},
   "outputs": [
    {
     "data": {
      "text/plain": [
       "[{'t'}, {'e'}, {'d'}, {'c'}, {'a'}, {'i'}, {' '}, {'n'}, {'s'}]"
      ]
     },
     "execution_count": 25,
     "metadata": {},
     "output_type": "execute_result"
    }
   ],
   "source": [
    "[set(x) for x in s5] #frozenset in a set"
   ]
  },
  {
   "cell_type": "code",
   "execution_count": null,
   "id": "691a867d-1d87-4977-8624-413c42544998",
   "metadata": {},
   "outputs": [],
   "source": []
  }
 ],
 "metadata": {
  "kernelspec": {
   "display_name": "Python 3 (ipykernel)",
   "language": "python",
   "name": "python3"
  },
  "language_info": {
   "codemirror_mode": {
    "name": "ipython",
    "version": 3
   },
   "file_extension": ".py",
   "mimetype": "text/x-python",
   "name": "python",
   "nbconvert_exporter": "python",
   "pygments_lexer": "ipython3",
   "version": "3.11.7"
  }
 },
 "nbformat": 4,
 "nbformat_minor": 5
}
