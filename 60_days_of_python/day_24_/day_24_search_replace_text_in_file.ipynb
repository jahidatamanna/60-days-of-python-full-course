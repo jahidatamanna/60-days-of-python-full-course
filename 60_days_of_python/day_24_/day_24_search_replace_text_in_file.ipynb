{
 "cells": [
  {
   "cell_type": "markdown",
   "id": "9d6083cc-ce7f-4030-989e-00c770e0a580",
   "metadata": {},
   "source": [
    "<h4>How to search and replace text in a file in python</h4>"
   ]
  },
  {
   "cell_type": "code",
   "execution_count": 1,
   "id": "483a0686-753b-4a7b-9d11-181e74c6c1bb",
   "metadata": {},
   "outputs": [],
   "source": [
    "search_word=\"akter\"\n",
    "replace_word=\"hasan\"\n",
    "\n",
    "with open(r'day_24.txt','r') as file:\n",
    "    data=file.read()\n",
    "    data=data.replace(search_word,replace_word)"
   ]
  },
  {
   "cell_type": "code",
   "execution_count": 2,
   "id": "37128d7f-743f-413d-9358-30798fde85e5",
   "metadata": {},
   "outputs": [],
   "source": [
    "with open(r'day_24.txt','w') as file:\n",
    "    file.write(data)"
   ]
  },
  {
   "cell_type": "markdown",
   "id": "1baf346e-6263-4020-9b36-65ed4e912be9",
   "metadata": {},
   "source": [
    "<h4>Another way of text replacement</h4>"
   ]
  },
  {
   "cell_type": "code",
   "execution_count": 7,
   "id": "a4306d14-7459-4981-aa4d-aa9c426971f9",
   "metadata": {},
   "outputs": [],
   "source": [
    "text=\"hlw it's me jaheda hasan tamanna.\""
   ]
  },
  {
   "cell_type": "code",
   "execution_count": 8,
   "id": "4183e1d0-a87e-448a-ac62-7baf937e1f4a",
   "metadata": {},
   "outputs": [],
   "source": [
    "import re"
   ]
  },
  {
   "cell_type": "code",
   "execution_count": 9,
   "id": "e627eeca-0aa3-4358-a644-4567743938dc",
   "metadata": {},
   "outputs": [
    {
     "data": {
      "text/plain": [
       "\"hlw it's me jaheda akter tamanna.\""
      ]
     },
     "execution_count": 9,
     "metadata": {},
     "output_type": "execute_result"
    }
   ],
   "source": [
    "re.sub(replace_word,search_word,text)"
   ]
  },
  {
   "cell_type": "code",
   "execution_count": null,
   "id": "be8eacba-4e7e-42f9-9666-a608315d77b9",
   "metadata": {},
   "outputs": [],
   "source": []
  }
 ],
 "metadata": {
  "kernelspec": {
   "display_name": "Python 3 (ipykernel)",
   "language": "python",
   "name": "python3"
  },
  "language_info": {
   "codemirror_mode": {
    "name": "ipython",
    "version": 3
   },
   "file_extension": ".py",
   "mimetype": "text/x-python",
   "name": "python",
   "nbconvert_exporter": "python",
   "pygments_lexer": "ipython3",
   "version": "3.11.7"
  }
 },
 "nbformat": 4,
 "nbformat_minor": 5
}
